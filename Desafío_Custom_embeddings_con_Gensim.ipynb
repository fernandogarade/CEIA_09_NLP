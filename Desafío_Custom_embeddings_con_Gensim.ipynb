{
  "nbformat": 4,
  "nbformat_minor": 0,
  "metadata": {
    "colab": {
      "name": "Desafío - Custom embeddings con Gensim",
      "provenance": [],
      "collapsed_sections": [],
      "include_colab_link": true
    },
    "kernelspec": {
      "name": "python3",
      "display_name": "Python 3"
    }
  },
  "cells": [
    {
      "cell_type": "markdown",
      "metadata": {
        "id": "view-in-github",
        "colab_type": "text"
      },
      "source": [
        "<a href=\"https://colab.research.google.com/github/fernandogarade/CEIA_09_NLP/blob/main/Desaf%C3%ADo_Custom_embeddings_con_Gensim.ipynb\" target=\"_parent\"><img src=\"https://colab.research.google.com/assets/colab-badge.svg\" alt=\"Open In Colab\"/></a>"
      ]
    },
    {
      "cell_type": "markdown",
      "metadata": {
        "id": "sZd5yLnnHOK0"
      },
      "source": [
        "<a href=\"https://www.inove.com.ar\"><img src=\"https://github.com/hernancontigiani/ceia_memorias_especializacion/raw/master/Figures/logoFIUBA.jpg\" width=\"500\" align=\"center\"></a>\n",
        "\n",
        "\n",
        "# Procesamiento de lenguaje natural\n",
        "## Custom embedddings con Gensim\n",
        "\n"
      ]
    },
    {
      "cell_type": "markdown",
      "metadata": {
        "id": "vA7nqkumo9z9"
      },
      "source": [
        "### Objetivo\n",
        "El objetivo es utilizar documentos / corpus para crear embeddings de palabras basado en ese contexto. Se utilizará canciones de bandas para generar los embeddings, es decir, que los vectores tendrán la forma en función de como esa banda haya utilizado las palabras en sus canciones."
      ]
    },
    {
      "cell_type": "code",
      "metadata": {
        "id": "lFToQs5FK5uZ"
      },
      "source": [
        "import pandas as pd\n",
        "import matplotlib.pyplot as plt\n",
        "import seaborn as sns\n",
        "\n",
        "import multiprocessing\n",
        "from gensim.models import Word2Vec"
      ],
      "execution_count": 1,
      "outputs": []
    },
    {
      "cell_type": "markdown",
      "metadata": {
        "id": "g07zJxG7H9vG"
      },
      "source": [
        "### Datos\n",
        "Utilizaremos como dataset canciones de bandas de habla inglés."
      ]
    },
    {
      "cell_type": "code",
      "metadata": {
        "id": "l7z4CSBfpR3X",
        "colab": {
          "base_uri": "https://localhost:8080/"
        },
        "outputId": "c75d6345-33cc-43fb-81e8-24a787b689d3"
      },
      "source": [
        "# Descargar la carpeta de dataset\n",
        "import os\n",
        "import gdown\n",
        "if os.access('./songs_dataset', os.F_OK) is False:\n",
        "    if os.access('simpsons_dataset.zip', os.F_OK) is False:\n",
        "        url = 'https://drive.google.com/uc?id=1VLVgb3fD02XrF2V5OruKvQTOT91juXcs&export=download'\n",
        "        output = 'songs_dataset.zip'\n",
        "        gdown.download(url, output, quiet=False)\n",
        "    !unzip -q songs_dataset.zip   \n",
        "else:\n",
        "    print(\"El dataset ya se encuentra descargado\")"
      ],
      "execution_count": 2,
      "outputs": [
        {
          "output_type": "stream",
          "name": "stderr",
          "text": [
            "Downloading...\n",
            "From: https://drive.google.com/uc?id=1VLVgb3fD02XrF2V5OruKvQTOT91juXcs&export=download\n",
            "To: /content/songs_dataset.zip\n",
            "100%|██████████| 2.09M/2.09M [00:00<00:00, 128MB/s]\n"
          ]
        }
      ]
    },
    {
      "cell_type": "code",
      "metadata": {
        "id": "mysGrIw9ljC2",
        "colab": {
          "base_uri": "https://localhost:8080/"
        },
        "outputId": "1c635298-7f67-4ed7-c923-f740599cefd8"
      },
      "source": [
        "# Posibles bandas\n",
        "os.listdir(\"./songs_dataset/\")"
      ],
      "execution_count": 3,
      "outputs": [
        {
          "output_type": "execute_result",
          "data": {
            "text/plain": [
              "['r-kelly.txt',\n",
              " 'nirvana.txt',\n",
              " 'Lil_Wayne.txt',\n",
              " 'adele.txt',\n",
              " 'nursery_rhymes.txt',\n",
              " 'bjork.txt',\n",
              " 'dickinson.txt',\n",
              " 'cake.txt',\n",
              " 'paul-simon.txt',\n",
              " 'dr-seuss.txt',\n",
              " 'beatles.txt',\n",
              " 'amy-winehouse.txt',\n",
              " 'notorious-big.txt',\n",
              " 'kanye-west.txt',\n",
              " 'lin-manuel-miranda.txt',\n",
              " 'missy-elliott.txt',\n",
              " 'disney.txt',\n",
              " 'bieber.txt',\n",
              " 'lorde.txt',\n",
              " 'bob-dylan.txt',\n",
              " 'rihanna.txt',\n",
              " 'bruno-mars.txt',\n",
              " 'nickelback.txt',\n",
              " 'notorious_big.txt',\n",
              " 'joni-mitchell.txt',\n",
              " 'al-green.txt',\n",
              " 'jimi-hendrix.txt',\n",
              " 'eminem.txt',\n",
              " 'janisjoplin.txt',\n",
              " 'nicki-minaj.txt',\n",
              " 'michael-jackson.txt',\n",
              " 'dolly-parton.txt',\n",
              " 'lil-wayne.txt',\n",
              " 'prince.txt',\n",
              " 'dj-khaled.txt',\n",
              " 'radiohead.txt',\n",
              " 'leonard-cohen.txt',\n",
              " 'alicia-keys.txt',\n",
              " 'lady-gaga.txt',\n",
              " 'blink-182.txt',\n",
              " 'johnny-cash.txt',\n",
              " 'drake.txt',\n",
              " 'Kanye_West.txt',\n",
              " 'britney-spears.txt',\n",
              " 'bob-marley.txt',\n",
              " 'patti-smith.txt',\n",
              " 'ludacris.txt',\n",
              " 'bruce-springsteen.txt',\n",
              " 'kanye.txt']"
            ]
          },
          "metadata": {},
          "execution_count": 3
        }
      ]
    },
    {
      "cell_type": "code",
      "metadata": {
        "id": "ticoqYD1Z3I7",
        "colab": {
          "base_uri": "https://localhost:8080/"
        },
        "outputId": "6ec53c46-20c1-46eb-f7fc-c6cf2bd74c80"
      },
      "source": [
        "# Armar el dataset utilizando salto de línea para separar las oraciones/docs\n",
        "# Dataset Eminem\n",
        "df_eminem = pd.read_csv('songs_dataset/eminem.txt', sep='/n', header=None)\n",
        "\n",
        "# Dataset Rihanna\n",
        "df_rihanna = pd.read_csv('songs_dataset/rihanna.txt', sep='/n', header=None)\n"
      ],
      "execution_count": 5,
      "outputs": [
        {
          "output_type": "stream",
          "name": "stderr",
          "text": [
            "/usr/local/lib/python3.7/dist-packages/ipykernel_launcher.py:3: ParserWarning: Falling back to the 'python' engine because the 'c' engine does not support regex separators (separators > 1 char and different from '\\s+' are interpreted as regex); you can avoid this warning by specifying engine='python'.\n",
            "  This is separate from the ipykernel package so we can avoid doing imports until\n",
            "/usr/local/lib/python3.7/dist-packages/ipykernel_launcher.py:6: ParserWarning: Falling back to the 'python' engine because the 'c' engine does not support regex separators (separators > 1 char and different from '\\s+' are interpreted as regex); you can avoid this warning by specifying engine='python'.\n",
            "  \n"
          ]
        }
      ]
    },
    {
      "cell_type": "code",
      "metadata": {
        "colab": {
          "base_uri": "https://localhost:8080/",
          "height": 204
        },
        "id": "QpAeDEXfdUIx",
        "outputId": "7271bc0c-8c5b-49a2-965b-d7739cf2fa68"
      },
      "source": [
        "df_eminem.head()"
      ],
      "execution_count": 6,
      "outputs": [
        {
          "output_type": "execute_result",
          "data": {
            "text/html": [
              "<div>\n",
              "<style scoped>\n",
              "    .dataframe tbody tr th:only-of-type {\n",
              "        vertical-align: middle;\n",
              "    }\n",
              "\n",
              "    .dataframe tbody tr th {\n",
              "        vertical-align: top;\n",
              "    }\n",
              "\n",
              "    .dataframe thead th {\n",
              "        text-align: right;\n",
              "    }\n",
              "</style>\n",
              "<table border=\"1\" class=\"dataframe\">\n",
              "  <thead>\n",
              "    <tr style=\"text-align: right;\">\n",
              "      <th></th>\n",
              "      <th>0</th>\n",
              "    </tr>\n",
              "  </thead>\n",
              "  <tbody>\n",
              "    <tr>\n",
              "      <th>0</th>\n",
              "      <td>Look, I was gonna go easy on you and not to hu...</td>\n",
              "    </tr>\n",
              "    <tr>\n",
              "      <th>1</th>\n",
              "      <td>But I'm only going to get this one chance</td>\n",
              "    </tr>\n",
              "    <tr>\n",
              "      <th>2</th>\n",
              "      <td>Something's wrong, I can feel it (Six minutes,...</td>\n",
              "    </tr>\n",
              "    <tr>\n",
              "      <th>3</th>\n",
              "      <td>Just a feeling I've got, like something's abou...</td>\n",
              "    </tr>\n",
              "    <tr>\n",
              "      <th>4</th>\n",
              "      <td>If that means, what I think it means, we're in...</td>\n",
              "    </tr>\n",
              "  </tbody>\n",
              "</table>\n",
              "</div>"
            ],
            "text/plain": [
              "                                                   0\n",
              "0  Look, I was gonna go easy on you and not to hu...\n",
              "1          But I'm only going to get this one chance\n",
              "2  Something's wrong, I can feel it (Six minutes,...\n",
              "3  Just a feeling I've got, like something's abou...\n",
              "4  If that means, what I think it means, we're in..."
            ]
          },
          "metadata": {},
          "execution_count": 6
        }
      ]
    },
    {
      "cell_type": "code",
      "metadata": {
        "colab": {
          "base_uri": "https://localhost:8080/",
          "height": 204
        },
        "id": "xF9jxBnCdXja",
        "outputId": "7054c77b-ddbd-4311-fb08-1d5a571252f9"
      },
      "source": [
        "df_rihanna.head()"
      ],
      "execution_count": 7,
      "outputs": [
        {
          "output_type": "execute_result",
          "data": {
            "text/html": [
              "<div>\n",
              "<style scoped>\n",
              "    .dataframe tbody tr th:only-of-type {\n",
              "        vertical-align: middle;\n",
              "    }\n",
              "\n",
              "    .dataframe tbody tr th {\n",
              "        vertical-align: top;\n",
              "    }\n",
              "\n",
              "    .dataframe thead th {\n",
              "        text-align: right;\n",
              "    }\n",
              "</style>\n",
              "<table border=\"1\" class=\"dataframe\">\n",
              "  <thead>\n",
              "    <tr style=\"text-align: right;\">\n",
              "      <th></th>\n",
              "      <th>0</th>\n",
              "    </tr>\n",
              "  </thead>\n",
              "  <tbody>\n",
              "    <tr>\n",
              "      <th>0</th>\n",
              "      <td>Ghost in the mirror</td>\n",
              "    </tr>\n",
              "    <tr>\n",
              "      <th>1</th>\n",
              "      <td>I knew your face once, but now it's unclear</td>\n",
              "    </tr>\n",
              "    <tr>\n",
              "      <th>2</th>\n",
              "      <td>And I can't feel my body now</td>\n",
              "    </tr>\n",
              "    <tr>\n",
              "      <th>3</th>\n",
              "      <td>I'm separate from here and now A drug and a dream</td>\n",
              "    </tr>\n",
              "    <tr>\n",
              "      <th>4</th>\n",
              "      <td>We lost connection, oh come back to me</td>\n",
              "    </tr>\n",
              "  </tbody>\n",
              "</table>\n",
              "</div>"
            ],
            "text/plain": [
              "                                                   0\n",
              "0                                Ghost in the mirror\n",
              "1        I knew your face once, but now it's unclear\n",
              "2                       And I can't feel my body now\n",
              "3  I'm separate from here and now A drug and a dream\n",
              "4             We lost connection, oh come back to me"
            ]
          },
          "metadata": {},
          "execution_count": 7
        }
      ]
    },
    {
      "cell_type": "code",
      "metadata": {
        "id": "LEpKubK9XzXN",
        "colab": {
          "base_uri": "https://localhost:8080/"
        },
        "outputId": "746574ae-3f82-4466-bcd0-7f1a0dd3b63c"
      },
      "source": [
        "print(\"Cantidad de documentos eminem:\", df_eminem.shape[0])\n",
        "print(\"Cantidad de documentos rihanna:\", df_rihanna.shape[0])"
      ],
      "execution_count": 8,
      "outputs": [
        {
          "output_type": "stream",
          "name": "stdout",
          "text": [
            "Cantidad de documentos eminem: 6812\n",
            "Cantidad de documentos rihanna: 3895\n"
          ]
        }
      ]
    },
    {
      "cell_type": "markdown",
      "metadata": {
        "id": "ab94qaFlrA1G"
      },
      "source": [
        "### 1 - Preprocesamiento"
      ]
    },
    {
      "cell_type": "code",
      "metadata": {
        "id": "rIsmMWmjrDHd"
      },
      "source": [
        "from keras.preprocessing.text import text_to_word_sequence\n",
        "\n",
        "sentence_tokens_eminem = []\n",
        "# Recorrer todas las filas y transformar las oraciones\n",
        "# en una secuencia de palabras (esto podría realizarse con NLTK o spaCy también)\n",
        "for _, row in df_eminem[:None].iterrows():\n",
        "    sentence_tokens_eminem.append(text_to_word_sequence(row[0]))\n",
        "\n",
        "sentence_tokens_rihanna = []\n",
        "# Recorrer todas las filas y transformar las oraciones\n",
        "# en una secuencia de palabras (esto podría realizarse con NLTK o spaCy también)\n",
        "for _, row in df_rihanna[:None].iterrows():\n",
        "    sentence_tokens_rihanna.append(text_to_word_sequence(row[0]))"
      ],
      "execution_count": 9,
      "outputs": []
    },
    {
      "cell_type": "code",
      "metadata": {
        "id": "CHepi_DGrbhq",
        "colab": {
          "base_uri": "https://localhost:8080/"
        },
        "outputId": "92ef3e97-73be-4413-e5b2-6a361ca666eb"
      },
      "source": [
        "# Demos un vistazo\n",
        "sentence_tokens_eminem[:2]"
      ],
      "execution_count": 11,
      "outputs": [
        {
          "output_type": "execute_result",
          "data": {
            "text/plain": [
              "[['look',\n",
              "  'i',\n",
              "  'was',\n",
              "  'gonna',\n",
              "  'go',\n",
              "  'easy',\n",
              "  'on',\n",
              "  'you',\n",
              "  'and',\n",
              "  'not',\n",
              "  'to',\n",
              "  'hurt',\n",
              "  'your',\n",
              "  'feelings'],\n",
              " ['but', \"i'm\", 'only', 'going', 'to', 'get', 'this', 'one', 'chance']]"
            ]
          },
          "metadata": {},
          "execution_count": 11
        }
      ]
    },
    {
      "cell_type": "code",
      "metadata": {
        "colab": {
          "base_uri": "https://localhost:8080/"
        },
        "id": "d5m6HmvNdu0Q",
        "outputId": "555edb28-49de-44cb-e14c-1fd992eb6a21"
      },
      "source": [
        "# Demos un vistazo\n",
        "sentence_tokens_rihanna[:2]"
      ],
      "execution_count": 10,
      "outputs": [
        {
          "output_type": "execute_result",
          "data": {
            "text/plain": [
              "[['ghost', 'in', 'the', 'mirror'],\n",
              " ['i', 'knew', 'your', 'face', 'once', 'but', 'now', \"it's\", 'unclear']]"
            ]
          },
          "metadata": {},
          "execution_count": 10
        }
      ]
    },
    {
      "cell_type": "markdown",
      "metadata": {
        "id": "BaXV6nlHr5Aa"
      },
      "source": [
        "### 2 - Crear los vectores (word2vec)"
      ]
    },
    {
      "cell_type": "code",
      "metadata": {
        "id": "OSb0v7h8r7hK"
      },
      "source": [
        "from gensim.models.callbacks import CallbackAny2Vec\n",
        "# Durante el entrenamiento gensim por defecto no informa el \"loss\" en cada época\n",
        "# Sobracargamos el callback para poder tener esta información\n",
        "class callback(CallbackAny2Vec):\n",
        "    \"\"\"\n",
        "    Callback to print loss after each epoch\n",
        "    \"\"\"\n",
        "    def __init__(self):\n",
        "        self.epoch = 0\n",
        "\n",
        "    def on_epoch_end(self, model):\n",
        "        loss = model.get_latest_training_loss()\n",
        "        if self.epoch == 0:\n",
        "            print('Loss after epoch {}: {}'.format(self.epoch, loss))\n",
        "        else:\n",
        "            print('Loss after epoch {}: {}'.format(self.epoch, loss- self.loss_previous_step))\n",
        "        self.epoch += 1\n",
        "        self.loss_previous_step = loss"
      ],
      "execution_count": 12,
      "outputs": []
    },
    {
      "cell_type": "code",
      "metadata": {
        "id": "i0wnDdv9sJ47"
      },
      "source": [
        "# Crearmos el modelo generador de vectoeres\n",
        "# En este caso utilizaremos la estructura modelo CBOW\n",
        "w2v_model_eminem = Word2Vec(min_count=5,    # frecuencia mínima de palabra para incluirla en el vocabulario\n",
        "                     window=2,       # cant de palabras antes y desp de la predicha\n",
        "                     size=300,       # dimensionalidad de los vectores \n",
        "                     negative=20,    # cantidad de negative samples... 0 es no se usa\n",
        "                     workers=1,      # si tienen más cores pueden cambiar este valor\n",
        "                     sg=0)           # modelo 0:CBOW  1:skipgram\n",
        "\n",
        "w2v_model_rihanna = Word2Vec(min_count=5,    # frecuencia mínima de palabra para incluirla en el vocabulario\n",
        "                     window=2,       # cant de palabras antes y desp de la predicha\n",
        "                     size=300,       # dimensionalidad de los vectores \n",
        "                     negative=20,    # cantidad de negative samples... 0 es no se usa\n",
        "                     workers=1,      # si tienen más cores pueden cambiar este valor\n",
        "                     sg=0)           # modelo 0:CBOW  1:skipgram"
      ],
      "execution_count": 13,
      "outputs": []
    },
    {
      "cell_type": "code",
      "metadata": {
        "id": "5lTt8wErsf17"
      },
      "source": [
        "# Buildear el vocabulario con los tokens\n",
        "w2v_model_eminem.build_vocab(sentence_tokens_eminem)\n",
        "\n",
        "w2v_model_rihanna.build_vocab(sentence_tokens_rihanna)"
      ],
      "execution_count": 14,
      "outputs": []
    },
    {
      "cell_type": "code",
      "metadata": {
        "id": "TNc9qt4os5AT",
        "colab": {
          "base_uri": "https://localhost:8080/"
        },
        "outputId": "c0cb1038-b7bb-433b-d849-9d9b6bb5132e"
      },
      "source": [
        "# Cantidad de filas/docs encontradas en el corpus\n",
        "print(\"Cantidad de docs en el corpus de eminem:\", w2v_model_eminem.corpus_count)\n",
        "print(\"Cantidad de docs en el corpus de rihanna:\", w2v_model_rihanna.corpus_count)"
      ],
      "execution_count": 15,
      "outputs": [
        {
          "output_type": "stream",
          "name": "stdout",
          "text": [
            "Cantidad de docs en el corpus de eminem: 6812\n",
            "Cantidad de docs en el corpus de rihanna: 3895\n"
          ]
        }
      ]
    },
    {
      "cell_type": "code",
      "metadata": {
        "id": "idw9cHF3tSMl",
        "colab": {
          "base_uri": "https://localhost:8080/"
        },
        "outputId": "0ce7a1a2-e783-4ef5-c64f-7036410c3359"
      },
      "source": [
        "# Cantidad de words encontradas en el corpus\n",
        "print(\"Cantidad de words distintas en el corpus de eminem:\", len(w2v_model_eminem.wv.vocab))\n",
        "print(\"Cantidad de words distintas en el corpus de rihanna:\", len(w2v_model_rihanna.wv.vocab))"
      ],
      "execution_count": 16,
      "outputs": [
        {
          "output_type": "stream",
          "name": "stdout",
          "text": [
            "Cantidad de words distintas en el corpus de eminem: 1347\n",
            "Cantidad de words distintas en el corpus de rihanna: 660\n"
          ]
        }
      ]
    },
    {
      "cell_type": "markdown",
      "metadata": {
        "id": "fC9mZ8DPk-UC"
      },
      "source": [
        "### 3 - Entrenar el modelo generador"
      ]
    },
    {
      "cell_type": "code",
      "metadata": {
        "id": "QSp-x0PAsq56",
        "colab": {
          "base_uri": "https://localhost:8080/"
        },
        "outputId": "f2ef0cdf-8347-4c0b-b965-efe31bfd088f"
      },
      "source": [
        "# Entrenamos el modelo generador de vectores\n",
        "# Utilizamos nuestro callback\n",
        "w2v_model_eminem.train(sentence_tokens_eminem,\n",
        "                 total_examples=w2v_model_eminem.corpus_count,\n",
        "                 epochs=100,\n",
        "                 compute_loss = True,\n",
        "                 callbacks=[callback()]\n",
        "                 )"
      ],
      "execution_count": 20,
      "outputs": [
        {
          "output_type": "stream",
          "name": "stdout",
          "text": [
            "Loss after epoch 0: 134750.390625\n",
            "Loss after epoch 1: 130926.296875\n",
            "Loss after epoch 2: 127738.59375\n",
            "Loss after epoch 3: 124569.0\n",
            "Loss after epoch 4: 118723.59375\n",
            "Loss after epoch 5: 114442.5625\n",
            "Loss after epoch 6: 112670.5\n",
            "Loss after epoch 7: 109887.9375\n",
            "Loss after epoch 8: 105901.0\n",
            "Loss after epoch 9: 98632.5\n",
            "Loss after epoch 10: 97646.875\n",
            "Loss after epoch 11: 95614.0\n",
            "Loss after epoch 12: 93633.25\n",
            "Loss after epoch 13: 92742.25\n",
            "Loss after epoch 14: 92211.625\n",
            "Loss after epoch 15: 89832.125\n",
            "Loss after epoch 16: 89784.625\n",
            "Loss after epoch 17: 88360.875\n",
            "Loss after epoch 18: 86726.5\n",
            "Loss after epoch 19: 86602.125\n",
            "Loss after epoch 20: 80801.125\n",
            "Loss after epoch 21: 79853.75\n",
            "Loss after epoch 22: 78972.0\n",
            "Loss after epoch 23: 78853.0\n",
            "Loss after epoch 24: 77735.25\n",
            "Loss after epoch 25: 77614.5\n",
            "Loss after epoch 26: 76597.0\n",
            "Loss after epoch 27: 76503.25\n",
            "Loss after epoch 28: 75374.0\n",
            "Loss after epoch 29: 75471.0\n",
            "Loss after epoch 30: 75120.5\n",
            "Loss after epoch 31: 74653.75\n",
            "Loss after epoch 32: 74461.5\n",
            "Loss after epoch 33: 74686.25\n",
            "Loss after epoch 34: 73797.0\n",
            "Loss after epoch 35: 73207.5\n",
            "Loss after epoch 36: 72750.25\n",
            "Loss after epoch 37: 72538.25\n",
            "Loss after epoch 38: 72025.25\n",
            "Loss after epoch 39: 72585.75\n",
            "Loss after epoch 40: 72056.5\n",
            "Loss after epoch 41: 71657.0\n",
            "Loss after epoch 42: 71073.0\n",
            "Loss after epoch 43: 71173.75\n",
            "Loss after epoch 44: 70782.0\n",
            "Loss after epoch 45: 70798.25\n",
            "Loss after epoch 46: 70681.75\n",
            "Loss after epoch 47: 70369.5\n",
            "Loss after epoch 48: 66280.25\n",
            "Loss after epoch 49: 63921.0\n",
            "Loss after epoch 50: 63598.5\n",
            "Loss after epoch 51: 64140.0\n",
            "Loss after epoch 52: 63614.0\n",
            "Loss after epoch 53: 62962.5\n",
            "Loss after epoch 54: 63345.5\n",
            "Loss after epoch 55: 63103.0\n",
            "Loss after epoch 56: 62766.5\n",
            "Loss after epoch 57: 62646.0\n",
            "Loss after epoch 58: 62567.5\n",
            "Loss after epoch 59: 62620.5\n",
            "Loss after epoch 60: 61817.0\n",
            "Loss after epoch 61: 62195.5\n",
            "Loss after epoch 62: 61658.0\n",
            "Loss after epoch 63: 61489.5\n",
            "Loss after epoch 64: 61873.0\n",
            "Loss after epoch 65: 61871.5\n",
            "Loss after epoch 66: 61313.0\n",
            "Loss after epoch 67: 60886.5\n",
            "Loss after epoch 68: 60766.0\n",
            "Loss after epoch 69: 60965.0\n",
            "Loss after epoch 70: 60470.5\n",
            "Loss after epoch 71: 60095.0\n",
            "Loss after epoch 72: 60431.0\n",
            "Loss after epoch 73: 60090.0\n",
            "Loss after epoch 74: 59977.5\n",
            "Loss after epoch 75: 60005.0\n",
            "Loss after epoch 76: 59322.0\n",
            "Loss after epoch 77: 59530.5\n",
            "Loss after epoch 78: 59152.5\n",
            "Loss after epoch 79: 59128.5\n",
            "Loss after epoch 80: 58431.0\n",
            "Loss after epoch 81: 58679.5\n",
            "Loss after epoch 82: 58927.0\n",
            "Loss after epoch 83: 58217.5\n",
            "Loss after epoch 84: 58476.0\n",
            "Loss after epoch 85: 58249.0\n",
            "Loss after epoch 86: 58210.5\n",
            "Loss after epoch 87: 58173.0\n",
            "Loss after epoch 88: 57639.5\n",
            "Loss after epoch 89: 58006.5\n",
            "Loss after epoch 90: 57904.0\n",
            "Loss after epoch 91: 57304.5\n",
            "Loss after epoch 92: 57209.5\n",
            "Loss after epoch 93: 57475.0\n",
            "Loss after epoch 94: 56990.5\n",
            "Loss after epoch 95: 57173.0\n",
            "Loss after epoch 96: 56574.0\n",
            "Loss after epoch 97: 56579.0\n",
            "Loss after epoch 98: 56445.5\n",
            "Loss after epoch 99: 56535.5\n"
          ]
        },
        {
          "output_type": "execute_result",
          "data": {
            "text/plain": [
              "(3930601, 6483800)"
            ]
          },
          "metadata": {},
          "execution_count": 20
        }
      ]
    },
    {
      "cell_type": "code",
      "metadata": {
        "colab": {
          "base_uri": "https://localhost:8080/"
        },
        "id": "dizXKxgQewg2",
        "outputId": "e927200a-8dc4-4d5e-edfb-1f6f0660773f"
      },
      "source": [
        "w2v_model_rihanna.train(sentence_tokens_rihanna,\n",
        "                 total_examples=w2v_model_rihanna.corpus_count,\n",
        "                 epochs=100,\n",
        "                 compute_loss = True,\n",
        "                 callbacks=[callback()]\n",
        "                 )"
      ],
      "execution_count": 19,
      "outputs": [
        {
          "output_type": "stream",
          "name": "stdout",
          "text": [
            "Loss after epoch 0: 56060.453125\n",
            "Loss after epoch 1: 53750.625\n",
            "Loss after epoch 2: 52196.140625\n",
            "Loss after epoch 3: 50403.65625\n",
            "Loss after epoch 4: 49001.875\n",
            "Loss after epoch 5: 47493.4375\n",
            "Loss after epoch 6: 46506.0625\n",
            "Loss after epoch 7: 45209.40625\n",
            "Loss after epoch 8: 43829.96875\n",
            "Loss after epoch 9: 42984.6875\n",
            "Loss after epoch 10: 42257.0\n",
            "Loss after epoch 11: 40406.625\n",
            "Loss after epoch 12: 39620.875\n",
            "Loss after epoch 13: 38887.3125\n",
            "Loss after epoch 14: 38231.1875\n",
            "Loss after epoch 15: 37671.8125\n",
            "Loss after epoch 16: 37992.4375\n",
            "Loss after epoch 17: 37001.6875\n",
            "Loss after epoch 18: 37000.625\n",
            "Loss after epoch 19: 36566.1875\n",
            "Loss after epoch 20: 36056.3125\n",
            "Loss after epoch 21: 35719.3125\n",
            "Loss after epoch 22: 35371.0625\n",
            "Loss after epoch 23: 35423.8125\n",
            "Loss after epoch 24: 34779.3125\n",
            "Loss after epoch 25: 33693.25\n",
            "Loss after epoch 26: 33354.5\n",
            "Loss after epoch 27: 32788.25\n",
            "Loss after epoch 28: 33270.375\n",
            "Loss after epoch 29: 32648.875\n",
            "Loss after epoch 30: 32883.875\n",
            "Loss after epoch 31: 32422.625\n",
            "Loss after epoch 32: 32479.875\n",
            "Loss after epoch 33: 32359.75\n",
            "Loss after epoch 34: 32530.75\n",
            "Loss after epoch 35: 31928.125\n",
            "Loss after epoch 36: 32282.125\n",
            "Loss after epoch 37: 31643.5\n",
            "Loss after epoch 38: 31397.125\n",
            "Loss after epoch 39: 32082.875\n",
            "Loss after epoch 40: 32233.125\n",
            "Loss after epoch 41: 31191.125\n",
            "Loss after epoch 42: 31677.5\n",
            "Loss after epoch 43: 31705.875\n",
            "Loss after epoch 44: 31066.5\n",
            "Loss after epoch 45: 31305.75\n",
            "Loss after epoch 46: 31314.375\n",
            "Loss after epoch 47: 31018.75\n",
            "Loss after epoch 48: 31060.875\n",
            "Loss after epoch 49: 31353.125\n",
            "Loss after epoch 50: 30916.125\n",
            "Loss after epoch 51: 31083.125\n",
            "Loss after epoch 52: 31070.25\n",
            "Loss after epoch 53: 30701.25\n",
            "Loss after epoch 54: 31014.25\n",
            "Loss after epoch 55: 30381.375\n",
            "Loss after epoch 56: 31034.125\n",
            "Loss after epoch 57: 30316.75\n",
            "Loss after epoch 58: 29117.75\n",
            "Loss after epoch 59: 29243.75\n",
            "Loss after epoch 60: 28954.0\n",
            "Loss after epoch 61: 28871.5\n",
            "Loss after epoch 62: 28829.0\n",
            "Loss after epoch 63: 29052.25\n",
            "Loss after epoch 64: 28757.0\n",
            "Loss after epoch 65: 28736.75\n",
            "Loss after epoch 66: 28772.75\n",
            "Loss after epoch 67: 28575.75\n",
            "Loss after epoch 68: 28923.25\n",
            "Loss after epoch 69: 28465.5\n",
            "Loss after epoch 70: 28522.5\n",
            "Loss after epoch 71: 28367.25\n",
            "Loss after epoch 72: 28676.5\n",
            "Loss after epoch 73: 28146.25\n",
            "Loss after epoch 74: 28634.25\n",
            "Loss after epoch 75: 28554.0\n",
            "Loss after epoch 76: 28546.0\n",
            "Loss after epoch 77: 28373.25\n",
            "Loss after epoch 78: 28175.5\n",
            "Loss after epoch 79: 27829.75\n",
            "Loss after epoch 80: 28249.5\n",
            "Loss after epoch 81: 27878.0\n",
            "Loss after epoch 82: 27381.0\n",
            "Loss after epoch 83: 27893.5\n",
            "Loss after epoch 84: 27916.25\n",
            "Loss after epoch 85: 27939.25\n",
            "Loss after epoch 86: 28105.5\n",
            "Loss after epoch 87: 28060.5\n",
            "Loss after epoch 88: 27692.5\n",
            "Loss after epoch 89: 27550.75\n",
            "Loss after epoch 90: 27567.5\n",
            "Loss after epoch 91: 27511.25\n",
            "Loss after epoch 92: 27511.5\n",
            "Loss after epoch 93: 27587.75\n",
            "Loss after epoch 94: 27658.75\n",
            "Loss after epoch 95: 27800.75\n",
            "Loss after epoch 96: 27448.75\n",
            "Loss after epoch 97: 27199.25\n",
            "Loss after epoch 98: 27579.0\n",
            "Loss after epoch 99: 27598.25\n"
          ]
        },
        {
          "output_type": "execute_result",
          "data": {
            "text/plain": [
              "(1786806, 3017900)"
            ]
          },
          "metadata": {},
          "execution_count": 19
        }
      ]
    },
    {
      "cell_type": "markdown",
      "metadata": {
        "id": "ddT9NVuNlCAe"
      },
      "source": [
        "### 4 - Ensayar"
      ]
    },
    {
      "cell_type": "code",
      "metadata": {
        "id": "6cHN9xGLuPEm",
        "colab": {
          "base_uri": "https://localhost:8080/"
        },
        "outputId": "5033c660-c50c-4be2-aeb8-768402b958ec"
      },
      "source": [
        "# Palabras que MÁS se relacionan con...:\n",
        "w2v_model_eminem.wv.most_similar(positive=[\"you\"], topn=10)"
      ],
      "execution_count": 28,
      "outputs": [
        {
          "output_type": "execute_result",
          "data": {
            "text/plain": [
              "[('i', 0.5925841927528381),\n",
              " ('they', 0.48412638902664185),\n",
              " ('me', 0.46879324316978455),\n",
              " ('it', 0.4563320577144623),\n",
              " ('just', 0.3848724365234375),\n",
              " ('we', 0.3765586316585541),\n",
              " ('that', 0.3650105893611908),\n",
              " (\"don't\", 0.3496406674385071),\n",
              " (\"y'all\", 0.34360986948013306),\n",
              " ('but', 0.32276538014411926)]"
            ]
          },
          "metadata": {},
          "execution_count": 28
        }
      ]
    },
    {
      "cell_type": "code",
      "metadata": {
        "id": "47HiU5gdkdMq",
        "colab": {
          "base_uri": "https://localhost:8080/"
        },
        "outputId": "71cfecc5-49ca-41c6-b442-cb5497e21884"
      },
      "source": [
        "# Palabras que MÁS se relacionan con...:\n",
        "w2v_model_rihanna.wv.most_similar(positive=[\"you\"], topn=10)"
      ],
      "execution_count": 27,
      "outputs": [
        {
          "output_type": "execute_result",
          "data": {
            "text/plain": [
              "[('i', 0.5055983066558838),\n",
              " ('me', 0.37097030878067017),\n",
              " ('to', 0.33557185530662537),\n",
              " ('it', 0.29936838150024414),\n",
              " ('they', 0.29156580567359924),\n",
              " ('him', 0.28220003843307495),\n",
              " ('some', 0.2717239260673523),\n",
              " ('so', 0.2644213140010834),\n",
              " ('ever', 0.26075857877731323),\n",
              " ('touch', 0.25831353664398193)]"
            ]
          },
          "metadata": {},
          "execution_count": 27
        }
      ]
    },
    {
      "cell_type": "markdown",
      "metadata": {
        "id": "Z97pSYIUfeWJ"
      },
      "source": [
        "Vemos que utilizando cualquiera de los dos corpus, las palabras que más se realcionan con 'you' son otros pronombres personales como i, they o me."
      ]
    },
    {
      "cell_type": "code",
      "metadata": {
        "colab": {
          "base_uri": "https://localhost:8080/"
        },
        "id": "9wDSDOLJf3O6",
        "outputId": "103e5227-00fa-4ff3-b877-d1c3609789b6"
      },
      "source": [
        "# Palabras que MÁS se relacionan con...:\n",
        "w2v_model_eminem.wv.most_similar(positive=[\"love\"], topn=10)"
      ],
      "execution_count": 29,
      "outputs": [
        {
          "output_type": "execute_result",
          "data": {
            "text/plain": [
              "[('hate', 0.3057187497615814),\n",
              " ('only', 0.2860211730003357),\n",
              " ('swear', 0.2568838894367218),\n",
              " ('need', 0.24828752875328064),\n",
              " ('forget', 0.23617541790008545),\n",
              " ('favors', 0.2309073656797409),\n",
              " ('longer', 0.23083369433879852),\n",
              " ('drive', 0.22008895874023438),\n",
              " ('hear', 0.21293339133262634),\n",
              " ('ma', 0.21262745559215546)]"
            ]
          },
          "metadata": {},
          "execution_count": 29
        }
      ]
    },
    {
      "cell_type": "code",
      "metadata": {
        "colab": {
          "base_uri": "https://localhost:8080/"
        },
        "id": "TlNE5SiQf65T",
        "outputId": "ab914e85-737b-4c68-be28-ffcb1ad6293b"
      },
      "source": [
        "# Palabras que MÁS se relacionan con...:\n",
        "w2v_model_rihanna.wv.most_similar(positive=[\"love\"], topn=10)"
      ],
      "execution_count": 30,
      "outputs": [
        {
          "output_type": "execute_result",
          "data": {
            "text/plain": [
              "[('mine', 0.36859679222106934),\n",
              " ('baby', 0.3198685646057129),\n",
              " ('hate', 0.31841856241226196),\n",
              " ('need', 0.30098867416381836),\n",
              " ('lie', 0.29890236258506775),\n",
              " ('used', 0.2822553813457489),\n",
              " ('stupid', 0.27180230617523193),\n",
              " ('soul', 0.2703780233860016),\n",
              " ('eye', 0.26519453525543213),\n",
              " ('talk', 0.2501453459262848)]"
            ]
          },
          "metadata": {},
          "execution_count": 30
        }
      ]
    },
    {
      "cell_type": "markdown",
      "metadata": {
        "id": "gG_v3pJ0f-P8"
      },
      "source": [
        "Sin embargo, al analizar las palabras que se encuentran más cercanas de 'love' cuando se entrenan los modelos con uno y otro corpus las palabras más próximas son muy distintas (con excepción de hate que aparece en ambos TOP 10)"
      ]
    },
    {
      "cell_type": "markdown",
      "metadata": {
        "id": "_g8UVWe6lFmh"
      },
      "source": [
        "### 5 - Visualizar agrupación de vectores"
      ]
    },
    {
      "cell_type": "code",
      "metadata": {
        "id": "pDxEVXAivjr9"
      },
      "source": [
        "from sklearn.decomposition import IncrementalPCA    \n",
        "from sklearn.manifold import TSNE                   \n",
        "import numpy as np                                  \n",
        "\n",
        "def reduce_dimensions(model):\n",
        "    num_dimensions = 2  \n",
        "\n",
        "    vectors = np.asarray(model.wv.vectors)\n",
        "    labels = np.asarray(model.wv.index2word)  \n",
        "\n",
        "    tsne = TSNE(n_components=num_dimensions, random_state=0)\n",
        "    vectors = tsne.fit_transform(vectors)\n",
        "\n",
        "    x_vals = [v[0] for v in vectors]\n",
        "    y_vals = [v[1] for v in vectors]\n",
        "    return x_vals, y_vals, labels"
      ],
      "execution_count": 34,
      "outputs": []
    },
    {
      "cell_type": "code",
      "metadata": {
        "id": "NCCXtDpcugmd",
        "colab": {
          "base_uri": "https://localhost:8080/",
          "height": 542
        },
        "outputId": "3a64734e-36df-4cbf-bc24-07be653a7ab2"
      },
      "source": [
        "# Graficar los embedddings en 2D\n",
        "import plotly.graph_objects as go\n",
        "import plotly.express as px\n",
        "\n",
        "x_vals, y_vals, labels = reduce_dimensions(w2v_model_eminem)\n",
        "\n",
        "MAX_WORDS=200\n",
        "fig = px.scatter(x=x_vals[:MAX_WORDS], y=y_vals[:MAX_WORDS], text=labels[:MAX_WORDS])\n",
        "fig.show(renderer=\"colab\") # esto para plotly en colab"
      ],
      "execution_count": 36,
      "outputs": [
        {
          "output_type": "display_data",
          "data": {
            "text/html": [
              "<html>\n",
              "<head><meta charset=\"utf-8\" /></head>\n",
              "<body>\n",
              "    <div>\n",
              "            <script src=\"https://cdnjs.cloudflare.com/ajax/libs/mathjax/2.7.5/MathJax.js?config=TeX-AMS-MML_SVG\"></script><script type=\"text/javascript\">if (window.MathJax) {MathJax.Hub.Config({SVG: {font: \"STIX-Web\"}});}</script>\n",
              "                <script type=\"text/javascript\">window.PlotlyConfig = {MathJaxConfig: 'local'};</script>\n",
              "        <script src=\"https://cdn.plot.ly/plotly-latest.min.js\"></script>    \n",
              "            <div id=\"e53c1f2a-f393-4eb2-8d86-73afb14eb8b0\" class=\"plotly-graph-div\" style=\"height:525px; width:100%;\"></div>\n",
              "            <script type=\"text/javascript\">\n",
              "                \n",
              "                    window.PLOTLYENV=window.PLOTLYENV || {};\n",
              "                    \n",
              "                if (document.getElementById(\"e53c1f2a-f393-4eb2-8d86-73afb14eb8b0\")) {\n",
              "                    Plotly.newPlot(\n",
              "                        'e53c1f2a-f393-4eb2-8d86-73afb14eb8b0',\n",
              "                        [{\"hoverlabel\": {\"namelength\": 0}, \"hovertemplate\": \"x=%{x}<br>y=%{y}<br>text=%{text}\", \"legendgroup\": \"\", \"marker\": {\"color\": \"#636efa\", \"symbol\": \"circle\"}, \"mode\": \"markers+text\", \"name\": \"\", \"showlegend\": false, \"text\": [\"i\", \"the\", \"you\", \"to\", \"a\", \"and\", \"my\", \"i'm\", \"it\", \"me\", \"in\", \"that\", \"like\", \"of\", \"this\", \"but\", \"just\", \"so\", \"on\", \"is\", \"your\", \"don't\", \"up\", \"with\", \"get\", \"for\", \"be\", \"it's\", \"no\", \"all\", \"know\", \"what\", \"now\", \"out\", \"when\", \"they\", \"was\", \"not\", \"fuck\", \"ain't\", \"got\", \"go\", \"at\", \"can\", \"back\", \"if\", \"shit\", \"we\", \"he\", \"do\", \"one\", \"from\", \"'cause\", \"as\", \"never\", \"see\", \"think\", \"say\", \"his\", \"make\", \"you're\", \"off\", \"oh\", \"that's\", \"way\", \"down\", \"who\", \"her\", \"have\", \"can't\", \"take\", \"right\", \"ass\", \"bitch\", \"too\", \"or\", \"name\", \"let\", \"want\", \"love\", \"then\", \"are\", \"i'll\", \"these\", \"time\", \"am\", \"how\", \"been\", \"shady\", \"'em\", \"even\", \"why\", \"feel\", \"him\", \"yeah\", \"baby\", \"man\", \"cause\", \"gonna\", \"come\", \"still\", \"slim\", \"about\", \"he's\", \"look\", \"wanna\", \"little\", \"some\", \"through\", \"could\", \"an\", \"only\", \"did\", \"life\", \"girl\", \"over\", \"here\", \"put\", \"give\", \"better\", \"more\", \"need\", \"had\", \"said\", \"there\", \"i've\", \"she\", \"everybody\", \"by\", \"stand\", \"fuckin'\", \"aah\", \"them\", \"ever\", \"fucking\", \"tell\", \"rap\", \"god\", \"bad\", \"again\", \"crazy\", \"world\", \"will\", \"nothing\", \"before\", \"us\", \"try\", \"stop\", \"maybe\", \"would\", \"hear\", \"new\", \"keep\", \"where\", \"own\", \"please\", \"really\", \"something\", \"every\", \"made\", \"same\", \"blow\", \"day\", \"around\", \"gotta\", \"call\", \"into\", \"'til\", \"head\", \"there's\", \"won't\", \"boy\", \"mom\", \"yo\", \"didn't\", \"well\", \"face\", \"white\", \"shot\", \"real\", \"gone\", \"once\", \"comes\", \"guess\", \"thing\", \"night\", \"ya\", \"while\", \"lose\", \"two\", \"let's\", \"shake\", \"people\", \"hit\", \"yourself\", \"show\", \"ha\", \"find\", \"going\", \"goes\"], \"type\": \"scatter\", \"x\": [13.708014488220215, -3.865068197250366, 13.630043983459473, -2.2917561531066895, -3.582425594329834, 12.196029663085938, -4.434322834014893, 9.027165412902832, 13.581205368041992, 13.659972190856934, -6.728311538696289, 3.1237218379974365, -1.9491653442382812, -10.947608947753906, -9.957605361938477, 7.512645721435547, 12.51953125, 9.80162525177002, 0.2623096704483032, 0.05704962834715843, -3.8413116931915283, 8.85546588897705, -6.147488594055176, -0.22439511120319366, 4.232478618621826, -10.752009391784668, 2.4667561054229736, 6.7473015785217285, 9.59763240814209, -11.973371505737305, 8.97712230682373, 11.855278015136719, -0.6274845004081726, -3.176172971725464, 8.507665634155273, 13.759777069091797, 11.991613388061523, 6.448672294616699, 7.041959285736084, 8.562304496765137, -5.648518085479736, 0.14435257017612457, 4.330380916595459, 9.093045234680176, -1.532832145690918, 3.7514126300811768, -1.301059365272522, 13.867220878601074, 3.104296922683716, -0.7460229992866516, -0.9098168015480042, -0.5291284918785095, 7.386141777038574, 4.5631256103515625, -1.5240757465362549, -3.390594482421875, -1.6872644424438477, 11.674267768859863, -4.399712085723877, 0.2849404513835907, 9.059076309204102, -2.8493611812591553, 4.0861101150512695, 6.300422668457031, 9.002641677856445, 7.182391166687012, 7.469311237335205, -6.610518455505371, 7.397009372711182, 10.088706970214844, -0.043532151728868484, 3.478187322616577, -7.550656318664551, -10.721099853515625, 9.36653995513916, 10.53383731842041, 11.209288597106934, -9.049527168273926, 8.690423011779785, 6.629756450653076, 7.693470001220703, -3.7966580390930176, 4.641351699829102, -12.355847358703613, -7.703907489776611, -4.443739891052246, 3.5918045043945312, 0.7687147259712219, 1.5519533157348633, 13.144640922546387, 8.486478805541992, 5.871945858001709, 10.970484733581543, -1.1138697862625122, 3.9916510581970215, 5.530362129211426, -5.578553199768066, 1.5039364099502563, 5.494340419769287, 3.333653688430786, 6.457734107971191, 2.5386176109313965, 7.572215557098389, 11.418798446655273, 0.750330924987793, 3.598680257797241, 1.4584070444107056, 5.817892074584961, -7.623325824737549, 8.760741233825684, -9.228341102600098, 4.370611667633057, 9.475741386413574, -13.244115829467773, 2.7510621547698975, -9.39328670501709, 4.710882186889648, -5.395317554473877, 3.7504830360412598, 10.171503067016602, 10.602158546447754, 5.448315620422363, 9.20186710357666, -2.11698317527771, 4.40458869934082, 0.8591108918190002, 6.158941745758057, -3.329866409301758, -8.983917236328125, -8.542057991027832, -2.054490327835083, 0.13186372816562653, -4.655838489532471, 11.43471622467041, -14.812922477722168, -0.6892274022102356, 1.6002025604248047, 4.677922248840332, 4.348437309265137, -13.443343162536621, 5.443060874938965, -3.185309648513794, 7.372186183929443, 4.964727878570557, 8.226855278015137, -1.8779332637786865, 7.81852912902832, 7.117746353149414, 11.086302757263184, 7.777582168579102, -7.5714874267578125, -5.2550177574157715, 6.423801898956299, -7.60601806640625, -1.874108910560608, 12.848579406738281, -2.441290855407715, -2.0189321041107178, -5.7937750816345215, -3.035259962081909, -10.625456809997559, -8.319076538085938, 5.458545684814453, -4.532611846923828, 11.20409107208252, 3.6129555702209473, 6.408034324645996, -3.2313661575317383, 3.3134055137634277, 9.560527801513672, 8.62942886352539, 7.729518890380859, 12.240087509155273, 4.310358047485352, 4.841602325439453, 4.317571640014648, -1.363956093788147, -3.406480550765991, -3.1631486415863037, 1.8432773351669312, 11.857470512390137, 0.0518295094370842, 6.3768415451049805, 8.480874061584473, 3.688922166824341, -7.057716369628906, 2.6466240882873535, 1.058537244796753, -3.5019843578338623, -6.6012654304504395, -3.564094305038452, -7.928346157073975, -5.786693096160889, 2.1970157623291016, 1.6832683086395264, -4.3292694091796875, 0.5339173078536987, 10.329819679260254, 2.5484375953674316, 9.286375999450684], \"xaxis\": \"x\", \"y\": [1.166009783744812, -0.8248130679130554, 1.2540870904922485, -13.994908332824707, 2.6733341217041016, 0.6252619624137878, 0.49239084124565125, 8.403061866760254, 1.2687221765518188, 1.3651032447814941, 0.7085884213447571, 0.2844385504722595, -9.408355712890625, 1.665144681930542, 9.594762802124023, -1.1704407930374146, 0.4392092823982239, -1.2882541418075562, -10.471842765808105, 6.033175468444824, 0.35772404074668884, -2.311863422393799, -1.1067073345184326, 5.690520763397217, 4.689544200897217, -6.787281036376953, -5.0146331787109375, -4.767899513244629, 4.323006629943848, -2.0419390201568604, -2.799818515777588, 2.4390041828155518, -1.7312564849853516, -2.014382839202881, -6.017979621887207, 1.2456187009811401, -1.3634127378463745, -2.9409587383270264, 9.045656204223633, 5.446770668029785, 1.4638454914093018, -4.809574604034424, 11.086188316345215, -1.5557249784469604, -1.3437808752059937, -0.8234320282936096, -3.7456822395324707, 1.0623681545257568, -0.8056071400642395, -4.881957054138184, 11.392943382263184, -9.526984214782715, -0.26010245084762573, -6.524259567260742, -2.8287861347198486, -5.29163122177124, -3.797266960144043, -3.3349196910858154, 0.31883880496025085, 2.4668238162994385, 8.350497245788574, 7.77391242980957, 1.5834165811538696, -5.140339374542236, -9.637197494506836, -10.314388275146484, 7.14449405670166, 5.982733249664307, -8.907026290893555, -0.19086061418056488, -5.077945232391357, 3.1343307495117188, 9.045677185058594, -4.983628273010254, -12.420860290527344, 7.356997966766357, 8.846658706665039, 7.295080661773682, -3.4638969898223877, -2.3268768787384033, -3.6122548580169678, -5.002504348754883, -5.724427223205566, -0.08665873110294342, 10.694766998291016, 12.85204792022705, -1.6450930833816528, -12.011585235595703, 7.437873840332031, 1.8311588764190674, -1.3770967721939087, -1.649390697479248, -6.710244178771973, 6.033547878265381, 2.243523597717285, -1.2087175846099854, -4.812644958496094, 8.480114936828613, -2.5645604133605957, -10.710307121276855, -3.467982292175293, 8.127294540405273, 0.6070606708526611, 4.077854156494141, -2.6736598014831543, 3.3683383464813232, -5.471665382385254, -0.298007071018219, 4.160175800323486, 4.481231212615967, 10.75899887084961, 6.334568977355957, 2.59498929977417, 1.2805347442626953, 1.6740576028823853, 9.09256649017334, -3.1685292720794678, -3.3806416988372803, 8.8521146774292, 1.6188827753067017, 5.507258415222168, -0.8036134243011475, 5.647017478942871, -4.72940731048584, 0.6340129375457764, -7.998027801513672, 7.6069254875183105, -12.5872802734375, -4.121506214141846, 2.4448325634002686, 5.074709892272949, -1.019374132156372, 10.04007339477539, -1.5191885232925415, 1.5262081623077393, -3.2932069301605225, 3.6844992637634277, 0.8258302211761475, -2.0330731868743896, -5.762901306152344, -1.5896692276000977, 2.103907346725464, 3.3465867042541504, -4.8029937744140625, 3.079030752182007, -2.7255406379699707, 4.624241828918457, 1.7488843202590942, 0.15972012281417847, 1.9360888004302979, -6.666524410247803, 2.012495994567871, 1.552545428276062, -5.6294097900390625, 10.365117073059082, -6.96052360534668, -5.059808731079102, -11.397400856018066, 9.85740852355957, -5.769689083099365, 5.03007698059082, 4.961820602416992, 11.394552230834961, 5.697858810424805, -9.114729881286621, -7.078543663024902, -8.366331100463867, 0.1530090868473053, 13.649206161499023, 5.905871868133545, 6.009963512420654, -10.740514755249023, 7.432703495025635, 4.465330123901367, 2.0468127727508545, 1.7890392541885376, 7.497375965118408, 8.535151481628418, -2.5510506629943848, 1.3938095569610596, -3.3965678215026855, 10.27238941192627, -5.563279628753662, 10.286471366882324, 5.484768390655518, -1.4462987184524536, 0.32662615180015564, -1.5382364988327026, -10.807580947875977, -0.44609835743904114, -8.942144393920898, 7.322922229766846, -7.184527397155762, 3.238041400909424, 9.965476989746094, -4.855685234069824, 9.713149070739746, -4.163649082183838, -6.5116729736328125, 6.077111721038818], \"yaxis\": \"y\"}],\n",
              "                        {\"legend\": {\"tracegroupgap\": 0}, \"margin\": {\"t\": 60}, \"template\": {\"data\": {\"bar\": [{\"error_x\": {\"color\": \"#2a3f5f\"}, \"error_y\": {\"color\": \"#2a3f5f\"}, \"marker\": {\"line\": {\"color\": \"#E5ECF6\", \"width\": 0.5}}, \"type\": \"bar\"}], \"barpolar\": [{\"marker\": {\"line\": {\"color\": \"#E5ECF6\", \"width\": 0.5}}, \"type\": \"barpolar\"}], \"carpet\": [{\"aaxis\": {\"endlinecolor\": \"#2a3f5f\", \"gridcolor\": \"white\", \"linecolor\": \"white\", \"minorgridcolor\": \"white\", \"startlinecolor\": \"#2a3f5f\"}, \"baxis\": {\"endlinecolor\": \"#2a3f5f\", \"gridcolor\": \"white\", \"linecolor\": \"white\", \"minorgridcolor\": \"white\", \"startlinecolor\": \"#2a3f5f\"}, \"type\": \"carpet\"}], \"choropleth\": [{\"colorbar\": {\"outlinewidth\": 0, \"ticks\": \"\"}, \"type\": \"choropleth\"}], \"contour\": [{\"colorbar\": {\"outlinewidth\": 0, \"ticks\": \"\"}, \"colorscale\": [[0.0, \"#0d0887\"], [0.1111111111111111, \"#46039f\"], [0.2222222222222222, \"#7201a8\"], [0.3333333333333333, \"#9c179e\"], [0.4444444444444444, \"#bd3786\"], [0.5555555555555556, \"#d8576b\"], [0.6666666666666666, \"#ed7953\"], [0.7777777777777778, \"#fb9f3a\"], [0.8888888888888888, \"#fdca26\"], [1.0, \"#f0f921\"]], \"type\": \"contour\"}], \"contourcarpet\": [{\"colorbar\": {\"outlinewidth\": 0, \"ticks\": \"\"}, \"type\": \"contourcarpet\"}], \"heatmap\": [{\"colorbar\": {\"outlinewidth\": 0, \"ticks\": \"\"}, \"colorscale\": [[0.0, \"#0d0887\"], [0.1111111111111111, \"#46039f\"], [0.2222222222222222, \"#7201a8\"], [0.3333333333333333, \"#9c179e\"], [0.4444444444444444, \"#bd3786\"], [0.5555555555555556, \"#d8576b\"], [0.6666666666666666, \"#ed7953\"], [0.7777777777777778, \"#fb9f3a\"], [0.8888888888888888, \"#fdca26\"], [1.0, \"#f0f921\"]], \"type\": \"heatmap\"}], \"heatmapgl\": [{\"colorbar\": {\"outlinewidth\": 0, \"ticks\": \"\"}, \"colorscale\": [[0.0, \"#0d0887\"], [0.1111111111111111, \"#46039f\"], [0.2222222222222222, \"#7201a8\"], [0.3333333333333333, \"#9c179e\"], [0.4444444444444444, \"#bd3786\"], [0.5555555555555556, \"#d8576b\"], [0.6666666666666666, \"#ed7953\"], [0.7777777777777778, \"#fb9f3a\"], [0.8888888888888888, \"#fdca26\"], [1.0, \"#f0f921\"]], \"type\": \"heatmapgl\"}], \"histogram\": [{\"marker\": {\"colorbar\": {\"outlinewidth\": 0, \"ticks\": \"\"}}, \"type\": \"histogram\"}], \"histogram2d\": [{\"colorbar\": {\"outlinewidth\": 0, \"ticks\": \"\"}, \"colorscale\": [[0.0, \"#0d0887\"], [0.1111111111111111, \"#46039f\"], [0.2222222222222222, \"#7201a8\"], [0.3333333333333333, \"#9c179e\"], [0.4444444444444444, \"#bd3786\"], [0.5555555555555556, \"#d8576b\"], [0.6666666666666666, \"#ed7953\"], [0.7777777777777778, \"#fb9f3a\"], [0.8888888888888888, \"#fdca26\"], [1.0, \"#f0f921\"]], \"type\": \"histogram2d\"}], \"histogram2dcontour\": [{\"colorbar\": {\"outlinewidth\": 0, \"ticks\": \"\"}, \"colorscale\": [[0.0, \"#0d0887\"], [0.1111111111111111, \"#46039f\"], [0.2222222222222222, \"#7201a8\"], [0.3333333333333333, \"#9c179e\"], [0.4444444444444444, \"#bd3786\"], [0.5555555555555556, \"#d8576b\"], [0.6666666666666666, \"#ed7953\"], [0.7777777777777778, \"#fb9f3a\"], [0.8888888888888888, \"#fdca26\"], [1.0, \"#f0f921\"]], \"type\": \"histogram2dcontour\"}], \"mesh3d\": [{\"colorbar\": {\"outlinewidth\": 0, \"ticks\": \"\"}, \"type\": \"mesh3d\"}], \"parcoords\": [{\"line\": {\"colorbar\": {\"outlinewidth\": 0, \"ticks\": \"\"}}, \"type\": \"parcoords\"}], \"pie\": [{\"automargin\": true, \"type\": \"pie\"}], \"scatter\": [{\"marker\": {\"colorbar\": {\"outlinewidth\": 0, \"ticks\": \"\"}}, \"type\": \"scatter\"}], \"scatter3d\": [{\"line\": {\"colorbar\": {\"outlinewidth\": 0, \"ticks\": \"\"}}, \"marker\": {\"colorbar\": {\"outlinewidth\": 0, \"ticks\": \"\"}}, \"type\": \"scatter3d\"}], \"scattercarpet\": [{\"marker\": {\"colorbar\": {\"outlinewidth\": 0, \"ticks\": \"\"}}, \"type\": \"scattercarpet\"}], \"scattergeo\": [{\"marker\": {\"colorbar\": {\"outlinewidth\": 0, \"ticks\": \"\"}}, \"type\": \"scattergeo\"}], \"scattergl\": [{\"marker\": {\"colorbar\": {\"outlinewidth\": 0, \"ticks\": \"\"}}, \"type\": \"scattergl\"}], \"scattermapbox\": [{\"marker\": {\"colorbar\": {\"outlinewidth\": 0, \"ticks\": \"\"}}, \"type\": \"scattermapbox\"}], \"scatterpolar\": [{\"marker\": {\"colorbar\": {\"outlinewidth\": 0, \"ticks\": \"\"}}, \"type\": \"scatterpolar\"}], \"scatterpolargl\": [{\"marker\": {\"colorbar\": {\"outlinewidth\": 0, \"ticks\": \"\"}}, \"type\": \"scatterpolargl\"}], \"scatterternary\": [{\"marker\": {\"colorbar\": {\"outlinewidth\": 0, \"ticks\": \"\"}}, \"type\": \"scatterternary\"}], \"surface\": [{\"colorbar\": {\"outlinewidth\": 0, \"ticks\": \"\"}, \"colorscale\": [[0.0, \"#0d0887\"], [0.1111111111111111, \"#46039f\"], [0.2222222222222222, \"#7201a8\"], [0.3333333333333333, \"#9c179e\"], [0.4444444444444444, \"#bd3786\"], [0.5555555555555556, \"#d8576b\"], [0.6666666666666666, \"#ed7953\"], [0.7777777777777778, \"#fb9f3a\"], [0.8888888888888888, \"#fdca26\"], [1.0, \"#f0f921\"]], \"type\": \"surface\"}], \"table\": [{\"cells\": {\"fill\": {\"color\": \"#EBF0F8\"}, \"line\": {\"color\": \"white\"}}, \"header\": {\"fill\": {\"color\": \"#C8D4E3\"}, \"line\": {\"color\": \"white\"}}, \"type\": \"table\"}]}, \"layout\": {\"annotationdefaults\": {\"arrowcolor\": \"#2a3f5f\", \"arrowhead\": 0, \"arrowwidth\": 1}, \"coloraxis\": {\"colorbar\": {\"outlinewidth\": 0, \"ticks\": \"\"}}, \"colorscale\": {\"diverging\": [[0, \"#8e0152\"], [0.1, \"#c51b7d\"], [0.2, \"#de77ae\"], [0.3, \"#f1b6da\"], [0.4, \"#fde0ef\"], [0.5, \"#f7f7f7\"], [0.6, \"#e6f5d0\"], [0.7, \"#b8e186\"], [0.8, \"#7fbc41\"], [0.9, \"#4d9221\"], [1, \"#276419\"]], \"sequential\": [[0.0, \"#0d0887\"], [0.1111111111111111, \"#46039f\"], [0.2222222222222222, \"#7201a8\"], [0.3333333333333333, \"#9c179e\"], [0.4444444444444444, \"#bd3786\"], [0.5555555555555556, \"#d8576b\"], [0.6666666666666666, \"#ed7953\"], [0.7777777777777778, \"#fb9f3a\"], [0.8888888888888888, \"#fdca26\"], [1.0, \"#f0f921\"]], \"sequentialminus\": [[0.0, \"#0d0887\"], [0.1111111111111111, \"#46039f\"], [0.2222222222222222, \"#7201a8\"], [0.3333333333333333, \"#9c179e\"], [0.4444444444444444, \"#bd3786\"], [0.5555555555555556, \"#d8576b\"], [0.6666666666666666, \"#ed7953\"], [0.7777777777777778, \"#fb9f3a\"], [0.8888888888888888, \"#fdca26\"], [1.0, \"#f0f921\"]]}, \"colorway\": [\"#636efa\", \"#EF553B\", \"#00cc96\", \"#ab63fa\", \"#FFA15A\", \"#19d3f3\", \"#FF6692\", \"#B6E880\", \"#FF97FF\", \"#FECB52\"], \"font\": {\"color\": \"#2a3f5f\"}, \"geo\": {\"bgcolor\": \"white\", \"lakecolor\": \"white\", \"landcolor\": \"#E5ECF6\", \"showlakes\": true, \"showland\": true, \"subunitcolor\": \"white\"}, \"hoverlabel\": {\"align\": \"left\"}, \"hovermode\": \"closest\", \"mapbox\": {\"style\": \"light\"}, \"paper_bgcolor\": \"white\", \"plot_bgcolor\": \"#E5ECF6\", \"polar\": {\"angularaxis\": {\"gridcolor\": \"white\", \"linecolor\": \"white\", \"ticks\": \"\"}, \"bgcolor\": \"#E5ECF6\", \"radialaxis\": {\"gridcolor\": \"white\", \"linecolor\": \"white\", \"ticks\": \"\"}}, \"scene\": {\"xaxis\": {\"backgroundcolor\": \"#E5ECF6\", \"gridcolor\": \"white\", \"gridwidth\": 2, \"linecolor\": \"white\", \"showbackground\": true, \"ticks\": \"\", \"zerolinecolor\": \"white\"}, \"yaxis\": {\"backgroundcolor\": \"#E5ECF6\", \"gridcolor\": \"white\", \"gridwidth\": 2, \"linecolor\": \"white\", \"showbackground\": true, \"ticks\": \"\", \"zerolinecolor\": \"white\"}, \"zaxis\": {\"backgroundcolor\": \"#E5ECF6\", \"gridcolor\": \"white\", \"gridwidth\": 2, \"linecolor\": \"white\", \"showbackground\": true, \"ticks\": \"\", \"zerolinecolor\": \"white\"}}, \"shapedefaults\": {\"line\": {\"color\": \"#2a3f5f\"}}, \"ternary\": {\"aaxis\": {\"gridcolor\": \"white\", \"linecolor\": \"white\", \"ticks\": \"\"}, \"baxis\": {\"gridcolor\": \"white\", \"linecolor\": \"white\", \"ticks\": \"\"}, \"bgcolor\": \"#E5ECF6\", \"caxis\": {\"gridcolor\": \"white\", \"linecolor\": \"white\", \"ticks\": \"\"}}, \"title\": {\"x\": 0.05}, \"xaxis\": {\"automargin\": true, \"gridcolor\": \"white\", \"linecolor\": \"white\", \"ticks\": \"\", \"title\": {\"standoff\": 15}, \"zerolinecolor\": \"white\", \"zerolinewidth\": 2}, \"yaxis\": {\"automargin\": true, \"gridcolor\": \"white\", \"linecolor\": \"white\", \"ticks\": \"\", \"title\": {\"standoff\": 15}, \"zerolinecolor\": \"white\", \"zerolinewidth\": 2}}}, \"xaxis\": {\"anchor\": \"y\", \"domain\": [0.0, 1.0], \"title\": {\"text\": \"x\"}}, \"yaxis\": {\"anchor\": \"x\", \"domain\": [0.0, 1.0], \"title\": {\"text\": \"y\"}}},\n",
              "                        {\"responsive\": true}\n",
              "                    ).then(function(){\n",
              "                            \n",
              "var gd = document.getElementById('e53c1f2a-f393-4eb2-8d86-73afb14eb8b0');\n",
              "var x = new MutationObserver(function (mutations, observer) {{\n",
              "        var display = window.getComputedStyle(gd).display;\n",
              "        if (!display || display === 'none') {{\n",
              "            console.log([gd, 'removed!']);\n",
              "            Plotly.purge(gd);\n",
              "            observer.disconnect();\n",
              "        }}\n",
              "}});\n",
              "\n",
              "// Listen for the removal of the full notebook cells\n",
              "var notebookContainer = gd.closest('#notebook-container');\n",
              "if (notebookContainer) {{\n",
              "    x.observe(notebookContainer, {childList: true});\n",
              "}}\n",
              "\n",
              "// Listen for the clearing of the current output cell\n",
              "var outputEl = gd.closest('.output');\n",
              "if (outputEl) {{\n",
              "    x.observe(outputEl, {childList: true});\n",
              "}}\n",
              "\n",
              "                        })\n",
              "                };\n",
              "                \n",
              "            </script>\n",
              "        </div>\n",
              "</body>\n",
              "</html>"
            ]
          },
          "metadata": {}
        }
      ]
    },
    {
      "cell_type": "code",
      "metadata": {
        "colab": {
          "base_uri": "https://localhost:8080/",
          "height": 542
        },
        "id": "0t8B2fozgl89",
        "outputId": "8c80e811-4ef2-4a12-e36a-6384d9f64f2e"
      },
      "source": [
        "x_vals, y_vals, labels = reduce_dimensions(w2v_model_rihanna)\n",
        "\n",
        "MAX_WORDS=200\n",
        "fig = px.scatter(x=x_vals[:MAX_WORDS], y=y_vals[:MAX_WORDS], text=labels[:MAX_WORDS])\n",
        "fig.show(renderer=\"colab\") # esto para plotly en colab"
      ],
      "execution_count": 37,
      "outputs": [
        {
          "output_type": "display_data",
          "data": {
            "text/html": [
              "<html>\n",
              "<head><meta charset=\"utf-8\" /></head>\n",
              "<body>\n",
              "    <div>\n",
              "            <script src=\"https://cdnjs.cloudflare.com/ajax/libs/mathjax/2.7.5/MathJax.js?config=TeX-AMS-MML_SVG\"></script><script type=\"text/javascript\">if (window.MathJax) {MathJax.Hub.Config({SVG: {font: \"STIX-Web\"}});}</script>\n",
              "                <script type=\"text/javascript\">window.PlotlyConfig = {MathJaxConfig: 'local'};</script>\n",
              "        <script src=\"https://cdn.plot.ly/plotly-latest.min.js\"></script>    \n",
              "            <div id=\"acb644a6-7269-47f6-85f0-f28639c776c8\" class=\"plotly-graph-div\" style=\"height:525px; width:100%;\"></div>\n",
              "            <script type=\"text/javascript\">\n",
              "                \n",
              "                    window.PLOTLYENV=window.PLOTLYENV || {};\n",
              "                    \n",
              "                if (document.getElementById(\"acb644a6-7269-47f6-85f0-f28639c776c8\")) {\n",
              "                    Plotly.newPlot(\n",
              "                        'acb644a6-7269-47f6-85f0-f28639c776c8',\n",
              "                        [{\"hoverlabel\": {\"namelength\": 0}, \"hovertemplate\": \"x=%{x}<br>y=%{y}<br>text=%{text}\", \"legendgroup\": \"\", \"marker\": {\"color\": \"#636efa\", \"symbol\": \"circle\"}, \"mode\": \"markers+text\", \"name\": \"\", \"showlegend\": false, \"text\": [\"you\", \"i\", \"the\", \"me\", \"to\", \"it\", \"and\", \"a\", \"my\", \"love\", \"in\", \"i'm\", \"like\", \"yeah\", \"on\", \"that\", \"don't\", \"your\", \"so\", \"be\", \"just\", \"oh\", \"all\", \"but\", \"know\", \"is\", \"up\", \"come\", \"for\", \"got\", \"baby\", \"now\", \"this\", \"no\", \"what\", \"we\", \"take\", \"of\", \"it's\", \"wanna\", \"boy\", \"go\", \"bum\", \"way\", \"do\", \"you're\", \"with\", \"out\", \"get\", \"can\", \"one\", \"feel\", \"music\", \"see\", \"let\", \"how\", \"can't\", \"na\", \"if\", \"make\", \"when\", \"at\", \"work\", \"'cause\", \"life\", \"want\", \"stop\", \"have\", \"where\", \"hard\", \"never\", \"why\", \"night\", \"girl\", \"not\", \"please\", \"only\", \"used\", \"la\", \"that's\", \"ain't\", \"need\", \"away\", \"more\", \"here\", \"say\", \"too\", \"back\", \"tell\", \"we're\", \"better\", \"right\", \"good\", \"heart\", \"ooh\", \"time\", \"down\", \"bright\", \"gonna\", \"money\", \"give\", \"been\", \"was\", \"are\", \"about\", \"i've\", \"they\", \"shine\", \"survivor\", \"turn\", \"won't\", \"gone\", \"still\", \"there\", \"ay\", \"diamond\", \"eh\", \"from\", \"talk\", \"think\", \"nothing\", \"said\", \"into\", \"around\", \"run\", \"put\", \"mind\", \"name\", \"these\", \"bitch\", \"even\", \"dj\", \"always\", \"move\", \"y'all\", \"brrap\", \"really\", \"ah\", \"care\", \"who\", \"hope\", \"keep\", \"hold\", \"off\", \"gotta\", \"without\", \"us\", \"i'll\", \"man\", \"he\", \"ya\", \"beautiful\", \"feeling\", \"could\", \"rihanna\", \"kiss\", \"some\", \"over\", \"woo\", \"american\", \"what's\", \"babe\", \"world\", \"sky\", \"dum\", \"mr\", \"nobody\", \"bad\", \"than\", \"tonight\", \"then\", \"will\", \"diamonds\", \"drive\", \"cake\", \"her\", \"california\", \"dance\", \"face\", \"ever\", \"as\", \"i'mma\", \"new\", \"silly\", \"hurt\", \"little\", \"had\", \"long\", \"throw\", \"lie\", \"by\", \"loving\", \"late\", \"play\", \"looking\", \"s\", \"breathe\", \"k\", \"you'll\", \"learn\"], \"type\": \"scatter\", \"x\": [-5.017677307128906, -5.016694068908691, 6.651389122009277, -3.474334478378296, -3.129408359527588, -1.598901391029358, 4.9493489265441895, 9.666152954101562, -3.229769468307495, -3.6523892879486084, 6.235634803771973, -0.7027914524078369, 0.3046351373195648, -0.06942008435726166, 0.9517990946769714, 2.445537567138672, -6.0146002769470215, -2.4199564456939697, 4.365861892700195, 9.182661056518555, 8.621280670166016, -1.655733585357666, 3.3936846256256104, -4.4016947746276855, -4.265932559967041, 0.3319452702999115, 5.78843355178833, -7.156345844268799, 1.3200187683105469, 3.9632821083068848, -3.445354700088501, 5.529800891876221, 2.348400354385376, -1.4316303730010986, 1.1057637929916382, 13.127130508422852, 10.7625150680542, 6.268612861633301, 1.5122618675231934, -6.889404773712158, -5.575284481048584, 11.609683990478516, -1.8099545240402222, 1.1301780939102173, -5.741852283477783, -0.7075489163398743, 3.9310243129730225, 10.878071784973145, 9.606490135192871, -6.1479411125183105, 0.40104439854621887, -7.01738977432251, 5.345235824584961, 0.8554932475090027, 9.104533195495605, -7.1951446533203125, -4.4271159172058105, -5.16596794128418, -4.280964374542236, -1.078995943069458, 4.162564754486084, 9.29198169708252, -8.530384063720703, 1.147836446762085, -2.447911024093628, -2.6439502239227295, -7.237104892730713, -2.6195788383483887, 11.73337173461914, 4.431857585906982, 0.32613229751586914, -5.488609313964844, 5.728985786437988, 9.257781982421875, 1.6082624197006226, -0.8053537011146545, -0.029178958386182785, -4.2603020668029785, 1.396633505821228, -5.352859020233154, -1.9222688674926758, -10.282614707946777, -9.074139595031738, -8.474186897277832, 0.37049102783203125, 6.325328350067139, 10.723652839660645, -7.3975443840026855, -3.165256977081299, 8.78028678894043, -6.836816310882568, 2.526489496231079, 12.537637710571289, -3.0134189128875732, -4.745791435241699, 3.327141046524048, 5.624791622161865, 11.731099128723145, 2.4436419010162354, 0.06396643817424774, -5.736547470092773, 4.015772819519043, 7.66253662109375, 2.303255796432495, -6.747905254364014, 2.3812172412872314, 9.364012718200684, 9.442401885986328, -0.4749595522880554, 5.3136115074157715, -0.8433807492256165, 2.20839524269104, -3.4952518939971924, -5.054477691650391, -2.4473257064819336, 11.608591079711914, 1.431710124015808, 1.3462945222854614, 0.2707878351211548, -1.2433043718338013, -2.8490169048309326, -10.101277351379395, 5.919942378997803, 3.303298234939575, 6.720520973205566, -3.212313175201416, -2.917548418045044, -3.1384425163269043, 0.3222513496875763, -6.867780685424805, -6.5516180992126465, -8.119044303894043, 1.71010160446167, -7.8893208503723145, 8.937982559204102, 3.5065042972564697, -7.567305564880371, -9.671863555908203, -7.089956760406494, 0.9946445822715759, -3.9892783164978027, 9.895120620727539, -7.73697566986084, -7.613799571990967, -3.5913279056549072, 7.598295211791992, 4.22400426864624, -8.987334251403809, 7.113522529602051, 10.049243927001953, 10.078520774841309, 8.592937469482422, 2.2360565662384033, -10.424047470092773, -5.582954406738281, -3.333077907562256, 3.6311464309692383, 4.363275051116943, -9.96277141571045, 0.8547624945640564, -3.32635498046875, -2.728811740875244, 5.973341941833496, 7.18927001953125, -1.8054819107055664, -6.958315849304199, -3.562854528427124, 2.2467308044433594, 3.669886589050293, 2.510640859603882, -1.6946489810943604, -10.384608268737793, 8.413456916809082, 5.199158191680908, 13.467574119567871, -2.265965700149536, 13.49532699584961, 6.885756015777588, 4.644485950469971, -1.8265091180801392, 6.291356563568115, -4.712723731994629, -5.267426013946533, -5.0185370445251465, -8.636281967163086, -2.964830160140991, -3.1229493618011475, -1.501615047454834, 4.968020439147949, -9.0806884765625, 0.05557195842266083, 1.811607837677002, 2.386408567428589, 3.509157180786133, -2.460914134979248, -9.170918464660645, 5.475216865539551, 0.27730831503868103, -9.543266296386719, -6.945822715759277], \"xaxis\": \"x\", \"y\": [-11.14289379119873, -11.134339332580566, 1.1820354461669922, 0.5378808975219727, 0.9480055570602417, 1.7355194091796875, -6.706113815307617, 2.5535833835601807, 8.741735458374023, 4.988287925720215, 0.9387270212173462, -3.0008413791656494, -8.818074226379395, 7.9344482421875, 2.185713768005371, 12.148700714111328, -4.466653347015381, 9.272287368774414, 9.907102584838867, -5.464598178863525, 8.286842346191406, 0.050280384719371796, 2.9720044136047363, -6.106894493103027, -7.3000383377075195, -3.714099884033203, 7.1496357917785645, 4.374868869781494, -0.6163244843482971, -11.726739883422852, 2.969862461090088, 8.983147621154785, -3.313046455383301, -2.9627318382263184, 11.024101257324219, 1.1211572885513306, -7.117502212524414, -3.726151943206787, -4.5417256355285645, -5.485851764678955, -3.125877618789673, -0.6641662120819092, 13.629287719726562, -1.4160856008529663, -8.881107330322266, -3.224445343017578, 4.743282318115234, 9.195809364318848, -7.026975631713867, -2.344114065170288, -6.055364608764648, -6.993732929229736, -8.60057544708252, -2.2063815593719482, -8.291522979736328, 11.319249153137207, -5.077660083770752, 5.307032585144043, 11.548883438110352, -6.544597148895264, 12.320049285888672, -0.1318737417459488, -7.802662372589111, 6.867053031921387, -3.753908157348633, -6.363592624664307, -1.4901528358459473, 3.376089096069336, -3.6479361057281494, 3.9692938327789307, -8.028243064880371, -4.37007474899292, -3.0835535526275635, 6.190221309661865, 9.040947914123535, -8.485367774963379, -4.964038372039795, 1.983777403831482, 5.8117194175720215, -7.626815319061279, -5.534323215484619, -2.9478201866149902, -2.881782293319702, 2.3621819019317627, 12.885321617126465, 11.718436241149902, 6.6962785720825195, 2.613334894180298, -7.875404357910156, 4.017923831939697, 7.024947166442871, -3.896928071975708, 4.894543170928955, 6.869123935699463, 4.898289680480957, -4.973788738250732, 6.234523773193359, 3.2485437393188477, -9.791455268859863, -12.397339820861816, -8.74315071105957, -11.791155815124512, -3.6587116718292236, -5.897930145263672, -3.672428846359253, 3.7091825008392334, -1.2766791582107544, 2.8001110553741455, -1.3828046321868896, -8.47227954864502, 6.3654022216796875, 0.4490022659301758, 3.5659661293029785, -1.4250504970550537, -3.5976853370666504, 3.1812589168548584, -11.448312759399414, -3.0525245666503906, 9.538031578063965, -4.4368367195129395, -2.3635523319244385, -4.062797546386719, -9.356255531311035, -7.7308502197265625, -4.211694717407227, 9.73261547088623, 5.979028701782227, 7.9439921379089355, 4.248810291290283, 7.459289073944092, -0.44800883531570435, 4.8865485191345215, -1.50664222240448, -3.8916995525360107, -1.1468157768249512, 7.052753448486328, 0.8939380049705505, 5.502249717712402, -2.7078866958618164, -6.008918285369873, -1.3848681449890137, 7.807455062866211, 3.337665319442749, -9.918895721435547, -5.025282382965088, -8.343720436096191, 2.1828651428222656, -2.741422176361084, 5.283425807952881, -1.878542184829712, -1.0516226291656494, 3.1121468544006348, 8.364859580993652, -0.4128274917602539, 1.7294925451278687, 2.158249616622925, -3.3156726360321045, 8.19287109375, 5.175954818725586, -3.488069772720337, 8.218403816223145, 2.7350778579711914, 1.969178318977356, 0.5981211066246033, 13.627054214477539, 5.0339460372924805, -0.363285094499588, 0.1728239357471466, 2.435119867324829, 2.6737167835235596, 11.19023609161377, -0.5531113743782043, 2.777876853942871, -4.8677659034729, 3.1318533420562744, 4.828527927398682, -2.181952953338623, 1.5493583679199219, 10.89693832397461, -7.448016166687012, 9.879131317138672, 7.11354923248291, 9.77637767791748, -3.1214871406555176, 0.568285346031189, -4.478731632232666, -9.471489906311035, -10.47336483001709, -5.857415676116943, -6.0149993896484375, 11.15911865234375, -2.6547691822052, -1.7604960203170776, -8.353594779968262, -1.7281688451766968, 6.304527759552002, -1.8659498691558838, 4.8024139404296875, -1.421244740486145, 11.393218994140625], \"yaxis\": \"y\"}],\n",
              "                        {\"legend\": {\"tracegroupgap\": 0}, \"margin\": {\"t\": 60}, \"template\": {\"data\": {\"bar\": [{\"error_x\": {\"color\": \"#2a3f5f\"}, \"error_y\": {\"color\": \"#2a3f5f\"}, \"marker\": {\"line\": {\"color\": \"#E5ECF6\", \"width\": 0.5}}, \"type\": \"bar\"}], \"barpolar\": [{\"marker\": {\"line\": {\"color\": \"#E5ECF6\", \"width\": 0.5}}, \"type\": \"barpolar\"}], \"carpet\": [{\"aaxis\": {\"endlinecolor\": \"#2a3f5f\", \"gridcolor\": \"white\", \"linecolor\": \"white\", \"minorgridcolor\": \"white\", \"startlinecolor\": \"#2a3f5f\"}, \"baxis\": {\"endlinecolor\": \"#2a3f5f\", \"gridcolor\": \"white\", \"linecolor\": \"white\", \"minorgridcolor\": \"white\", \"startlinecolor\": \"#2a3f5f\"}, \"type\": \"carpet\"}], \"choropleth\": [{\"colorbar\": {\"outlinewidth\": 0, \"ticks\": \"\"}, \"type\": \"choropleth\"}], \"contour\": [{\"colorbar\": {\"outlinewidth\": 0, \"ticks\": \"\"}, \"colorscale\": [[0.0, \"#0d0887\"], [0.1111111111111111, \"#46039f\"], [0.2222222222222222, \"#7201a8\"], [0.3333333333333333, \"#9c179e\"], [0.4444444444444444, \"#bd3786\"], [0.5555555555555556, \"#d8576b\"], [0.6666666666666666, \"#ed7953\"], [0.7777777777777778, \"#fb9f3a\"], [0.8888888888888888, \"#fdca26\"], [1.0, \"#f0f921\"]], \"type\": \"contour\"}], \"contourcarpet\": [{\"colorbar\": {\"outlinewidth\": 0, \"ticks\": \"\"}, \"type\": \"contourcarpet\"}], \"heatmap\": [{\"colorbar\": {\"outlinewidth\": 0, \"ticks\": \"\"}, \"colorscale\": [[0.0, \"#0d0887\"], [0.1111111111111111, \"#46039f\"], [0.2222222222222222, \"#7201a8\"], [0.3333333333333333, \"#9c179e\"], [0.4444444444444444, \"#bd3786\"], [0.5555555555555556, \"#d8576b\"], [0.6666666666666666, \"#ed7953\"], [0.7777777777777778, \"#fb9f3a\"], [0.8888888888888888, \"#fdca26\"], [1.0, \"#f0f921\"]], \"type\": \"heatmap\"}], \"heatmapgl\": [{\"colorbar\": {\"outlinewidth\": 0, \"ticks\": \"\"}, \"colorscale\": [[0.0, \"#0d0887\"], [0.1111111111111111, \"#46039f\"], [0.2222222222222222, \"#7201a8\"], [0.3333333333333333, \"#9c179e\"], [0.4444444444444444, \"#bd3786\"], [0.5555555555555556, \"#d8576b\"], [0.6666666666666666, \"#ed7953\"], [0.7777777777777778, \"#fb9f3a\"], [0.8888888888888888, \"#fdca26\"], [1.0, \"#f0f921\"]], \"type\": \"heatmapgl\"}], \"histogram\": [{\"marker\": {\"colorbar\": {\"outlinewidth\": 0, \"ticks\": \"\"}}, \"type\": \"histogram\"}], \"histogram2d\": [{\"colorbar\": {\"outlinewidth\": 0, \"ticks\": \"\"}, \"colorscale\": [[0.0, \"#0d0887\"], [0.1111111111111111, \"#46039f\"], [0.2222222222222222, \"#7201a8\"], [0.3333333333333333, \"#9c179e\"], [0.4444444444444444, \"#bd3786\"], [0.5555555555555556, \"#d8576b\"], [0.6666666666666666, \"#ed7953\"], [0.7777777777777778, \"#fb9f3a\"], [0.8888888888888888, \"#fdca26\"], [1.0, \"#f0f921\"]], \"type\": \"histogram2d\"}], \"histogram2dcontour\": [{\"colorbar\": {\"outlinewidth\": 0, \"ticks\": \"\"}, \"colorscale\": [[0.0, \"#0d0887\"], [0.1111111111111111, \"#46039f\"], [0.2222222222222222, \"#7201a8\"], [0.3333333333333333, \"#9c179e\"], [0.4444444444444444, \"#bd3786\"], [0.5555555555555556, \"#d8576b\"], [0.6666666666666666, \"#ed7953\"], [0.7777777777777778, \"#fb9f3a\"], [0.8888888888888888, \"#fdca26\"], [1.0, \"#f0f921\"]], \"type\": \"histogram2dcontour\"}], \"mesh3d\": [{\"colorbar\": {\"outlinewidth\": 0, \"ticks\": \"\"}, \"type\": \"mesh3d\"}], \"parcoords\": [{\"line\": {\"colorbar\": {\"outlinewidth\": 0, \"ticks\": \"\"}}, \"type\": \"parcoords\"}], \"pie\": [{\"automargin\": true, \"type\": \"pie\"}], \"scatter\": [{\"marker\": {\"colorbar\": {\"outlinewidth\": 0, \"ticks\": \"\"}}, \"type\": \"scatter\"}], \"scatter3d\": [{\"line\": {\"colorbar\": {\"outlinewidth\": 0, \"ticks\": \"\"}}, \"marker\": {\"colorbar\": {\"outlinewidth\": 0, \"ticks\": \"\"}}, \"type\": \"scatter3d\"}], \"scattercarpet\": [{\"marker\": {\"colorbar\": {\"outlinewidth\": 0, \"ticks\": \"\"}}, \"type\": \"scattercarpet\"}], \"scattergeo\": [{\"marker\": {\"colorbar\": {\"outlinewidth\": 0, \"ticks\": \"\"}}, \"type\": \"scattergeo\"}], \"scattergl\": [{\"marker\": {\"colorbar\": {\"outlinewidth\": 0, \"ticks\": \"\"}}, \"type\": \"scattergl\"}], \"scattermapbox\": [{\"marker\": {\"colorbar\": {\"outlinewidth\": 0, \"ticks\": \"\"}}, \"type\": \"scattermapbox\"}], \"scatterpolar\": [{\"marker\": {\"colorbar\": {\"outlinewidth\": 0, \"ticks\": \"\"}}, \"type\": \"scatterpolar\"}], \"scatterpolargl\": [{\"marker\": {\"colorbar\": {\"outlinewidth\": 0, \"ticks\": \"\"}}, \"type\": \"scatterpolargl\"}], \"scatterternary\": [{\"marker\": {\"colorbar\": {\"outlinewidth\": 0, \"ticks\": \"\"}}, \"type\": \"scatterternary\"}], \"surface\": [{\"colorbar\": {\"outlinewidth\": 0, \"ticks\": \"\"}, \"colorscale\": [[0.0, \"#0d0887\"], [0.1111111111111111, \"#46039f\"], [0.2222222222222222, \"#7201a8\"], [0.3333333333333333, \"#9c179e\"], [0.4444444444444444, \"#bd3786\"], [0.5555555555555556, \"#d8576b\"], [0.6666666666666666, \"#ed7953\"], [0.7777777777777778, \"#fb9f3a\"], [0.8888888888888888, \"#fdca26\"], [1.0, \"#f0f921\"]], \"type\": \"surface\"}], \"table\": [{\"cells\": {\"fill\": {\"color\": \"#EBF0F8\"}, \"line\": {\"color\": \"white\"}}, \"header\": {\"fill\": {\"color\": \"#C8D4E3\"}, \"line\": {\"color\": \"white\"}}, \"type\": \"table\"}]}, \"layout\": {\"annotationdefaults\": {\"arrowcolor\": \"#2a3f5f\", \"arrowhead\": 0, \"arrowwidth\": 1}, \"coloraxis\": {\"colorbar\": {\"outlinewidth\": 0, \"ticks\": \"\"}}, \"colorscale\": {\"diverging\": [[0, \"#8e0152\"], [0.1, \"#c51b7d\"], [0.2, \"#de77ae\"], [0.3, \"#f1b6da\"], [0.4, \"#fde0ef\"], [0.5, \"#f7f7f7\"], [0.6, \"#e6f5d0\"], [0.7, \"#b8e186\"], [0.8, \"#7fbc41\"], [0.9, \"#4d9221\"], [1, \"#276419\"]], \"sequential\": [[0.0, \"#0d0887\"], [0.1111111111111111, \"#46039f\"], [0.2222222222222222, \"#7201a8\"], [0.3333333333333333, \"#9c179e\"], [0.4444444444444444, \"#bd3786\"], [0.5555555555555556, \"#d8576b\"], [0.6666666666666666, \"#ed7953\"], [0.7777777777777778, \"#fb9f3a\"], [0.8888888888888888, \"#fdca26\"], [1.0, \"#f0f921\"]], \"sequentialminus\": [[0.0, \"#0d0887\"], [0.1111111111111111, \"#46039f\"], [0.2222222222222222, \"#7201a8\"], [0.3333333333333333, \"#9c179e\"], [0.4444444444444444, \"#bd3786\"], [0.5555555555555556, \"#d8576b\"], [0.6666666666666666, \"#ed7953\"], [0.7777777777777778, \"#fb9f3a\"], [0.8888888888888888, \"#fdca26\"], [1.0, \"#f0f921\"]]}, \"colorway\": [\"#636efa\", \"#EF553B\", \"#00cc96\", \"#ab63fa\", \"#FFA15A\", \"#19d3f3\", \"#FF6692\", \"#B6E880\", \"#FF97FF\", \"#FECB52\"], \"font\": {\"color\": \"#2a3f5f\"}, \"geo\": {\"bgcolor\": \"white\", \"lakecolor\": \"white\", \"landcolor\": \"#E5ECF6\", \"showlakes\": true, \"showland\": true, \"subunitcolor\": \"white\"}, \"hoverlabel\": {\"align\": \"left\"}, \"hovermode\": \"closest\", \"mapbox\": {\"style\": \"light\"}, \"paper_bgcolor\": \"white\", \"plot_bgcolor\": \"#E5ECF6\", \"polar\": {\"angularaxis\": {\"gridcolor\": \"white\", \"linecolor\": \"white\", \"ticks\": \"\"}, \"bgcolor\": \"#E5ECF6\", \"radialaxis\": {\"gridcolor\": \"white\", \"linecolor\": \"white\", \"ticks\": \"\"}}, \"scene\": {\"xaxis\": {\"backgroundcolor\": \"#E5ECF6\", \"gridcolor\": \"white\", \"gridwidth\": 2, \"linecolor\": \"white\", \"showbackground\": true, \"ticks\": \"\", \"zerolinecolor\": \"white\"}, \"yaxis\": {\"backgroundcolor\": \"#E5ECF6\", \"gridcolor\": \"white\", \"gridwidth\": 2, \"linecolor\": \"white\", \"showbackground\": true, \"ticks\": \"\", \"zerolinecolor\": \"white\"}, \"zaxis\": {\"backgroundcolor\": \"#E5ECF6\", \"gridcolor\": \"white\", \"gridwidth\": 2, \"linecolor\": \"white\", \"showbackground\": true, \"ticks\": \"\", \"zerolinecolor\": \"white\"}}, \"shapedefaults\": {\"line\": {\"color\": \"#2a3f5f\"}}, \"ternary\": {\"aaxis\": {\"gridcolor\": \"white\", \"linecolor\": \"white\", \"ticks\": \"\"}, \"baxis\": {\"gridcolor\": \"white\", \"linecolor\": \"white\", \"ticks\": \"\"}, \"bgcolor\": \"#E5ECF6\", \"caxis\": {\"gridcolor\": \"white\", \"linecolor\": \"white\", \"ticks\": \"\"}}, \"title\": {\"x\": 0.05}, \"xaxis\": {\"automargin\": true, \"gridcolor\": \"white\", \"linecolor\": \"white\", \"ticks\": \"\", \"title\": {\"standoff\": 15}, \"zerolinecolor\": \"white\", \"zerolinewidth\": 2}, \"yaxis\": {\"automargin\": true, \"gridcolor\": \"white\", \"linecolor\": \"white\", \"ticks\": \"\", \"title\": {\"standoff\": 15}, \"zerolinecolor\": \"white\", \"zerolinewidth\": 2}}}, \"xaxis\": {\"anchor\": \"y\", \"domain\": [0.0, 1.0], \"title\": {\"text\": \"x\"}}, \"yaxis\": {\"anchor\": \"x\", \"domain\": [0.0, 1.0], \"title\": {\"text\": \"y\"}}},\n",
              "                        {\"responsive\": true}\n",
              "                    ).then(function(){\n",
              "                            \n",
              "var gd = document.getElementById('acb644a6-7269-47f6-85f0-f28639c776c8');\n",
              "var x = new MutationObserver(function (mutations, observer) {{\n",
              "        var display = window.getComputedStyle(gd).display;\n",
              "        if (!display || display === 'none') {{\n",
              "            console.log([gd, 'removed!']);\n",
              "            Plotly.purge(gd);\n",
              "            observer.disconnect();\n",
              "        }}\n",
              "}});\n",
              "\n",
              "// Listen for the removal of the full notebook cells\n",
              "var notebookContainer = gd.closest('#notebook-container');\n",
              "if (notebookContainer) {{\n",
              "    x.observe(notebookContainer, {childList: true});\n",
              "}}\n",
              "\n",
              "// Listen for the clearing of the current output cell\n",
              "var outputEl = gd.closest('.output');\n",
              "if (outputEl) {{\n",
              "    x.observe(outputEl, {childList: true});\n",
              "}}\n",
              "\n",
              "                        })\n",
              "                };\n",
              "                \n",
              "            </script>\n",
              "        </div>\n",
              "</body>\n",
              "</html>"
            ]
          },
          "metadata": {}
        }
      ]
    }
  ]
}