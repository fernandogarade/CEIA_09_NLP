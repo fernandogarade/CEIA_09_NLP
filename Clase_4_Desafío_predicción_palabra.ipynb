{
  "nbformat": 4,
  "nbformat_minor": 0,
  "metadata": {
    "colab": {
      "name": "Clase 4 - Desafío - predicción_palabra.ipynb",
      "provenance": [],
      "collapsed_sections": [],
      "include_colab_link": true
    },
    "kernelspec": {
      "name": "python3",
      "display_name": "Python 3"
    },
    "language_info": {
      "name": "python"
    },
    "accelerator": "GPU"
  },
  "cells": [
    {
      "cell_type": "markdown",
      "metadata": {
        "id": "view-in-github",
        "colab_type": "text"
      },
      "source": [
        "<a href=\"https://colab.research.google.com/github/fernandogarade/CEIA_09_NLP/blob/main/Clase_4_Desaf%C3%ADo_predicci%C3%B3n_palabra.ipynb\" target=\"_parent\"><img src=\"https://colab.research.google.com/assets/colab-badge.svg\" alt=\"Open In Colab\"/></a>"
      ]
    },
    {
      "cell_type": "markdown",
      "metadata": {
        "id": "g3yeJGnCYxuF"
      },
      "source": [
        "<a href=\"https://www.inove.com.ar\"><img src=\"https://github.com/hernancontigiani/ceia_memorias_especializacion/raw/master/Figures/logoFIUBA.jpg\" width=\"500\" align=\"center\"></a>\n",
        "\n",
        "\n",
        "# Procesamiento de lenguaje natural\n",
        "## Predicción de próxima palabra"
      ]
    },
    {
      "cell_type": "markdown",
      "metadata": {
        "id": "Iv5PEwGzZA9-"
      },
      "source": [
        "### Objetivo\n",
        "El objetivo es utilizar documentos / corpus para crear embeddings de palabras basado en ese contexto utilizando la layer Embedding de Keras. Se utilizará esos embeddings junto con layers LSTM para predeccir la próxima posible palabra."
      ]
    },
    {
      "cell_type": "code",
      "metadata": {
        "id": "Y-QdFbHZYj7C"
      },
      "source": [
        "import re\n",
        "\n",
        "import numpy as np\n",
        "import pandas as pd\n",
        "\n",
        "from keras.preprocessing.text import Tokenizer # equivalente a ltokenizer de nltk\n",
        "from keras.preprocessing.text import text_to_word_sequence # equivalente a word_teokenize de nltk\n",
        "from keras.preprocessing.sequence import pad_sequences # se utilizará para padding\n",
        "\n",
        "from tensorflow import keras\n",
        "from tensorflow.keras import layers\n",
        "from keras.utils.np_utils import to_categorical\n",
        "from keras.models import Sequential\n",
        "from keras.layers import Dense, LSTM, Embedding, Dropout, Bidirectional\n",
        "\n",
        "import matplotlib.pyplot as plt\n",
        "import seaborn as sns"
      ],
      "execution_count": null,
      "outputs": []
    },
    {
      "cell_type": "markdown",
      "metadata": {
        "id": "xTvXlEKQZdqx"
      },
      "source": [
        "### Datos\n",
        "Utilizaremos como dataset tweets de Elon Musk"
      ]
    },
    {
      "cell_type": "code",
      "metadata": {
        "colab": {
          "base_uri": "https://localhost:8080/"
        },
        "id": "zJIn_AOxUeDF",
        "outputId": "6b73c7e4-9feb-4758-bc7d-e520b984fd2e"
      },
      "source": [
        "# Conectarnos a Drive\n",
        "from google.colab import drive\n",
        "drive.mount('/content/drive')"
      ],
      "execution_count": 1,
      "outputs": [
        {
          "output_type": "stream",
          "name": "stdout",
          "text": [
            "Mounted at /content/drive\n"
          ]
        }
      ]
    },
    {
      "cell_type": "code",
      "metadata": {
        "colab": {
          "base_uri": "https://localhost:8080/",
          "height": 204
        },
        "id": "M3DwB8bmUpPb",
        "outputId": "9945a205-491b-40c6-bc71-ec4f5dbf7ebd"
      },
      "source": [
        "# El dataset fue descargado de aquí: https://www.kaggle.com/residentmario/exploring-elon-musk-tweets/data\n",
        "\n",
        "data_elon = pd.read_csv(\"/content/drive/MyDrive/CEIA - NLP/Clase 4/Desafío/data_elonmusk.csv\", encoding='latin1')\n",
        "data_elon.drop(columns=[\"row ID\",\"Time\",\"Retweet from\", \"User\"], inplace=True)\n",
        "data_elon.head()"
      ],
      "execution_count": null,
      "outputs": [
        {
          "output_type": "execute_result",
          "data": {
            "text/html": [
              "<div>\n",
              "<style scoped>\n",
              "    .dataframe tbody tr th:only-of-type {\n",
              "        vertical-align: middle;\n",
              "    }\n",
              "\n",
              "    .dataframe tbody tr th {\n",
              "        vertical-align: top;\n",
              "    }\n",
              "\n",
              "    .dataframe thead th {\n",
              "        text-align: right;\n",
              "    }\n",
              "</style>\n",
              "<table border=\"1\" class=\"dataframe\">\n",
              "  <thead>\n",
              "    <tr style=\"text-align: right;\">\n",
              "      <th></th>\n",
              "      <th>Tweet</th>\n",
              "    </tr>\n",
              "  </thead>\n",
              "  <tbody>\n",
              "    <tr>\n",
              "      <th>0</th>\n",
              "      <td>@MeltingIce Assuming max acceleration of 2 to ...</td>\n",
              "    </tr>\n",
              "    <tr>\n",
              "      <th>1</th>\n",
              "      <td>RT @SpaceX: BFR is capable of transporting sat...</td>\n",
              "    </tr>\n",
              "    <tr>\n",
              "      <th>2</th>\n",
              "      <td>@bigajm Yup :)</td>\n",
              "    </tr>\n",
              "    <tr>\n",
              "      <th>3</th>\n",
              "      <td>Part 2 https://t.co/8Fvu57muhM</td>\n",
              "    </tr>\n",
              "    <tr>\n",
              "      <th>4</th>\n",
              "      <td>Fly to most places on Earth in under 30 mins a...</td>\n",
              "    </tr>\n",
              "  </tbody>\n",
              "</table>\n",
              "</div>"
            ],
            "text/plain": [
              "                                               Tweet\n",
              "0  @MeltingIce Assuming max acceleration of 2 to ...\n",
              "1  RT @SpaceX: BFR is capable of transporting sat...\n",
              "2                                     @bigajm Yup :)\n",
              "3                     Part 2 https://t.co/8Fvu57muhM\n",
              "4  Fly to most places on Earth in under 30 mins a..."
            ]
          },
          "metadata": {},
          "execution_count": 3
        }
      ]
    },
    {
      "cell_type": "code",
      "metadata": {
        "id": "uaqK65TNV-oA"
      },
      "source": [
        "data_elon[\"clean tweet\"] = [' '.join(re.sub(\"(@[A-Za-z0-9]+)|([^0-9A-Za-z \\t])|(\\w+:\\/\\/\\S+)\",\" \",data_elon[\"Tweet\"].iloc[i]).split()) for i in range(len(data_elon))]"
      ],
      "execution_count": null,
      "outputs": []
    },
    {
      "cell_type": "code",
      "metadata": {
        "colab": {
          "base_uri": "https://localhost:8080/",
          "height": 204
        },
        "id": "ihagvwR2XFVi",
        "outputId": "4f03eea8-0756-4408-b41c-564cb62d8cc4"
      },
      "source": [
        "data_elon.head()"
      ],
      "execution_count": null,
      "outputs": [
        {
          "output_type": "execute_result",
          "data": {
            "text/html": [
              "<div>\n",
              "<style scoped>\n",
              "    .dataframe tbody tr th:only-of-type {\n",
              "        vertical-align: middle;\n",
              "    }\n",
              "\n",
              "    .dataframe tbody tr th {\n",
              "        vertical-align: top;\n",
              "    }\n",
              "\n",
              "    .dataframe thead th {\n",
              "        text-align: right;\n",
              "    }\n",
              "</style>\n",
              "<table border=\"1\" class=\"dataframe\">\n",
              "  <thead>\n",
              "    <tr style=\"text-align: right;\">\n",
              "      <th></th>\n",
              "      <th>Tweet</th>\n",
              "      <th>clean tweet</th>\n",
              "    </tr>\n",
              "  </thead>\n",
              "  <tbody>\n",
              "    <tr>\n",
              "      <th>0</th>\n",
              "      <td>@MeltingIce Assuming max acceleration of 2 to ...</td>\n",
              "      <td>Assuming max acceleration of 2 to 3 g s but in...</td>\n",
              "    </tr>\n",
              "    <tr>\n",
              "      <th>1</th>\n",
              "      <td>RT @SpaceX: BFR is capable of transporting sat...</td>\n",
              "      <td>RT BFR is capable of transporting satellites t...</td>\n",
              "    </tr>\n",
              "    <tr>\n",
              "      <th>2</th>\n",
              "      <td>@bigajm Yup :)</td>\n",
              "      <td>Yup</td>\n",
              "    </tr>\n",
              "    <tr>\n",
              "      <th>3</th>\n",
              "      <td>Part 2 https://t.co/8Fvu57muhM</td>\n",
              "      <td>Part 2</td>\n",
              "    </tr>\n",
              "    <tr>\n",
              "      <th>4</th>\n",
              "      <td>Fly to most places on Earth in under 30 mins a...</td>\n",
              "      <td>Fly to most places on Earth in under 30 mins a...</td>\n",
              "    </tr>\n",
              "  </tbody>\n",
              "</table>\n",
              "</div>"
            ],
            "text/plain": [
              "                                               Tweet                                        clean tweet\n",
              "0  @MeltingIce Assuming max acceleration of 2 to ...  Assuming max acceleration of 2 to 3 g s but in...\n",
              "1  RT @SpaceX: BFR is capable of transporting sat...  RT BFR is capable of transporting satellites t...\n",
              "2                                     @bigajm Yup :)                                                Yup\n",
              "3                     Part 2 https://t.co/8Fvu57muhM                                             Part 2\n",
              "4  Fly to most places on Earth in under 30 mins a...  Fly to most places on Earth in under 30 mins a..."
            ]
          },
          "metadata": {},
          "execution_count": 5
        }
      ]
    },
    {
      "cell_type": "code",
      "metadata": {
        "id": "wP7OIYmWZBfI"
      },
      "source": [
        "data_elon.drop(columns=\"Tweet\", inplace=True)"
      ],
      "execution_count": null,
      "outputs": []
    },
    {
      "cell_type": "code",
      "metadata": {
        "id": "riT898QlZnmF",
        "colab": {
          "base_uri": "https://localhost:8080/"
        },
        "outputId": "c9cd2c07-64d2-4883-c1b7-9718470e7744"
      },
      "source": [
        "print(\"Cantidad de documentos:\", data_elon.shape[0])"
      ],
      "execution_count": null,
      "outputs": [
        {
          "output_type": "stream",
          "name": "stdout",
          "text": [
            "Cantidad de documentos: 3218\n"
          ]
        }
      ]
    },
    {
      "cell_type": "markdown",
      "metadata": {
        "id": "ohS5Tao1d2KB"
      },
      "source": [
        "### 2 - Preprocesamiento completo\n",
        "Debemos realizar los mismos pasos que en el ejemplo anterior, pero antes de eso debemos transformar ese dataset de filas de oraciones en un texto completo continuo para poder extraer el vocabulario."
      ]
    },
    {
      "cell_type": "code",
      "metadata": {
        "id": "63Z2-Se2t27r",
        "colab": {
          "base_uri": "https://localhost:8080/"
        },
        "outputId": "19560fc1-b2b1-447f-e3a5-f3e2b659d68b"
      },
      "source": [
        "# Vistazo a las primeras filas\n",
        "data_elon.iloc[:15,0]"
      ],
      "execution_count": null,
      "outputs": [
        {
          "output_type": "execute_result",
          "data": {
            "text/plain": [
              "0     Assuming max acceleration of 2 to 3 g s but in...\n",
              "1     RT BFR is capable of transporting satellites t...\n",
              "2                                                   Yup\n",
              "3                                                Part 2\n",
              "4     Fly to most places on Earth in under 30 mins a...\n",
              "5     RT Supporting the creation of a permanent self...\n",
              "6     BFR will take you anywhere on Earth in less th...\n",
              "7     Mars City Opposite of Earth Dawn and dusk sky ...\n",
              "8                                       Moon Base Alpha\n",
              "9     Will be announcing something really special at...\n",
              "10    RT Nine years ago today Falcon 1 became the fi...\n",
              "11                       Just another day in the office\n",
              "12                          com Congrats Mom I love you\n",
              "13    RT I m so excited to say that I m now official...\n",
              "14    Prev ideas for paying 10B dev cost incl Kickst...\n",
              "Name: clean tweet, dtype: object"
            ]
          },
          "metadata": {},
          "execution_count": 24
        }
      ]
    },
    {
      "cell_type": "code",
      "metadata": {
        "id": "kILsSoxTuHEr"
      },
      "source": [
        "# Concatenamos todos los rows en un solo valor\n",
        "corpus = data_elon.apply(lambda row: ' '.join(row.values.astype(str)), axis=0)[0]"
      ],
      "execution_count": null,
      "outputs": []
    },
    {
      "cell_type": "code",
      "metadata": {
        "id": "_KlsYd7_uOez",
        "colab": {
          "base_uri": "https://localhost:8080/"
        },
        "outputId": "f26faca4-0c69-4763-b695-586df347cfd5"
      },
      "source": [
        "# Transformar el corpus a tokens\n",
        "tokens=text_to_word_sequence(corpus)\n",
        "# Vistazo general de los primeros tokens\n",
        "tokens[:20]"
      ],
      "execution_count": null,
      "outputs": [
        {
          "output_type": "execute_result",
          "data": {
            "text/plain": [
              "['assuming',\n",
              " 'max',\n",
              " 'acceleration',\n",
              " 'of',\n",
              " '2',\n",
              " 'to',\n",
              " '3',\n",
              " 'g',\n",
              " 's',\n",
              " 'but',\n",
              " 'in',\n",
              " 'a',\n",
              " 'comfortable',\n",
              " 'direction',\n",
              " 'will',\n",
              " 'feel',\n",
              " 'like',\n",
              " 'a',\n",
              " 'mild',\n",
              " 'to']"
            ]
          },
          "metadata": {},
          "execution_count": 27
        }
      ]
    },
    {
      "cell_type": "code",
      "metadata": {
        "id": "GlqpZSJOJ1xQ",
        "colab": {
          "base_uri": "https://localhost:8080/"
        },
        "outputId": "99e459d5-3464-46cc-a47e-17484c1b0994"
      },
      "source": [
        "print(\"Cantidad de tokens en el corpus:\", len(tokens))"
      ],
      "execution_count": null,
      "outputs": [
        {
          "output_type": "stream",
          "name": "stdout",
          "text": [
            "Cantidad de tokens en el corpus: 42337\n"
          ]
        }
      ]
    },
    {
      "cell_type": "code",
      "metadata": {
        "id": "RhQevOynuYk2"
      },
      "source": [
        "# Código para hacer el desfazaje de las palabras\n",
        "# según el train_len\n",
        "text_sequences = []\n",
        "for i in range(train_len, len(tokens)):\n",
        "  seq = tokens[i-train_len:i]\n",
        "  text_sequences.append(seq)"
      ],
      "execution_count": null,
      "outputs": []
    },
    {
      "cell_type": "code",
      "metadata": {
        "id": "FU3FuqHSuhzq",
        "colab": {
          "base_uri": "https://localhost:8080/"
        },
        "outputId": "6b7f0894-b602-47e0-9983-331285290ee8"
      },
      "source": [
        "# Demos un vistazo a nuestros vectores para entrenar el modelo\n",
        "text_sequences[:20]"
      ],
      "execution_count": null,
      "outputs": [
        {
          "output_type": "execute_result",
          "data": {
            "text/plain": [
              "[['assuming', 'max', 'acceleration', 'of'],\n",
              " ['max', 'acceleration', 'of', '2'],\n",
              " ['acceleration', 'of', '2', 'to'],\n",
              " ['of', '2', 'to', '3'],\n",
              " ['2', 'to', '3', 'g'],\n",
              " ['to', '3', 'g', 's'],\n",
              " ['3', 'g', 's', 'but'],\n",
              " ['g', 's', 'but', 'in'],\n",
              " ['s', 'but', 'in', 'a'],\n",
              " ['but', 'in', 'a', 'comfortable'],\n",
              " ['in', 'a', 'comfortable', 'direction'],\n",
              " ['a', 'comfortable', 'direction', 'will'],\n",
              " ['comfortable', 'direction', 'will', 'feel'],\n",
              " ['direction', 'will', 'feel', 'like'],\n",
              " ['will', 'feel', 'like', 'a'],\n",
              " ['feel', 'like', 'a', 'mild'],\n",
              " ['like', 'a', 'mild', 'to'],\n",
              " ['a', 'mild', 'to', 'moder'],\n",
              " ['mild', 'to', 'moder', 'rt'],\n",
              " ['to', 'moder', 'rt', 'bfr']]"
            ]
          },
          "metadata": {},
          "execution_count": 30
        }
      ]
    },
    {
      "cell_type": "code",
      "metadata": {
        "id": "064N2jtLvHRg",
        "colab": {
          "base_uri": "https://localhost:8080/"
        },
        "outputId": "19cce544-78a7-4f82-be44-5e8d2bb8087f"
      },
      "source": [
        "# Proceso de tokenizacion\n",
        "tok = Tokenizer() \n",
        "tok.fit_on_texts(text_sequences) \n",
        "\n",
        "# Convertimos las palabras a números\n",
        "# entran palabras -> salen números\n",
        "sequences = tok.texts_to_sequences(text_sequences)\n",
        "\n",
        "# Damos un vistazo\n",
        "sequences[:20]"
      ],
      "execution_count": null,
      "outputs": [
        {
          "output_type": "execute_result",
          "data": {
            "text/plain": [
              "[[2121, 237, 956, 4],\n",
              " [237, 956, 4, 71],\n",
              " [956, 4, 71, 2],\n",
              " [4, 71, 2, 48],\n",
              " [71, 2, 48, 1348],\n",
              " [2, 48, 1348, 8],\n",
              " [48, 1348, 8, 18],\n",
              " [1348, 8, 18, 6],\n",
              " [8, 18, 6, 3],\n",
              " [18, 6, 3, 2122],\n",
              " [6, 3, 2122, 2123],\n",
              " [3, 2122, 2123, 16],\n",
              " [2122, 2123, 16, 957],\n",
              " [2123, 16, 957, 38],\n",
              " [16, 957, 38, 3],\n",
              " [957, 38, 3, 3134],\n",
              " [38, 3, 3134, 2],\n",
              " [3, 3134, 2, 3135],\n",
              " [3134, 2, 3135, 7],\n",
              " [2, 3135, 7, 1642]]"
            ]
          },
          "metadata": {},
          "execution_count": 31
        }
      ]
    },
    {
      "cell_type": "code",
      "metadata": {
        "id": "vwsvmvDKKXSP",
        "colab": {
          "base_uri": "https://localhost:8080/"
        },
        "outputId": "25463c48-57fc-4c57-cc05-07a29d1d10c5"
      },
      "source": [
        "print(\"Cantidad de rows del dataset:\", len(sequences))"
      ],
      "execution_count": null,
      "outputs": [
        {
          "output_type": "stream",
          "name": "stdout",
          "text": [
            "Cantidad de rows del dataset: 42333\n"
          ]
        }
      ]
    },
    {
      "cell_type": "markdown",
      "metadata": {
        "id": "QMVP4bj0vL2e"
      },
      "source": [
        "### 3 - Input y target"
      ]
    },
    {
      "cell_type": "code",
      "metadata": {
        "id": "e1vJTG65v4Qn",
        "colab": {
          "base_uri": "https://localhost:8080/"
        },
        "outputId": "e33e1285-2728-4160-d393-e2bf7bf15e32"
      },
      "source": [
        "arr_sequences = np.array(sequences)\n",
        "x_data = arr_sequences[:,:-1]\n",
        "y_data_int = arr_sequences[:,-1] # aún falta el oneHotEncoder\n",
        "\n",
        "print(x_data.shape)\n",
        "print(y_data_int.shape)"
      ],
      "execution_count": null,
      "outputs": [
        {
          "output_type": "stream",
          "name": "stdout",
          "text": [
            "(42333, 3)\n",
            "(42333,)\n"
          ]
        }
      ]
    },
    {
      "cell_type": "code",
      "metadata": {
        "id": "ln6kVWVlwBBs"
      },
      "source": [
        "# Palabras del vocabulario\n",
        "tok.index_word"
      ],
      "execution_count": null,
      "outputs": []
    },
    {
      "cell_type": "code",
      "metadata": {
        "id": "gJgVhq1zwEpf",
        "colab": {
          "base_uri": "https://localhost:8080/"
        },
        "outputId": "24220533-ce7d-4040-977e-056242ed5bef"
      },
      "source": [
        "# Cantidad de palabras en el vocabulario\n",
        "vocab_size = len(tok.word_counts)\n",
        "vocab_size"
      ],
      "execution_count": null,
      "outputs": [
        {
          "output_type": "execute_result",
          "data": {
            "text/plain": [
              "6430"
            ]
          },
          "metadata": {},
          "execution_count": 35
        }
      ]
    },
    {
      "cell_type": "code",
      "metadata": {
        "colab": {
          "base_uri": "https://localhost:8080/"
        },
        "id": "JlUzfaN5Q_Ma",
        "outputId": "02f9eb83-21b6-443c-8788-a3fd6017dee5"
      },
      "source": [
        "y_data_int"
      ],
      "execution_count": null,
      "outputs": [
        {
          "output_type": "execute_result",
          "data": {
            "text/plain": [
              "array([   4,   71,    2, ...,  221,   38, 6430])"
            ]
          },
          "metadata": {},
          "execution_count": 37
        }
      ]
    },
    {
      "cell_type": "code",
      "metadata": {
        "id": "gIg2e2WCwXbG",
        "colab": {
          "base_uri": "https://localhost:8080/"
        },
        "outputId": "b9c2c06e-5db8-4d87-f015-30891e1155f1"
      },
      "source": [
        "y_data_int_offset = y_data_int - 1\n",
        "y_data = to_categorical(y_data_int_offset, num_classes=vocab_size) \n",
        "y_data.shape"
      ],
      "execution_count": null,
      "outputs": [
        {
          "output_type": "execute_result",
          "data": {
            "text/plain": [
              "(42333, 6430)"
            ]
          },
          "metadata": {},
          "execution_count": 39
        }
      ]
    },
    {
      "cell_type": "markdown",
      "metadata": {
        "id": "GmJWNyxQwfCE"
      },
      "source": [
        "### 4 - Entrenar el modelo"
      ]
    },
    {
      "cell_type": "code",
      "metadata": {
        "id": "0cOmNZT_weK2",
        "colab": {
          "base_uri": "https://localhost:8080/"
        },
        "outputId": "be1c2066-baba-4383-df89-3117556e028e"
      },
      "source": [
        "# largo de la secuencia de entrada\n",
        "input_seq_len = x_data.shape[1] \n",
        "input_seq_len"
      ],
      "execution_count": null,
      "outputs": [
        {
          "output_type": "execute_result",
          "data": {
            "text/plain": [
              "3"
            ]
          },
          "metadata": {},
          "execution_count": 40
        }
      ]
    },
    {
      "cell_type": "code",
      "metadata": {
        "id": "qtwITjgnwlgp",
        "colab": {
          "base_uri": "https://localhost:8080/"
        },
        "outputId": "2d51f7d8-2689-42b9-ff46-732b8c596abc"
      },
      "source": [
        "# Largo del vector de salida --> vocab_size\n",
        "output_size = vocab_size\n",
        "output_size"
      ],
      "execution_count": null,
      "outputs": [
        {
          "output_type": "execute_result",
          "data": {
            "text/plain": [
              "6430"
            ]
          },
          "metadata": {},
          "execution_count": 41
        }
      ]
    },
    {
      "cell_type": "code",
      "metadata": {
        "id": "jzTZRXrrwrvi",
        "colab": {
          "base_uri": "https://localhost:8080/"
        },
        "outputId": "829cd0bf-52b1-404c-dcbb-90a71f04d911"
      },
      "source": [
        "model = Sequential()\n",
        "\n",
        "# Embedding:\n",
        "# input_seq_len = 3 --> ingreso 3 palabras\n",
        "# input_dim = vocab_size --> 6430 palabras distintas\n",
        "# output_dim = 5 --> crear embeddings de tamaño 5 (tamaño variable y ajustable)\n",
        "model.add(Embedding(input_dim=vocab_size+1, output_dim=5, input_length=input_seq_len))\n",
        "model.add(Bidirectional(LSTM(64, activation='relu', return_sequences=True)))\n",
        "model.add(Dropout(0.2))\n",
        "model.add(LSTM(64)) # La última capa LSTM no lleva return_sequences\n",
        "model.add(Dense(32, activation='relu'))\n",
        "\n",
        "# Predicción de clasificación con softmax\n",
        "# La salida vuelve al espacio de 6430 palabras posibles\n",
        "model.add(Dense(vocab_size, activation='softmax'))\n",
        "\n",
        "# Clasificación multiple categórica --> loss = categorical_crossentropy\n",
        "model.compile(loss='categorical_crossentropy', optimizer='adam', metrics=['accuracy'])\n",
        "\n",
        "model.summary()"
      ],
      "execution_count": null,
      "outputs": [
        {
          "output_type": "stream",
          "name": "stdout",
          "text": [
            "WARNING:tensorflow:Layer lstm_8 will not use cuDNN kernels since it doesn't meet the criteria. It will use a generic GPU kernel as fallback when running on GPU.\n",
            "WARNING:tensorflow:Layer lstm_8 will not use cuDNN kernels since it doesn't meet the criteria. It will use a generic GPU kernel as fallback when running on GPU.\n",
            "WARNING:tensorflow:Layer lstm_8 will not use cuDNN kernels since it doesn't meet the criteria. It will use a generic GPU kernel as fallback when running on GPU.\n",
            "Model: \"sequential_5\"\n",
            "_________________________________________________________________\n",
            "Layer (type)                 Output Shape              Param #   \n",
            "=================================================================\n",
            "embedding_5 (Embedding)      (None, 3, 5)              32155     \n",
            "_________________________________________________________________\n",
            "bidirectional_2 (Bidirection (None, 3, 128)            35840     \n",
            "_________________________________________________________________\n",
            "dropout_3 (Dropout)          (None, 3, 128)            0         \n",
            "_________________________________________________________________\n",
            "lstm_9 (LSTM)                (None, 64)                49408     \n",
            "_________________________________________________________________\n",
            "dense_4 (Dense)              (None, 32)                2080      \n",
            "_________________________________________________________________\n",
            "dense_5 (Dense)              (None, 6430)              212190    \n",
            "=================================================================\n",
            "Total params: 331,673\n",
            "Trainable params: 331,673\n",
            "Non-trainable params: 0\n",
            "_________________________________________________________________\n"
          ]
        }
      ]
    },
    {
      "cell_type": "code",
      "metadata": {
        "id": "oQq1PHDkxDvN",
        "colab": {
          "base_uri": "https://localhost:8080/"
        },
        "outputId": "d318f20e-e2a1-4f3e-e96c-a2fa957cc200"
      },
      "source": [
        "hist = model.fit(x_data, y_data, epochs=50, validation_split=0.2)"
      ],
      "execution_count": null,
      "outputs": [
        {
          "output_type": "stream",
          "name": "stdout",
          "text": [
            "Epoch 1/50\n",
            "1059/1059 [==============================] - 42s 36ms/step - loss: 7.3476 - accuracy: 0.0272 - val_loss: 7.3676 - val_accuracy: 0.0293\n",
            "Epoch 2/50\n",
            "1059/1059 [==============================] - 38s 36ms/step - loss: 6.9599 - accuracy: 0.0296 - val_loss: 7.5183 - val_accuracy: 0.0340\n",
            "Epoch 3/50\n",
            "1059/1059 [==============================] - 38s 36ms/step - loss: 6.8719 - accuracy: 0.0339 - val_loss: 7.5548 - val_accuracy: 0.0390\n",
            "Epoch 4/50\n",
            "1059/1059 [==============================] - 38s 36ms/step - loss: 6.7761 - accuracy: 0.0393 - val_loss: 7.6657 - val_accuracy: 0.0409\n",
            "Epoch 5/50\n",
            "1059/1059 [==============================] - 38s 36ms/step - loss: 6.6568 - accuracy: 0.0441 - val_loss: 7.7990 - val_accuracy: 0.0423\n",
            "Epoch 6/50\n",
            "1059/1059 [==============================] - 37s 35ms/step - loss: 6.5537 - accuracy: 0.0470 - val_loss: 7.8622 - val_accuracy: 0.0456\n",
            "Epoch 7/50\n",
            "1059/1059 [==============================] - 39s 37ms/step - loss: 6.4708 - accuracy: 0.0490 - val_loss: 8.0090 - val_accuracy: 0.0423\n",
            "Epoch 8/50\n",
            "1059/1059 [==============================] - 38s 36ms/step - loss: 6.3996 - accuracy: 0.0522 - val_loss: 8.2306 - val_accuracy: 0.0430\n",
            "Epoch 9/50\n",
            "1059/1059 [==============================] - 38s 36ms/step - loss: 6.3310 - accuracy: 0.0563 - val_loss: 8.3802 - val_accuracy: 0.0523\n",
            "Epoch 10/50\n",
            "1059/1059 [==============================] - 38s 36ms/step - loss: 6.2601 - accuracy: 0.0598 - val_loss: 8.4493 - val_accuracy: 0.0509\n",
            "Epoch 11/50\n",
            "1059/1059 [==============================] - 37s 35ms/step - loss: 6.1881 - accuracy: 0.0616 - val_loss: 8.6248 - val_accuracy: 0.0467\n",
            "Epoch 12/50\n",
            "1059/1059 [==============================] - 37s 35ms/step - loss: 6.1101 - accuracy: 0.0647 - val_loss: 8.7140 - val_accuracy: 0.0537\n",
            "Epoch 13/50\n",
            "1059/1059 [==============================] - 37s 35ms/step - loss: 6.0270 - accuracy: 0.0669 - val_loss: 8.8680 - val_accuracy: 0.0482\n",
            "Epoch 14/50\n",
            "1059/1059 [==============================] - 38s 35ms/step - loss: 5.9436 - accuracy: 0.0685 - val_loss: 9.0591 - val_accuracy: 0.0566\n",
            "Epoch 15/50\n",
            "1059/1059 [==============================] - 37s 35ms/step - loss: 5.8642 - accuracy: 0.0711 - val_loss: 9.1732 - val_accuracy: 0.0562\n",
            "Epoch 16/50\n",
            "1059/1059 [==============================] - 37s 35ms/step - loss: 5.7806 - accuracy: 0.0741 - val_loss: 9.4892 - val_accuracy: 0.0561\n",
            "Epoch 17/50\n",
            "1059/1059 [==============================] - 36s 34ms/step - loss: 5.7010 - accuracy: 0.0770 - val_loss: 9.5155 - val_accuracy: 0.0586\n",
            "Epoch 18/50\n",
            "1059/1059 [==============================] - 38s 36ms/step - loss: 5.6265 - accuracy: 0.0803 - val_loss: 9.6143 - val_accuracy: 0.0588\n",
            "Epoch 19/50\n",
            "1059/1059 [==============================] - 40s 38ms/step - loss: 5.5554 - accuracy: 0.0841 - val_loss: 10.0155 - val_accuracy: 0.0575\n",
            "Epoch 20/50\n",
            "1059/1059 [==============================] - 38s 35ms/step - loss: 5.4898 - accuracy: 0.0864 - val_loss: 10.1419 - val_accuracy: 0.0513\n",
            "Epoch 21/50\n",
            "1059/1059 [==============================] - 37s 35ms/step - loss: 5.4252 - accuracy: 0.0896 - val_loss: 10.3586 - val_accuracy: 0.0586\n",
            "Epoch 22/50\n",
            "1059/1059 [==============================] - 38s 36ms/step - loss: 5.3643 - accuracy: 0.0922 - val_loss: 10.5345 - val_accuracy: 0.0607\n",
            "Epoch 23/50\n",
            "1059/1059 [==============================] - 38s 36ms/step - loss: 5.3103 - accuracy: 0.0937 - val_loss: 10.8936 - val_accuracy: 0.0562\n",
            "Epoch 24/50\n",
            "1059/1059 [==============================] - 38s 36ms/step - loss: 5.2493 - accuracy: 0.0978 - val_loss: 11.1901 - val_accuracy: 0.0586\n",
            "Epoch 25/50\n",
            "1059/1059 [==============================] - 38s 36ms/step - loss: 5.1926 - accuracy: 0.0980 - val_loss: 11.5426 - val_accuracy: 0.0568\n",
            "Epoch 26/50\n",
            "1059/1059 [==============================] - 38s 36ms/step - loss: 5.1397 - accuracy: 0.1018 - val_loss: 11.9076 - val_accuracy: 0.0582\n",
            "Epoch 27/50\n",
            "1059/1059 [==============================] - 37s 35ms/step - loss: 5.0910 - accuracy: 0.1049 - val_loss: 12.1445 - val_accuracy: 0.0533\n",
            "Epoch 28/50\n",
            "1059/1059 [==============================] - 37s 35ms/step - loss: 5.0410 - accuracy: 0.1081 - val_loss: 12.3811 - val_accuracy: 0.0543\n",
            "Epoch 29/50\n",
            "1059/1059 [==============================] - 37s 35ms/step - loss: 4.9965 - accuracy: 0.1085 - val_loss: 13.2325 - val_accuracy: 0.0540\n",
            "Epoch 30/50\n",
            "1059/1059 [==============================] - 38s 36ms/step - loss: 4.9524 - accuracy: 0.1122 - val_loss: 13.2980 - val_accuracy: 0.0510\n",
            "Epoch 31/50\n",
            "1059/1059 [==============================] - 38s 35ms/step - loss: 4.9103 - accuracy: 0.1131 - val_loss: 13.5865 - val_accuracy: 0.0546\n",
            "Epoch 32/50\n",
            "1059/1059 [==============================] - 37s 35ms/step - loss: 4.8669 - accuracy: 0.1156 - val_loss: 14.0147 - val_accuracy: 0.0559\n",
            "Epoch 33/50\n",
            "1059/1059 [==============================] - 37s 35ms/step - loss: 4.8301 - accuracy: 0.1184 - val_loss: 14.2851 - val_accuracy: 0.0555\n",
            "Epoch 34/50\n",
            "1059/1059 [==============================] - 38s 36ms/step - loss: 4.7932 - accuracy: 0.1196 - val_loss: 14.4538 - val_accuracy: 0.0556\n",
            "Epoch 35/50\n",
            "1059/1059 [==============================] - 38s 36ms/step - loss: 4.7560 - accuracy: 0.1225 - val_loss: 14.6778 - val_accuracy: 0.0537\n",
            "Epoch 36/50\n",
            "1059/1059 [==============================] - 38s 36ms/step - loss: 4.7231 - accuracy: 0.1229 - val_loss: 15.4487 - val_accuracy: 0.0567\n",
            "Epoch 37/50\n",
            "1059/1059 [==============================] - 37s 35ms/step - loss: 4.6902 - accuracy: 0.1243 - val_loss: 15.5567 - val_accuracy: 0.0515\n",
            "Epoch 38/50\n",
            "1059/1059 [==============================] - 37s 35ms/step - loss: 4.6643 - accuracy: 0.1273 - val_loss: 16.1067 - val_accuracy: 0.0543\n",
            "Epoch 39/50\n",
            "1059/1059 [==============================] - 37s 35ms/step - loss: 4.6352 - accuracy: 0.1277 - val_loss: 16.1185 - val_accuracy: 0.0504\n",
            "Epoch 40/50\n",
            "1059/1059 [==============================] - 37s 35ms/step - loss: 4.6009 - accuracy: 0.1322 - val_loss: 16.6972 - val_accuracy: 0.0514\n",
            "Epoch 41/50\n",
            "1059/1059 [==============================] - 37s 35ms/step - loss: 4.5738 - accuracy: 0.1315 - val_loss: 16.9052 - val_accuracy: 0.0536\n",
            "Epoch 42/50\n",
            "1059/1059 [==============================] - 37s 35ms/step - loss: 4.5530 - accuracy: 0.1349 - val_loss: 17.1162 - val_accuracy: 0.0520\n",
            "Epoch 43/50\n",
            "1059/1059 [==============================] - 37s 35ms/step - loss: 4.5264 - accuracy: 0.1336 - val_loss: 17.2281 - val_accuracy: 0.0511\n",
            "Epoch 44/50\n",
            "1059/1059 [==============================] - 38s 36ms/step - loss: 4.5019 - accuracy: 0.1376 - val_loss: 17.8233 - val_accuracy: 0.0542\n",
            "Epoch 45/50\n",
            "1059/1059 [==============================] - 37s 35ms/step - loss: 4.4804 - accuracy: 0.1387 - val_loss: 18.1185 - val_accuracy: 0.0503\n",
            "Epoch 46/50\n",
            "1059/1059 [==============================] - 37s 35ms/step - loss: 4.4639 - accuracy: 0.1397 - val_loss: 18.1957 - val_accuracy: 0.0539\n",
            "Epoch 47/50\n",
            "1059/1059 [==============================] - 37s 35ms/step - loss: 4.4300 - accuracy: 0.1409 - val_loss: 18.3761 - val_accuracy: 0.0535\n",
            "Epoch 48/50\n",
            "1059/1059 [==============================] - 37s 35ms/step - loss: 4.4078 - accuracy: 0.1420 - val_loss: 18.7126 - val_accuracy: 0.0477\n",
            "Epoch 49/50\n",
            "1059/1059 [==============================] - 39s 37ms/step - loss: 4.4020 - accuracy: 0.1461 - val_loss: 19.1507 - val_accuracy: 0.0542\n",
            "Epoch 50/50\n",
            "1059/1059 [==============================] - 37s 35ms/step - loss: 4.3790 - accuracy: 0.1471 - val_loss: 19.1951 - val_accuracy: 0.0537\n"
          ]
        }
      ]
    },
    {
      "cell_type": "code",
      "metadata": {
        "id": "q_orBXOrCsNn",
        "colab": {
          "base_uri": "https://localhost:8080/",
          "height": 265
        },
        "outputId": "87f26293-0b7f-462e-8f0f-9b27d700d9d4"
      },
      "source": [
        "# Entrenamiento\n",
        "epoch_count = range(1, len(hist.history['accuracy']) + 1)\n",
        "sns.lineplot(x=epoch_count,  y=hist.history['accuracy'], label='train')\n",
        "sns.lineplot(x=epoch_count,  y=hist.history['val_accuracy'], label='valid')\n",
        "plt.show()"
      ],
      "execution_count": null,
      "outputs": [
        {
          "output_type": "display_data",
          "data": {
            "image/png": "[encoded data removed]",
            "text/plain": [
              "<Figure size 432x288 with 1 Axes>"
            ]
          },
          "metadata": {
            "needs_background": "light"
          }
        }
      ]
    },
    {
      "cell_type": "markdown",
      "metadata": {
        "id": "KN6Fg_BsxJe6"
      },
      "source": [
        "### 5 - Predicción de próxima palabra"
      ]
    },
    {
      "cell_type": "code",
      "metadata": {
        "id": "iy_AXWQWzeeE"
      },
      "source": [
        "# Keras pad_sequences\n",
        "# https://www.tensorflow.org/api_docs/python/tf/keras/preprocessing/sequence/pad_sequences\n",
        "# Si la secuencia de entrada supera al input_seq_len (3) se trunca\n",
        "# Si la secuencia es más corta se agregna ceros al comienzo"
      ],
      "execution_count": null,
      "outputs": []
    },
    {
      "cell_type": "code",
      "metadata": {
        "id": "IBvKHFPmzpy2",
        "colab": {
          "base_uri": "https://localhost:8080/"
        },
        "outputId": "3b08668e-7ea3-4266-fbba-535840d0a24c"
      },
      "source": [
        "# Se utilizará gradio para ensayar el modelo\n",
        "# Herramienta poderosa para crear interfaces rápidas para ensayar modelos\n",
        "# https://gradio.app/\n",
        "!pip install gradio --quiet"
      ],
      "execution_count": null,
      "outputs": [
        {
          "output_type": "stream",
          "name": "stdout",
          "text": [
            "\u001b[K     |████████████████████████████████| 3.4 MB 5.3 MB/s \n",
            "\u001b[K     |████████████████████████████████| 1.9 MB 35.2 MB/s \n",
            "\u001b[K     |████████████████████████████████| 206 kB 38.6 MB/s \n",
            "\u001b[K     |████████████████████████████████| 961 kB 37.0 MB/s \n",
            "\u001b[K     |████████████████████████████████| 3.5 MB 35.4 MB/s \n",
            "\u001b[K     |████████████████████████████████| 63 kB 2.2 MB/s \n",
            "\u001b[?25h  Building wheel for ffmpy (setup.py) ... \u001b[?25l\u001b[?25hdone\n",
            "  Building wheel for flask-cachebuster (setup.py) ... \u001b[?25l\u001b[?25hdone\n"
          ]
        }
      ]
    },
    {
      "cell_type": "code",
      "metadata": {
        "id": "HNyBykvhzs7-",
        "colab": {
          "base_uri": "https://localhost:8080/",
          "height": 905
        },
        "outputId": "5dc21abc-e049-4211-a56d-6cdb84b8ffde"
      },
      "source": [
        "import gradio as gr\n",
        "\n",
        "def model_response(human_text):\n",
        "\n",
        "    # Encodeamos\n",
        "    encoded = tok.texts_to_sequences([human_text])[0]\n",
        "    # Si tienen distinto largo\n",
        "    encoded = pad_sequences([encoded], maxlen=3, padding='pre')\n",
        "    \n",
        "    # Predicción softmax\n",
        "    y_hat = model.predict(encoded).argmax(axis=-1)\n",
        "\n",
        "    # Debemos buscar en el vocabulario la palabra\n",
        "    # que corresopnde al indice (y_hat) predicho por le modelo\n",
        "    out_word = ''\n",
        "    for word, index in tok.word_index.items():\n",
        "        if index == y_hat:\n",
        "            out_word = word\n",
        "            break\n",
        "\n",
        "    # Agrego la palabra a la frase predicha\n",
        "    return human_text + ' ' + out_word\n",
        "\n",
        "iface = gr.Interface(\n",
        "    fn=model_response,\n",
        "    inputs=[\"textbox\"],\n",
        "    outputs=\"text\",\n",
        "    layout=\"vertical\")\n",
        "\n",
        "iface.launch(debug=True)"
      ],
      "execution_count": null,
      "outputs": [
        {
          "output_type": "stream",
          "name": "stdout",
          "text": [
            "Colab notebook detected. This cell will run indefinitely so that you can see errors and logs. To turn off, set debug=False in launch().\n",
            "This share link will expire in 72 hours. If you need a permanent link, visit: https://gradio.app/introducing-hosted\n",
            "Running on External URL: https://52064.gradio.app\n",
            "Interface loading below...\n"
          ]
        },
        {
          "output_type": "display_data",
          "data": {
            "text/html": [
              "\n",
              "        <iframe\n",
              "            width=\"900\"\n",
              "            height=\"500\"\n",
              "            src=\"https://52064.gradio.app\"\n",
              "            frameborder=\"0\"\n",
              "            allowfullscreen\n",
              "        ></iframe>\n",
              "        "
            ],
            "text/plain": [
              "<IPython.lib.display.IFrame at 0x7fac58fb3dd0>"
            ]
          },
          "metadata": {}
        },
        {
          "output_type": "error",
          "ename": "KeyboardInterrupt",
          "evalue": "ignored",
          "traceback": [
            "\u001b[0;31m---------------------------------------------------------------------------\u001b[0m",
            "\u001b[0;31mKeyboardInterrupt\u001b[0m                         Traceback (most recent call last)",
            "\u001b[0;32m<ipython-input-52-2a8fe09160a6>\u001b[0m in \u001b[0;36m<module>\u001b[0;34m()\u001b[0m\n\u001b[1;32m     28\u001b[0m     layout=\"vertical\")\n\u001b[1;32m     29\u001b[0m \u001b[0;34m\u001b[0m\u001b[0m\n\u001b[0;32m---> 30\u001b[0;31m \u001b[0miface\u001b[0m\u001b[0;34m.\u001b[0m\u001b[0mlaunch\u001b[0m\u001b[0;34m(\u001b[0m\u001b[0mdebug\u001b[0m\u001b[0;34m=\u001b[0m\u001b[0;32mTrue\u001b[0m\u001b[0;34m)\u001b[0m\u001b[0;34m\u001b[0m\u001b[0;34m\u001b[0m\u001b[0m\n\u001b[0m",
            "\u001b[0;32m/usr/local/lib/python3.7/dist-packages/gradio/interface.py\u001b[0m in \u001b[0;36mlaunch\u001b[0;34m(self, inline, inbrowser, share, debug, auth, auth_message, private_endpoint, prevent_thread_lock)\u001b[0m\n\u001b[1;32m    588\u001b[0m             \u001b[0;32mwhile\u001b[0m \u001b[0;32mTrue\u001b[0m\u001b[0;34m:\u001b[0m\u001b[0;34m\u001b[0m\u001b[0;34m\u001b[0m\u001b[0m\n\u001b[1;32m    589\u001b[0m                 \u001b[0msys\u001b[0m\u001b[0;34m.\u001b[0m\u001b[0mstdout\u001b[0m\u001b[0;34m.\u001b[0m\u001b[0mflush\u001b[0m\u001b[0;34m(\u001b[0m\u001b[0;34m)\u001b[0m\u001b[0;34m\u001b[0m\u001b[0;34m\u001b[0m\u001b[0m\n\u001b[0;32m--> 590\u001b[0;31m                 \u001b[0mtime\u001b[0m\u001b[0;34m.\u001b[0m\u001b[0msleep\u001b[0m\u001b[0;34m(\u001b[0m\u001b[0;36m0.1\u001b[0m\u001b[0;34m)\u001b[0m\u001b[0;34m\u001b[0m\u001b[0;34m\u001b[0m\u001b[0m\n\u001b[0m\u001b[1;32m    591\u001b[0m         \u001b[0mis_in_interactive_mode\u001b[0m \u001b[0;34m=\u001b[0m \u001b[0mbool\u001b[0m\u001b[0;34m(\u001b[0m\u001b[0mgetattr\u001b[0m\u001b[0;34m(\u001b[0m\u001b[0msys\u001b[0m\u001b[0;34m,\u001b[0m \u001b[0;34m'ps1'\u001b[0m\u001b[0;34m,\u001b[0m \u001b[0msys\u001b[0m\u001b[0;34m.\u001b[0m\u001b[0mflags\u001b[0m\u001b[0;34m.\u001b[0m\u001b[0minteractive\u001b[0m\u001b[0;34m)\u001b[0m\u001b[0;34m)\u001b[0m\u001b[0;34m\u001b[0m\u001b[0;34m\u001b[0m\u001b[0m\n\u001b[1;32m    592\u001b[0m         \u001b[0;32mif\u001b[0m \u001b[0;32mnot\u001b[0m \u001b[0mprevent_thread_lock\u001b[0m \u001b[0;32mand\u001b[0m \u001b[0;32mnot\u001b[0m \u001b[0mis_in_interactive_mode\u001b[0m\u001b[0;34m:\u001b[0m\u001b[0;34m\u001b[0m\u001b[0;34m\u001b[0m\u001b[0m\n",
            "\u001b[0;31mKeyboardInterrupt\u001b[0m: "
          ]
        }
      ]
    },
    {
      "cell_type": "markdown",
      "metadata": {
        "id": "mCeMWWupxN1-"
      },
      "source": [
        "### 6 - Generación de secuencias nuevas"
      ]
    },
    {
      "cell_type": "code",
      "metadata": {
        "id": "bwbS_pfhxvB3"
      },
      "source": [
        "def generate_seq(model, tokenizer, seed_text, max_length, n_words):\n",
        "    \"\"\"\n",
        "        Exec model sequence prediction\n",
        "\n",
        "        Args:\n",
        "            model (keras): modelo entrenado\n",
        "            tokenizer (keras tokenizer): tonenizer utilizado en el preprocesamiento\n",
        "            seed_text (string): texto de entrada (input_seq)\n",
        "            max_length (int): máxima longitud de la sequencia de entrada\n",
        "            n_words (int): números de palabras a agregar a la sequencia de entrada\n",
        "        returns:\n",
        "            output_text (string): sentencia con las \"n_words\" agregadas\n",
        "    \"\"\"\n",
        "    output_text = seed_text\n",
        "\t# generate a fixed number of words\n",
        "    for _ in range(n_words):\n",
        "\t\t# Encodeamos\n",
        "        encoded = tokenizer.texts_to_sequences([output_text])[0]\n",
        "\t\t# Si tienen distinto largo\n",
        "        encoded = pad_sequences([encoded], maxlen=max_length, padding='pre')\n",
        "\t\t\n",
        "\t\t# Predicción softmax\n",
        "        y_hat = model.predict(encoded).argmax(axis=-1)\n",
        "\t\t# Vamos concatenando las predicciones\n",
        "        out_word = ''\n",
        "\n",
        "        # Debemos buscar en el vocabulario la palabra\n",
        "        # que corresopnde al indice (y_hat) predicho por le modelo\n",
        "        for word, index in tokenizer.word_index.items():\n",
        "            if index == y_hat:\n",
        "                out_word = word\n",
        "                break\n",
        "\n",
        "\t\t# Agrego las palabras a la frase predicha\n",
        "        output_text += ' ' + out_word\n",
        "    return output_text"
      ],
      "execution_count": null,
      "outputs": []
    },
    {
      "cell_type": "code",
      "metadata": {
        "id": "JoFqRC5pxzqS",
        "colab": {
          "base_uri": "https://localhost:8080/",
          "height": 35
        },
        "outputId": "9f453182-e1be-46c9-86a4-71e2790f0743"
      },
      "source": [
        "input_text='btc'\n",
        "\n",
        "generate_seq(model, tok, input_text, max_length=3, n_words=25)"
      ],
      "execution_count": null,
      "outputs": [
        {
          "output_type": "execute_result",
          "data": {
            "application/vnd.google.colaboratory.intrinsic+json": {
              "type": "string"
            },
            "text/plain": [
              "'btc improvement tax new systems                     '"
            ]
          },
          "metadata": {},
          "execution_count": 67
        }
      ]
    },
    {
      "cell_type": "markdown",
      "metadata": {
        "id": "T2SHmXbgxQH9"
      },
      "source": [
        "### 7 - Conclusiones\n",
        "El modelo tuvo un bastante mal desempeño al intentar predecir la siguiente palabra de una secuencia de palabras. Tal cual como sucedió con la práctica en clase, comenzamos a experimentar overfitting durante el entrenamiento. \n",
        "\n",
        "En contraste con el modelo planteado en clase, esta vez utilizamos una capa bidireccional esperando obtener un mejor resultado, pero no se lograron grandes mejoras."
      ]
    },
    {
      "cell_type": "code",
      "metadata": {
        "id": "PLSAiPfZJ4_J"
      },
      "source": [
        ""
      ],
      "execution_count": null,
      "outputs": []
    }
  ]
}