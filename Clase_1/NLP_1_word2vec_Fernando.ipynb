{
  "nbformat": 4,
  "nbformat_minor": 0,
  "metadata": {
    "colab": {
      "name": "NLP 1 - word2vec - Fernando.ipynb",
      "provenance": [],
      "collapsed_sections": []
    },
    "kernelspec": {
      "name": "python3",
      "display_name": "Python 3"
    },
    "language_info": {
      "name": "python"
    }
  },
  "cells": [
    {
      "cell_type": "markdown",
      "metadata": {
        "id": "Ue5hxxkdAQJg"
      },
      "source": [
        "<a href=\"https://www.inove.com.ar\"><img src=\"https://github.com/hernancontigiani/ceia_memorias_especializacion/raw/master/Figures/logoFIUBA.jpg\" width=\"500\" align=\"center\"></a>\n",
        "\n",
        "\n",
        "# Procesamiento de lenguaje natural\n",
        "## Word2vect\n"
      ]
    },
    {
      "cell_type": "code",
      "metadata": {
        "id": "kCED1hh-Ioyf"
      },
      "source": [
        "import numpy as np"
      ],
      "execution_count": 1,
      "outputs": []
    },
    {
      "cell_type": "code",
      "metadata": {
        "id": "PUbfVnzIIoMj"
      },
      "source": [
        "def cosine_similarity(a, b):\n",
        "    return np.dot(a, b) / (np.linalg.norm(a) * (np.linalg.norm(b)))"
      ],
      "execution_count": 2,
      "outputs": []
    },
    {
      "cell_type": "markdown",
      "metadata": {
        "id": "DMOa4JPSCJ29"
      },
      "source": [
        "### Datos"
      ]
    },
    {
      "cell_type": "code",
      "metadata": {
        "id": "RIO7b8GjAC17"
      },
      "source": [
        "corpus = np.array(['que dia es hoy', 'martes el dia de hoy es martes', 'martes muchas gracias'])"
      ],
      "execution_count": 3,
      "outputs": []
    },
    {
      "cell_type": "markdown",
      "metadata": {
        "id": "FVHxBRNzCMOS"
      },
      "source": [
        "### 1 - Obtener el vocabulario del corpus (los términos utilizados)\n",
        "- Cada documento transformarlo en una lista de términos\n",
        "- Armar un vector de términos no repetidos de todos los documentos"
      ]
    },
    {
      "cell_type": "code",
      "metadata": {
        "id": "gcAa8q_k4Bo-"
      },
      "source": [
        "n_documents = corpus.shape[0]\n",
        "d = {}\n",
        "for i in range(n_documents):\n",
        "    d[f\"document{i}\"] = corpus[i].split()"
      ],
      "execution_count": 4,
      "outputs": []
    },
    {
      "cell_type": "code",
      "metadata": {
        "colab": {
          "base_uri": "https://localhost:8080/"
        },
        "id": "_d8N1qT950Gz",
        "outputId": "1bb21e04-4fea-4e97-9134-8d863e42fe26"
      },
      "source": [
        "list(d.values())"
      ],
      "execution_count": 5,
      "outputs": [
        {
          "output_type": "execute_result",
          "data": {
            "text/plain": [
              "[['que', 'dia', 'es', 'hoy'],\n",
              " ['martes', 'el', 'dia', 'de', 'hoy', 'es', 'martes'],\n",
              " ['martes', 'muchas', 'gracias']]"
            ]
          },
          "metadata": {},
          "execution_count": 5
        }
      ]
    },
    {
      "cell_type": "code",
      "metadata": {
        "id": "-EfOx11k58cX"
      },
      "source": [
        "bag_of_words = []\n",
        "for i in d.keys():\n",
        "  bag_of_words += d[i]"
      ],
      "execution_count": 6,
      "outputs": []
    },
    {
      "cell_type": "code",
      "metadata": {
        "id": "3ZqTOZzDI7uv",
        "colab": {
          "base_uri": "https://localhost:8080/"
        },
        "outputId": "54f20805-5e03-4f50-9e14-9d59a73e23b4"
      },
      "source": [
        "set(bag_of_words)"
      ],
      "execution_count": 7,
      "outputs": [
        {
          "output_type": "execute_result",
          "data": {
            "text/plain": [
              "{'de', 'dia', 'el', 'es', 'gracias', 'hoy', 'martes', 'muchas', 'que'}"
            ]
          },
          "metadata": {},
          "execution_count": 7
        }
      ]
    },
    {
      "cell_type": "code",
      "metadata": {
        "colab": {
          "base_uri": "https://localhost:8080/"
        },
        "id": "eD_E1Zso-ZWt",
        "outputId": "44a3289e-554e-4c9d-c017-405e387a941d"
      },
      "source": [
        "np.unique(bag_of_words)"
      ],
      "execution_count": 8,
      "outputs": [
        {
          "output_type": "execute_result",
          "data": {
            "text/plain": [
              "array(['de', 'dia', 'el', 'es', 'gracias', 'hoy', 'martes', 'muchas',\n",
              "       'que'], dtype='<U7')"
            ]
          },
          "metadata": {},
          "execution_count": 8
        }
      ]
    },
    {
      "cell_type": "code",
      "metadata": {
        "colab": {
          "base_uri": "https://localhost:8080/"
        },
        "id": "a4gFlwOjKFZb",
        "outputId": "03e07f93-4709-457f-e681-42b19f2dd2fe"
      },
      "source": [
        "# Opción vista en clase \n",
        "corpus_terminos = []\n",
        "for doc in corpus:\n",
        "  terminos = doc.split(\" \")\n",
        "  corpus_terminos.append(terminos)\n",
        "\n",
        "vocab_completo = np.sum(corpus_terminos)\n",
        "vocab = np.unique(vocab_completo)"
      ],
      "execution_count": 9,
      "outputs": [
        {
          "output_type": "stream",
          "name": "stderr",
          "text": [
            "/usr/local/lib/python3.7/dist-packages/numpy/core/fromnumeric.py:87: VisibleDeprecationWarning: Creating an ndarray from ragged nested sequences (which is a list-or-tuple of lists-or-tuples-or ndarrays with different lengths or shapes) is deprecated. If you meant to do this, you must specify 'dtype=object' when creating the ndarray\n",
            "  return ufunc.reduce(obj, axis, dtype, out, **passkwargs)\n"
          ]
        }
      ]
    },
    {
      "cell_type": "code",
      "metadata": {
        "colab": {
          "base_uri": "https://localhost:8080/"
        },
        "id": "7AsGVqTuKYkh",
        "outputId": "103fd25c-9198-4554-f271-9c18f24396c4"
      },
      "source": [
        "vocab"
      ],
      "execution_count": 10,
      "outputs": [
        {
          "output_type": "execute_result",
          "data": {
            "text/plain": [
              "array(['de', 'dia', 'el', 'es', 'gracias', 'hoy', 'martes', 'muchas',\n",
              "       'que'], dtype='<U7')"
            ]
          },
          "metadata": {},
          "execution_count": 10
        }
      ]
    },
    {
      "cell_type": "markdown",
      "metadata": {
        "id": "RUhH983FI7It"
      },
      "source": [
        "### 2- OneHot encoding\n",
        "Data una lista de textos, devolver una matriz con la representación oneHotEncoding de estos"
      ]
    },
    {
      "cell_type": "code",
      "metadata": {
        "id": "Os0AAQo6I6Z1"
      },
      "source": [
        "# Opción con for\n",
        "def OHE(x,vocab):\n",
        "  vector_ohe = np.zeros(len(vocab))\n",
        "  for i in range(len(vocab)):\n",
        "    if vocab[i] in x:\n",
        "      vector_ohe[i] = 1\n",
        "  return vector_ohe\n",
        "\n",
        "# Opción con list comprehension\n",
        "def OHE_lc(x,vocab):\n",
        "  vector_ohe = [1 if i in x else 0 for i in vocab ]\n",
        "  vector_ohe = np.array(vector_ohe)\n",
        "  return vector_ohe"
      ],
      "execution_count": 11,
      "outputs": []
    },
    {
      "cell_type": "code",
      "metadata": {
        "colab": {
          "base_uri": "https://localhost:8080/"
        },
        "id": "ly7lV0ouHRUT",
        "outputId": "1b577447-06d3-45de-c7c4-c36a351a08eb"
      },
      "source": [
        "x=np.array(['juan', 'juan', 'dia', 'dia', 'es', 'hoy'])\n",
        "print(OHE(x,vocab))\n",
        "print(OHE(x,vocab).shape)"
      ],
      "execution_count": 12,
      "outputs": [
        {
          "output_type": "stream",
          "name": "stdout",
          "text": [
            "[0. 1. 0. 1. 0. 1. 0. 0. 0.]\n",
            "(9,)\n"
          ]
        }
      ]
    },
    {
      "cell_type": "code",
      "metadata": {
        "colab": {
          "base_uri": "https://localhost:8080/"
        },
        "id": "QhpGiRD2IGnn",
        "outputId": "616ef5a8-8736-4dc6-c29b-0797b744b3b2"
      },
      "source": [
        "print(OHE_lc(x,vocab))\n",
        "print(OHE_lc(x,vocab).shape)"
      ],
      "execution_count": 13,
      "outputs": [
        {
          "output_type": "stream",
          "name": "stdout",
          "text": [
            "[0 1 0 1 0 1 0 0 0]\n",
            "(9,)\n"
          ]
        }
      ]
    },
    {
      "cell_type": "markdown",
      "metadata": {
        "id": "IIyWGmCpJVQL"
      },
      "source": [
        "### 3- Vectores de frecuencia\n",
        "Data una lista de textos, devolver una matriz con la representación de frecuencia de estos"
      ]
    },
    {
      "cell_type": "code",
      "metadata": {
        "id": "yqij_7eHJbUi",
        "colab": {
          "base_uri": "https://localhost:8080/"
        },
        "outputId": "b5e54908-66fe-4545-e995-cc88727a6679"
      },
      "source": [
        "from collections import Counter\n",
        "Counter(x)"
      ],
      "execution_count": 14,
      "outputs": [
        {
          "output_type": "execute_result",
          "data": {
            "text/plain": [
              "Counter({'dia': 2, 'es': 1, 'hoy': 1, 'juan': 2})"
            ]
          },
          "metadata": {},
          "execution_count": 14
        }
      ]
    },
    {
      "cell_type": "code",
      "metadata": {
        "id": "6Y1OYKgIM0bW"
      },
      "source": [
        "def FreqVector(x,vocab):\n",
        "  c = Counter(x)\n",
        "  vector_frec = [c[i] for i in vocab ]\n",
        "  vector_frec = np.array(vector_frec)\n",
        "  return vector_frec"
      ],
      "execution_count": 15,
      "outputs": []
    },
    {
      "cell_type": "code",
      "metadata": {
        "colab": {
          "base_uri": "https://localhost:8080/"
        },
        "id": "wPBkfQ83NSKk",
        "outputId": "c26db2d6-8e7f-4181-edc0-836b50315ed3"
      },
      "source": [
        "print(FreqVector(x,vocab))\n",
        "print(FreqVector(x,vocab).shape)"
      ],
      "execution_count": 16,
      "outputs": [
        {
          "output_type": "stream",
          "name": "stdout",
          "text": [
            "[0 2 0 1 0 1 0 0 0]\n",
            "(9,)\n"
          ]
        }
      ]
    },
    {
      "cell_type": "markdown",
      "metadata": {
        "id": "z_Ot8HvWJcBu"
      },
      "source": [
        "### 4- TF-IDF\n",
        "Data una lista de textos, devolver una matriz con la representacion TFIDF"
      ]
    },
    {
      "cell_type": "code",
      "metadata": {
        "id": "waG_oWtpJjRw",
        "colab": {
          "base_uri": "https://localhost:8080/"
        },
        "outputId": "f728c93b-41e7-4c13-b0b3-5d98c80153e2"
      },
      "source": [
        "N = corpus.shape[0]\n",
        "ohe = np.zeros((corpus.shape[0],len(vocab)))\n",
        "TF = np.zeros((corpus.shape[0],len(vocab)))\n",
        "i = 0\n",
        "for doc in corpus_terminos:\n",
        "  ohe[i] = OHE_lc(doc,vocab)\n",
        "  TF[i] = FreqVector(doc,vocab)\n",
        "  i += 1\n",
        "\n",
        "DF = np.sum(ohe,axis=0)\n",
        "IDF = np.log10(N/DF)\n",
        "TF_IDF = TF*IDF\n",
        "print(IDF)\n",
        "print(TF)\n",
        "print(TF_IDF)"
      ],
      "execution_count": 17,
      "outputs": [
        {
          "output_type": "stream",
          "name": "stdout",
          "text": [
            "[0.47712125 0.17609126 0.47712125 0.17609126 0.47712125 0.17609126\n",
            " 0.17609126 0.47712125 0.47712125]\n",
            "[[0. 1. 0. 1. 0. 1. 0. 0. 1.]\n",
            " [1. 1. 1. 1. 0. 1. 2. 0. 0.]\n",
            " [0. 0. 0. 0. 1. 0. 1. 1. 0.]]\n",
            "[[0.         0.17609126 0.         0.17609126 0.         0.17609126\n",
            "  0.         0.         0.47712125]\n",
            " [0.47712125 0.17609126 0.47712125 0.17609126 0.         0.17609126\n",
            "  0.35218252 0.         0.        ]\n",
            " [0.         0.         0.         0.         0.47712125 0.\n",
            "  0.17609126 0.47712125 0.        ]]\n"
          ]
        }
      ]
    },
    {
      "cell_type": "code",
      "metadata": {
        "colab": {
          "base_uri": "https://localhost:8080/"
        },
        "id": "_xfH5CTFaLgV",
        "outputId": "05ea1c1f-b15c-438c-9eec-a9b30dbaaaa2"
      },
      "source": [
        "TF_IDF.shape[0]"
      ],
      "execution_count": 20,
      "outputs": [
        {
          "output_type": "execute_result",
          "data": {
            "text/plain": [
              "3"
            ]
          },
          "metadata": {},
          "execution_count": 20
        }
      ]
    },
    {
      "cell_type": "markdown",
      "metadata": {
        "id": "xMcsfndWJjm_"
      },
      "source": [
        "### 5 - Comparación de documentos\n",
        "Realizar una funcion que reciba el corpus y el índice de un documento y devuelva los documentos ordenados por la similitud coseno"
      ]
    },
    {
      "cell_type": "code",
      "metadata": {
        "id": "CZdiop6IJpZN"
      },
      "source": [
        "def compare_docs(corpus, indice):\n",
        "  corpus_terminos = []\n",
        "  for doc in corpus:\n",
        "    terminos = doc.split(\" \")\n",
        "    corpus_terminos.append(terminos)\n",
        "\n",
        "  vocab_completo = np.sum(corpus_terminos)\n",
        "  vocab = np.unique(vocab_completo)\n",
        "\n",
        "  ohe = np.zeros((corpus.shape[0],len(vocab)))\n",
        "  TF = np.zeros((corpus.shape[0],len(vocab)))\n",
        "  i = 0\n",
        "  for doc in corpus_terminos:\n",
        "    ohe[i] = OHE_lc(doc,vocab)\n",
        "    TF[i] = FreqVector(doc,vocab)\n",
        "    i += 1\n",
        "\n",
        "  DF = np.sum(ohe,axis=0)\n",
        "  IDF = np.log10(N/DF)\n",
        "  TF_IDF = TF*IDF\n",
        "\n",
        "  cos_sim = np.zeros(shape=(TF_IDF.shape[0]-1,TF_IDF.shape[1]))\n",
        "  i=0\n",
        "  for j in range(TF_IDF.shape[0]):\n",
        "    if j != indice:\n",
        "      cos_sim[i] = cosine_similarity(TF_IDF[indice], TF_IDF[j])\n",
        "      i += 1\n",
        "  cos_sim_ordered = np.sort(cos_sim, axis=0)[::-1]\n",
        "  \n",
        "  return cos_sim_ordered"
      ],
      "execution_count": 61,
      "outputs": []
    },
    {
      "cell_type": "code",
      "metadata": {
        "colab": {
          "base_uri": "https://localhost:8080/"
        },
        "id": "aFmjoWEjctn4",
        "outputId": "57a6ff89-bc72-4379-e171-b54b4fd85ebc"
      },
      "source": [
        "compare_docs(corpus,1)"
      ],
      "execution_count": 62,
      "outputs": [
        {
          "output_type": "stream",
          "name": "stderr",
          "text": [
            "/usr/local/lib/python3.7/dist-packages/numpy/core/fromnumeric.py:87: VisibleDeprecationWarning: Creating an ndarray from ragged nested sequences (which is a list-or-tuple of lists-or-tuples-or ndarrays with different lengths or shapes) is deprecated. If you meant to do this, you must specify 'dtype=object' when creating the ndarray\n",
            "  return ufunc.reduce(obj, axis, dtype, out, **passkwargs)\n"
          ]
        },
        {
          "output_type": "execute_result",
          "data": {
            "text/plain": [
              "array([[0.2003419 , 0.2003419 , 0.2003419 , 0.2003419 , 0.2003419 ,\n",
              "        0.2003419 , 0.2003419 , 0.2003419 , 0.2003419 ],\n",
              "       [0.10845712, 0.10845712, 0.10845712, 0.10845712, 0.10845712,\n",
              "        0.10845712, 0.10845712, 0.10845712, 0.10845712]])"
            ]
          },
          "metadata": {},
          "execution_count": 62
        }
      ]
    },
    {
      "cell_type": "code",
      "metadata": {
        "id": "kQBEP0ZCdhrT"
      },
      "source": [
        ""
      ],
      "execution_count": null,
      "outputs": []
    }
  ]
}