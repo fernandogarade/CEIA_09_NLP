{
  "nbformat": 4,
  "nbformat_minor": 0,
  "metadata": {
    "colab": {
      "name": "Desafio clase 2 NLP - Chatbot para CX.ipynb",
      "provenance": [],
      "collapsed_sections": [],
      "authorship_tag": "ABX9TyPHH6iSvSdxyoHfY5LrJDyt",
      "include_colab_link": true
    },
    "kernelspec": {
      "name": "python3",
      "display_name": "Python 3"
    },
    "language_info": {
      "name": "python"
    },
    "widgets": {
      "application/vnd.jupyter.widget-state+json": {
        "f0b94b5f68e44cf19fcd403511749892": {
          "model_module": "@jupyter-widgets/controls",
          "model_name": "HBoxModel",
          "model_module_version": "1.5.0",
          "state": {
            "_view_name": "HBoxView",
            "_dom_classes": [],
            "_model_name": "HBoxModel",
            "_view_module": "@jupyter-widgets/controls",
            "_model_module_version": "1.5.0",
            "_view_count": null,
            "_view_module_version": "1.5.0",
            "box_style": "",
            "layout": "IPY_MODEL_f9a10c730b654028b56ba25e6a7ce035",
            "_model_module": "@jupyter-widgets/controls",
            "children": [
              "IPY_MODEL_26dcfcf080e744e592ba020a5b66dc9b",
              "IPY_MODEL_761f3be90e75452489972c61b4a7a154",
              "IPY_MODEL_621b163f5d934dc6997a738a437489b6"
            ]
          }
        },
        "f9a10c730b654028b56ba25e6a7ce035": {
          "model_module": "@jupyter-widgets/base",
          "model_name": "LayoutModel",
          "model_module_version": "1.2.0",
          "state": {
            "_view_name": "LayoutView",
            "grid_template_rows": null,
            "right": null,
            "justify_content": null,
            "_view_module": "@jupyter-widgets/base",
            "overflow": null,
            "_model_module_version": "1.2.0",
            "_view_count": null,
            "flex_flow": null,
            "width": null,
            "min_width": null,
            "border": null,
            "align_items": null,
            "bottom": null,
            "_model_module": "@jupyter-widgets/base",
            "top": null,
            "grid_column": null,
            "overflow_y": null,
            "overflow_x": null,
            "grid_auto_flow": null,
            "grid_area": null,
            "grid_template_columns": null,
            "flex": null,
            "_model_name": "LayoutModel",
            "justify_items": null,
            "grid_row": null,
            "max_height": null,
            "align_content": null,
            "visibility": null,
            "align_self": null,
            "height": null,
            "min_height": null,
            "padding": null,
            "grid_auto_rows": null,
            "grid_gap": null,
            "max_width": null,
            "order": null,
            "_view_module_version": "1.2.0",
            "grid_template_areas": null,
            "object_position": null,
            "object_fit": null,
            "grid_auto_columns": null,
            "margin": null,
            "display": null,
            "left": null
          }
        },
        "26dcfcf080e744e592ba020a5b66dc9b": {
          "model_module": "@jupyter-widgets/controls",
          "model_name": "HTMLModel",
          "model_module_version": "1.5.0",
          "state": {
            "_view_name": "HTMLView",
            "style": "IPY_MODEL_3aa7dce066584c3b85aec1543cab8c97",
            "_dom_classes": [],
            "description": "",
            "_model_name": "HTMLModel",
            "placeholder": "​",
            "_view_module": "@jupyter-widgets/controls",
            "_model_module_version": "1.5.0",
            "value": "Downloading https://raw.githubusercontent.com/stanfordnlp/stanza-resources/main/resources_1.2.2.json: ",
            "_view_count": null,
            "_view_module_version": "1.5.0",
            "description_tooltip": null,
            "_model_module": "@jupyter-widgets/controls",
            "layout": "IPY_MODEL_400c0fe93643429399eb05c8f463d9f7"
          }
        },
        "761f3be90e75452489972c61b4a7a154": {
          "model_module": "@jupyter-widgets/controls",
          "model_name": "FloatProgressModel",
          "model_module_version": "1.5.0",
          "state": {
            "_view_name": "ProgressView",
            "style": "IPY_MODEL_218bf6441ae24a6981c48c4460f5ad42",
            "_dom_classes": [],
            "description": "",
            "_model_name": "FloatProgressModel",
            "bar_style": "success",
            "max": 24144,
            "_view_module": "@jupyter-widgets/controls",
            "_model_module_version": "1.5.0",
            "value": 24144,
            "_view_count": null,
            "_view_module_version": "1.5.0",
            "orientation": "horizontal",
            "min": 0,
            "description_tooltip": null,
            "_model_module": "@jupyter-widgets/controls",
            "layout": "IPY_MODEL_ad339a568e3849cbb495b5af6c8a72d8"
          }
        },
        "621b163f5d934dc6997a738a437489b6": {
          "model_module": "@jupyter-widgets/controls",
          "model_name": "HTMLModel",
          "model_module_version": "1.5.0",
          "state": {
            "_view_name": "HTMLView",
            "style": "IPY_MODEL_3c9254c2490d47f0b36cf5258919d69b",
            "_dom_classes": [],
            "description": "",
            "_model_name": "HTMLModel",
            "placeholder": "​",
            "_view_module": "@jupyter-widgets/controls",
            "_model_module_version": "1.5.0",
            "value": " 140k/? [00:00&lt;00:00, 2.36MB/s]",
            "_view_count": null,
            "_view_module_version": "1.5.0",
            "description_tooltip": null,
            "_model_module": "@jupyter-widgets/controls",
            "layout": "IPY_MODEL_3dbcc4638e494660a0dab3810a2792a1"
          }
        },
        "3aa7dce066584c3b85aec1543cab8c97": {
          "model_module": "@jupyter-widgets/controls",
          "model_name": "DescriptionStyleModel",
          "model_module_version": "1.5.0",
          "state": {
            "_view_name": "StyleView",
            "_model_name": "DescriptionStyleModel",
            "description_width": "",
            "_view_module": "@jupyter-widgets/base",
            "_model_module_version": "1.5.0",
            "_view_count": null,
            "_view_module_version": "1.2.0",
            "_model_module": "@jupyter-widgets/controls"
          }
        },
        "400c0fe93643429399eb05c8f463d9f7": {
          "model_module": "@jupyter-widgets/base",
          "model_name": "LayoutModel",
          "model_module_version": "1.2.0",
          "state": {
            "_view_name": "LayoutView",
            "grid_template_rows": null,
            "right": null,
            "justify_content": null,
            "_view_module": "@jupyter-widgets/base",
            "overflow": null,
            "_model_module_version": "1.2.0",
            "_view_count": null,
            "flex_flow": null,
            "width": null,
            "min_width": null,
            "border": null,
            "align_items": null,
            "bottom": null,
            "_model_module": "@jupyter-widgets/base",
            "top": null,
            "grid_column": null,
            "overflow_y": null,
            "overflow_x": null,
            "grid_auto_flow": null,
            "grid_area": null,
            "grid_template_columns": null,
            "flex": null,
            "_model_name": "LayoutModel",
            "justify_items": null,
            "grid_row": null,
            "max_height": null,
            "align_content": null,
            "visibility": null,
            "align_self": null,
            "height": null,
            "min_height": null,
            "padding": null,
            "grid_auto_rows": null,
            "grid_gap": null,
            "max_width": null,
            "order": null,
            "_view_module_version": "1.2.0",
            "grid_template_areas": null,
            "object_position": null,
            "object_fit": null,
            "grid_auto_columns": null,
            "margin": null,
            "display": null,
            "left": null
          }
        },
        "218bf6441ae24a6981c48c4460f5ad42": {
          "model_module": "@jupyter-widgets/controls",
          "model_name": "ProgressStyleModel",
          "model_module_version": "1.5.0",
          "state": {
            "_view_name": "StyleView",
            "_model_name": "ProgressStyleModel",
            "description_width": "",
            "_view_module": "@jupyter-widgets/base",
            "_model_module_version": "1.5.0",
            "_view_count": null,
            "_view_module_version": "1.2.0",
            "bar_color": null,
            "_model_module": "@jupyter-widgets/controls"
          }
        },
        "ad339a568e3849cbb495b5af6c8a72d8": {
          "model_module": "@jupyter-widgets/base",
          "model_name": "LayoutModel",
          "model_module_version": "1.2.0",
          "state": {
            "_view_name": "LayoutView",
            "grid_template_rows": null,
            "right": null,
            "justify_content": null,
            "_view_module": "@jupyter-widgets/base",
            "overflow": null,
            "_model_module_version": "1.2.0",
            "_view_count": null,
            "flex_flow": null,
            "width": null,
            "min_width": null,
            "border": null,
            "align_items": null,
            "bottom": null,
            "_model_module": "@jupyter-widgets/base",
            "top": null,
            "grid_column": null,
            "overflow_y": null,
            "overflow_x": null,
            "grid_auto_flow": null,
            "grid_area": null,
            "grid_template_columns": null,
            "flex": null,
            "_model_name": "LayoutModel",
            "justify_items": null,
            "grid_row": null,
            "max_height": null,
            "align_content": null,
            "visibility": null,
            "align_self": null,
            "height": null,
            "min_height": null,
            "padding": null,
            "grid_auto_rows": null,
            "grid_gap": null,
            "max_width": null,
            "order": null,
            "_view_module_version": "1.2.0",
            "grid_template_areas": null,
            "object_position": null,
            "object_fit": null,
            "grid_auto_columns": null,
            "margin": null,
            "display": null,
            "left": null
          }
        },
        "3c9254c2490d47f0b36cf5258919d69b": {
          "model_module": "@jupyter-widgets/controls",
          "model_name": "DescriptionStyleModel",
          "model_module_version": "1.5.0",
          "state": {
            "_view_name": "StyleView",
            "_model_name": "DescriptionStyleModel",
            "description_width": "",
            "_view_module": "@jupyter-widgets/base",
            "_model_module_version": "1.5.0",
            "_view_count": null,
            "_view_module_version": "1.2.0",
            "_model_module": "@jupyter-widgets/controls"
          }
        },
        "3dbcc4638e494660a0dab3810a2792a1": {
          "model_module": "@jupyter-widgets/base",
          "model_name": "LayoutModel",
          "model_module_version": "1.2.0",
          "state": {
            "_view_name": "LayoutView",
            "grid_template_rows": null,
            "right": null,
            "justify_content": null,
            "_view_module": "@jupyter-widgets/base",
            "overflow": null,
            "_model_module_version": "1.2.0",
            "_view_count": null,
            "flex_flow": null,
            "width": null,
            "min_width": null,
            "border": null,
            "align_items": null,
            "bottom": null,
            "_model_module": "@jupyter-widgets/base",
            "top": null,
            "grid_column": null,
            "overflow_y": null,
            "overflow_x": null,
            "grid_auto_flow": null,
            "grid_area": null,
            "grid_template_columns": null,
            "flex": null,
            "_model_name": "LayoutModel",
            "justify_items": null,
            "grid_row": null,
            "max_height": null,
            "align_content": null,
            "visibility": null,
            "align_self": null,
            "height": null,
            "min_height": null,
            "padding": null,
            "grid_auto_rows": null,
            "grid_gap": null,
            "max_width": null,
            "order": null,
            "_view_module_version": "1.2.0",
            "grid_template_areas": null,
            "object_position": null,
            "object_fit": null,
            "grid_auto_columns": null,
            "margin": null,
            "display": null,
            "left": null
          }
        }
      }
    }
  },
  "cells": [
    {
      "cell_type": "markdown",
      "metadata": {
        "id": "view-in-github",
        "colab_type": "text"
      },
      "source": [
        "<a href=\"https://colab.research.google.com/github/fernandogarade/CEIA_09_NLP/blob/main/Desafio_clase_2_NLP_Chatbot_para_CX.ipynb\" target=\"_parent\"><img src=\"https://colab.research.google.com/assets/colab-badge.svg\" alt=\"Open In Colab\"/></a>"
      ]
    },
    {
      "cell_type": "markdown",
      "metadata": {
        "id": "L80OIgRNwRGV"
      },
      "source": [
        "## 1 - Instalar dependencias"
      ]
    },
    {
      "cell_type": "code",
      "metadata": {
        "id": "GhS8XMtyvnwZ"
      },
      "source": [
        "# La última versión de spacy-stanza (>1.0) es compatible solo con spacy >=3.0\n",
        "# Nota: spacy 3.0 incorpora al pepiline nlp transformers\n",
        "!pip install -U spacy==3.1 --quiet\n",
        "!pip install -U spacy-stanza==1.0.0 --quiet"
      ],
      "execution_count": 1,
      "outputs": []
    },
    {
      "cell_type": "markdown",
      "metadata": {
        "id": "eYUHFxilwa8v"
      },
      "source": [
        "# 2 - Importar librerías"
      ]
    },
    {
      "cell_type": "code",
      "metadata": {
        "id": "4tVBr6r4waL4"
      },
      "source": [
        "import json\n",
        "import string\n",
        "import random \n",
        "import numpy as np\n",
        "\n",
        "import tensorflow as tf \n",
        "from tensorflow.keras import Sequential \n",
        "from tensorflow.keras.layers import Dense, Dropout\n",
        "\n",
        "import stanza\n",
        "import spacy_stanza\n",
        "\n",
        "import re\n",
        "import unicodedata\n",
        "\n",
        "import matplotlib.pyplot as plt\n",
        "import seaborn as sns\n",
        "from collections import Counter\n",
        "\n",
        "import nltk\n",
        "from nltk.corpus import stopwords"
      ],
      "execution_count": 2,
      "outputs": []
    },
    {
      "cell_type": "code",
      "metadata": {
        "colab": {
          "base_uri": "https://localhost:8080/",
          "height": 491,
          "referenced_widgets": [
            "f0b94b5f68e44cf19fcd403511749892",
            "f9a10c730b654028b56ba25e6a7ce035",
            "26dcfcf080e744e592ba020a5b66dc9b",
            "761f3be90e75452489972c61b4a7a154",
            "621b163f5d934dc6997a738a437489b6",
            "3aa7dce066584c3b85aec1543cab8c97",
            "400c0fe93643429399eb05c8f463d9f7",
            "218bf6441ae24a6981c48c4460f5ad42",
            "ad339a568e3849cbb495b5af6c8a72d8",
            "3c9254c2490d47f0b36cf5258919d69b",
            "3dbcc4638e494660a0dab3810a2792a1"
          ]
        },
        "id": "VC-bkPgD5NIn",
        "outputId": "7d79651f-db8d-4773-e21d-08ec21f9d804"
      },
      "source": [
        "# Descargar el diccionario en español y armar el pipeline de NLP con spacy\n",
        "stanza.download(\"es\")\n",
        "nlp = spacy_stanza.load_pipeline(\"es\")\n",
        "nltk.download('stopwords')"
      ],
      "execution_count": 3,
      "outputs": [
        {
          "output_type": "display_data",
          "data": {
            "application/vnd.jupyter.widget-view+json": {
              "model_id": "f0b94b5f68e44cf19fcd403511749892",
              "version_minor": 0,
              "version_major": 2
            },
            "text/plain": [
              "Downloading https://raw.githubusercontent.com/stanfordnlp/stanza-resources/main/resources_1.2.2.json:   0%|   …"
            ]
          },
          "metadata": {}
        },
        {
          "output_type": "stream",
          "name": "stderr",
          "text": [
            "2021-09-21 02:13:56 INFO: Downloading default packages for language: es (Spanish)...\n",
            "2021-09-21 02:13:58 INFO: File exists: /root/stanza_resources/es/default.zip.\n",
            "2021-09-21 02:14:05 INFO: Finished downloading models and saved to /root/stanza_resources.\n",
            "2021-09-21 02:14:05 INFO: Loading these models for language: es (Spanish):\n",
            "=======================\n",
            "| Processor | Package |\n",
            "-----------------------\n",
            "| tokenize  | ancora  |\n",
            "| mwt       | ancora  |\n",
            "| pos       | ancora  |\n",
            "| lemma     | ancora  |\n",
            "| depparse  | ancora  |\n",
            "| ner       | conll02 |\n",
            "=======================\n",
            "\n",
            "2021-09-21 02:14:05 INFO: Use device: cpu\n",
            "2021-09-21 02:14:05 INFO: Loading: tokenize\n",
            "2021-09-21 02:14:05 INFO: Loading: mwt\n",
            "2021-09-21 02:14:05 INFO: Loading: pos\n",
            "2021-09-21 02:14:06 INFO: Loading: lemma\n",
            "2021-09-21 02:14:06 INFO: Loading: depparse\n",
            "2021-09-21 02:14:06 INFO: Loading: ner\n",
            "2021-09-21 02:14:08 INFO: Done loading processors!\n"
          ]
        },
        {
          "output_type": "stream",
          "name": "stdout",
          "text": [
            "[nltk_data] Downloading package stopwords to /root/nltk_data...\n",
            "[nltk_data]   Package stopwords is already up-to-date!\n"
          ]
        },
        {
          "output_type": "execute_result",
          "data": {
            "text/plain": [
              "True"
            ]
          },
          "metadata": {},
          "execution_count": 3
        }
      ]
    },
    {
      "cell_type": "code",
      "metadata": {
        "id": "KeDI5GvZ5YXQ"
      },
      "source": [
        "# Funciones útiles\n",
        "def cosine_similarity(a, b):\n",
        "    return np.dot(a, b) / (np.linalg.norm(a) * (np.linalg.norm(b)))\n",
        "\n",
        "def OHE(x,vocab):\n",
        "  vector_ohe = [1 if i in x else 0 for i in vocab ]\n",
        "  vector_ohe = np.array(vector_ohe)\n",
        "  return vector_ohe\n",
        "\n",
        "def FreqVector(x,vocab):\n",
        "  c = Counter(x)\n",
        "  vector_frec = [c[i] for i in vocab ]\n",
        "  vector_frec = np.array(vector_frec)\n",
        "  return vector_frec"
      ],
      "execution_count": 4,
      "outputs": []
    },
    {
      "cell_type": "markdown",
      "metadata": {
        "id": "LaTLJegRwmeL"
      },
      "source": [
        "# 3 - Preprocesamiento de datos"
      ]
    },
    {
      "cell_type": "code",
      "metadata": {
        "id": "-aP5oQ72wk4t"
      },
      "source": [
        "# El preprocesamento en castellano requiere más trabajo\n",
        "\n",
        "def preprocess_clean_text(text):    \n",
        "    # sacar tildes de las palabras\n",
        "    text = unicodedata.normalize('NFKD', text).encode('ascii', 'ignore').decode('utf-8', 'ignore')\n",
        "    \n",
        "    # quitar caracteres especiales y números\n",
        "    pattern = r'[^a-zA-z.,!?/:;\\\"\\'\\s]' \n",
        "    text = re.sub(pattern, '', text)\n",
        "\n",
        "    # quitar caracteres de puntuación\n",
        "    text = ''.join([c for c in text if c not in string.punctuation])\n",
        "\n",
        "    return text"
      ],
      "execution_count": 5,
      "outputs": []
    },
    {
      "cell_type": "markdown",
      "metadata": {
        "id": "Dn2_yKIM0amC"
      },
      "source": [
        "# 4 - Diccionario de entrada"
      ]
    },
    {
      "cell_type": "code",
      "metadata": {
        "id": "UCDyYHNx0Zn7"
      },
      "source": [
        "# Dataset en formato JSON que representa las posibles preguntas (patterns)\n",
        "# y las posibles respuestas por categoría (tag)\n",
        "dataset = {\"intents\": [\n",
        "             {\"tag\": \"bienvenida\",\n",
        "              \"patterns\": [\"Hola\", \"¿Cómo estás?\", \"¿Qué tal?\", \"¿Qué haces?\", \"Buen día\", \"Buenas tardes\", \"Buenas noches\"],\n",
        "              \"responses\": [\"Hola!\", \"Hola, ¿Cómo estás?\"],\n",
        "             },\n",
        "             {\"tag\": \"nombre\",\n",
        "              \"patterns\": [\"¿Cúal es tu nombre?\", \"¿Quién sos?\", \"¿Con quién estoy hablando?\"],\n",
        "              \"responses\": [\"Mi nombre es TiendaPro\", \"Yo soy TiendaPro\"]\n",
        "             },\n",
        "            {\"tag\": \"problemas promos\",\n",
        "              \"patterns\": [\"No me pagaron la promo\", \"Recomendé y no me pagaron\", \"Problema\", \"inconveniente\"],\n",
        "              \"responses\": [\"Lamentamos saber que tuviste un problema con la promo, por favor al siguiente número 1112221133\", \"Contactanos al whatsapp 1112221133 para revisar tu caso en forma particular\"]\n",
        "             },\n",
        "            {\"tag\": \"info promos\",\n",
        "              \"patterns\": [\"¿Cómo funciona la promo?\", \"¿Cómo tengo que hacer para referir a alguien?\", \"¿Cuándo me pagan?\", \"¿Hasta cuándo está vigente?\", \"¿Cuándo termina la promo?\"],\n",
        "              \"responses\": [\"Encontrá todos los detalles de nuestras promos en el siguiente link: abc123.com\"]\n",
        "             },\n",
        "            {\"tag\": \"costo\",\n",
        "              \"patterns\": [\"costo\", \"precio\", \"¿Cuánto vale?\", \"¿Cuánto sale?\", \"¿Tengo que pagar algo?\", \"gratis\"],\n",
        "              \"responses\": [\"El servicio es GRATIS!\"]\n",
        "             },\n",
        "            {\"tag\": \"registro\",\n",
        "              \"patterns\": [\"registro\", \"darse de alta\", \"¿Cómo me doy de alta?\", \"¿Dónde me inscribo?\"],\n",
        "              \"responses\": [\"En el siguiente link podrás encontrar un instructivo para registrarte fácilmente\"]\n",
        "             },\n",
        "            {\"tag\": \"agradecimientos\",\n",
        "              \"patterns\": [ \"Muchas gracias\", \"Gracias\"],\n",
        "              \"responses\": [\"Por nada!, cualquier otra consulta podes escribirme nuevamente\"]\n",
        "             },\n",
        "             {\"tag\": \"despedida\",\n",
        "              \"patterns\": [ \"Chau\", \"Hasta luego!\", \"Nos vemos\"],\n",
        "              \"responses\": [\"Hasta luego!\", \"Hablamos luego!\"]\n",
        "             }\n",
        "]}"
      ],
      "execution_count": 6,
      "outputs": []
    },
    {
      "cell_type": "markdown",
      "metadata": {
        "id": "uw-Fj1Xi3MlU"
      },
      "source": [
        "# 5 - Preprocesamiento y armado del dataset"
      ]
    },
    {
      "cell_type": "code",
      "metadata": {
        "id": "lza-APNX3PcI",
        "colab": {
          "base_uri": "https://localhost:8080/"
        },
        "outputId": "a60ccfb6-69c3-470f-a1ac-a608536fbc0b"
      },
      "source": [
        "# Datos que necesitaremos, las palabras o vocabulario\n",
        "words = []\n",
        "classes = []\n",
        "doc_X = []\n",
        "doc_y = []\n",
        "\n",
        "# Por cada intención (intents) debemos tomar los patrones que la caracterízan a esa intención y transformarla a tokens para almacenar en doc_X\n",
        "\n",
        "# El tag de cada intención se almacena como doc_Y (la clase a predecir)\n",
        "nltk_stop_words = set(stopwords.words(\"spanish\"))\n",
        "\n",
        "for intent in dataset[\"intents\"]:\n",
        "    for pattern in intent[\"patterns\"]:\n",
        "        # trasformar el patron a tokens\n",
        "        tokens = nlp(preprocess_clean_text(pattern.lower()))\n",
        "        # lematizar los tokens\n",
        "        for token in tokens:            \n",
        "            if token.lemma_ not in nltk_stop_words:\n",
        "              words.append(token.lemma_)\n",
        "        \n",
        "        doc_X.append(pattern)\n",
        "        doc_y.append(intent[\"tag\"])\n",
        "    \n",
        "    # Agregar el tag a las clases\n",
        "    if intent[\"tag\"] not in classes:\n",
        "        classes.append(intent[\"tag\"])\n",
        "\n",
        "# Elminar duplicados con \"set\" y ordenar el vocubulario y las clases por orden alfabético\n",
        "words = sorted(set(words))\n",
        "classes = sorted(set(classes))"
      ],
      "execution_count": 7,
      "outputs": [
        {
          "output_type": "stream",
          "name": "stderr",
          "text": [
            "/usr/local/lib/python3.7/dist-packages/torch/_tensor.py:575: UserWarning: floor_divide is deprecated, and will be removed in a future version of pytorch. It currently rounds toward 0 (like the 'trunc' function NOT 'floor'). This results in incorrect rounding for negative values.\n",
            "To keep the current behavior, use torch.div(a, b, rounding_mode='trunc'), or for actual floor division, use torch.div(a, b, rounding_mode='floor'). (Triggered internally at  /pytorch/aten/src/ATen/native/BinaryOps.cpp:467.)\n",
            "  return torch.floor_divide(self, other)\n"
          ]
        }
      ]
    },
    {
      "cell_type": "code",
      "metadata": {
        "colab": {
          "base_uri": "https://localhost:8080/"
        },
        "id": "BjZ7kGqD3pNC",
        "outputId": "27a1a111-3fd8-4e60-f8c6-a6e79939b867"
      },
      "source": [
        "print(\"words:\", words)\n",
        "print(\"classes:\", classes)\n",
        "print(\"doc_X:\", doc_X)\n",
        "print(\"doc_y:\", doc_y)\n",
        "# Tamaño del vocabulario\n",
        "print(\"Vocabulario:\", len(words))"
      ],
      "execution_count": 8,
      "outputs": [
        {
          "output_type": "stream",
          "name": "stdout",
          "text": [
            "words: ['alguien', 'alta', 'buen', 'chau', 'costo', 'cuanto', 'dar', 'dia', 'funcionar', 'gracias', 'gratis', 'hablar', 'hacer', 'holar', 'inconveniente', 'inscribir', 'luego', 'noche', 'nombre', 'pagar', 'precio', 'problema', 'promo', 'recomendar', 'referir', 'registro', 'salir', 'ser', 'tal', 'tarde', 'tener', 'terminar', 'valer', 'ver', 'vigente']\n",
            "classes: ['agradecimientos', 'bienvenida', 'costo', 'despedida', 'info promos', 'nombre', 'problemas promos', 'registro']\n",
            "doc_X: ['Hola', '¿Cómo estás?', '¿Qué tal?', '¿Qué haces?', 'Buen día', 'Buenas tardes', 'Buenas noches', '¿Cúal es tu nombre?', '¿Quién sos?', '¿Con quién estoy hablando?', 'No me pagaron la promo', 'Recomendé y no me pagaron', 'Problema', 'inconveniente', '¿Cómo funciona la promo?', '¿Cómo tengo que hacer para referir a alguien?', '¿Cuándo me pagan?', '¿Hasta cuándo está vigente?', '¿Cuándo termina la promo?', 'costo', 'precio', '¿Cuánto vale?', '¿Cuánto sale?', '¿Tengo que pagar algo?', 'gratis', 'registro', 'darse de alta', '¿Cómo me doy de alta?', '¿Dónde me inscribo?', 'Muchas gracias', 'Gracias', 'Chau', 'Hasta luego!', 'Nos vemos']\n",
            "doc_y: ['bienvenida', 'bienvenida', 'bienvenida', 'bienvenida', 'bienvenida', 'bienvenida', 'bienvenida', 'nombre', 'nombre', 'nombre', 'problemas promos', 'problemas promos', 'problemas promos', 'problemas promos', 'info promos', 'info promos', 'info promos', 'info promos', 'info promos', 'costo', 'costo', 'costo', 'costo', 'costo', 'costo', 'registro', 'registro', 'registro', 'registro', 'agradecimientos', 'agradecimientos', 'despedida', 'despedida', 'despedida']\n",
            "Vocabulario: 35\n"
          ]
        }
      ]
    },
    {
      "cell_type": "code",
      "metadata": {
        "id": "BJYhODU35zmi"
      },
      "source": [
        "# Opción con TF-IDF\n",
        "# Transformar doc_X en TF_IDF\n",
        "# Transformar doc_Y en un vector de clases multicategórico con oneHotEncoding\n",
        "\n",
        "vocab = words\n",
        "corpus = doc_X\n",
        "\n",
        "corpus_terminos = []\n",
        "for doc in corpus:\n",
        "  tokens = nlp(preprocess_clean_text(doc.lower()))\n",
        "  terminos = []\n",
        "  for token in tokens:\n",
        "      if token.lemma_ not in nltk_stop_words:\n",
        "        terminos.append(token.lemma_)\n",
        "  \n",
        "  corpus_terminos.append(terminos)\n",
        "\n",
        "N = len(corpus)\n",
        "ohe = np.zeros((len(corpus),len(vocab)))\n",
        "TF = np.zeros((len(corpus),len(vocab)))\n",
        "i = 0\n",
        "for doc in corpus_terminos:\n",
        "  ohe[i] = OHE(doc,vocab)\n",
        "  TF[i] = FreqVector(doc,vocab)\n",
        "  i += 1\n",
        "\n",
        "DF = np.sum(ohe,axis=0)\n",
        "IDF = np.log10(N/DF)\n",
        "TF_IDF = TF*IDF"
      ],
      "execution_count": 9,
      "outputs": []
    },
    {
      "cell_type": "code",
      "metadata": {
        "id": "Zwmcd0B6-717"
      },
      "source": [
        "ohe_y = np.zeros(shape=(len(doc_y),len(classes)))\n",
        "i = 0\n",
        "for doc in doc_y:\n",
        "  ohe_y[i] = OHE(doc,classes)\n",
        "  i += 1"
      ],
      "execution_count": 10,
      "outputs": []
    },
    {
      "cell_type": "code",
      "metadata": {
        "id": "ef8PGADN9q4z"
      },
      "source": [
        "x_train = TF_IDF\n",
        "y_train = ohe_y"
      ],
      "execution_count": 11,
      "outputs": []
    },
    {
      "cell_type": "code",
      "metadata": {
        "colab": {
          "base_uri": "https://localhost:8080/"
        },
        "id": "XYIaNtAiCWMn",
        "outputId": "421acaab-7c8e-4738-d135-c683f3ab4a94"
      },
      "source": [
        "x_train.shape"
      ],
      "execution_count": 12,
      "outputs": [
        {
          "output_type": "execute_result",
          "data": {
            "text/plain": [
              "(34, 35)"
            ]
          },
          "metadata": {},
          "execution_count": 12
        }
      ]
    },
    {
      "cell_type": "code",
      "metadata": {
        "colab": {
          "base_uri": "https://localhost:8080/"
        },
        "id": "LoSmQ_hwCYzz",
        "outputId": "33bbe504-7fa3-4c99-97a1-4479b80e3d46"
      },
      "source": [
        "y_train.shape"
      ],
      "execution_count": 13,
      "outputs": [
        {
          "output_type": "execute_result",
          "data": {
            "text/plain": [
              "(34, 8)"
            ]
          },
          "metadata": {},
          "execution_count": 13
        }
      ]
    },
    {
      "cell_type": "markdown",
      "metadata": {
        "id": "aFxmdA_N4RKH"
      },
      "source": [
        "# 6 - Entrenamiento del modelo"
      ]
    },
    {
      "cell_type": "code",
      "metadata": {
        "colab": {
          "base_uri": "https://localhost:8080/"
        },
        "id": "r3xBGRtM4NKU",
        "outputId": "f0132d37-c06e-4cad-afc5-4a9ada281396"
      },
      "source": [
        "# Shape de entrada y salida\n",
        "input_shape = (x_train.shape[1],)\n",
        "output_shape = y_train.shape[1]\n",
        "\n",
        "# Entrenamiento del modelo DNN\n",
        "# - Modelo secuencial\n",
        "# - Con regularización\n",
        "# - softmax y optimizador Adam\n",
        "model = Sequential()\n",
        "model.add(Dense(128, input_shape=input_shape, activation=\"relu\"))\n",
        "model.add(Dropout(0.5))\n",
        "model.add(Dense(64, activation=\"relu\"))\n",
        "model.add(Dropout(0.5))\n",
        "model.add(Dense(output_shape, activation = \"softmax\"))\n",
        "\n",
        "model.compile(loss='categorical_crossentropy',\n",
        "              optimizer=\"Adam\",\n",
        "              metrics=[\"accuracy\"])\n",
        "print(model.summary())"
      ],
      "execution_count": 14,
      "outputs": [
        {
          "output_type": "stream",
          "name": "stdout",
          "text": [
            "Model: \"sequential\"\n",
            "_________________________________________________________________\n",
            "Layer (type)                 Output Shape              Param #   \n",
            "=================================================================\n",
            "dense (Dense)                (None, 128)               4608      \n",
            "_________________________________________________________________\n",
            "dropout (Dropout)            (None, 128)               0         \n",
            "_________________________________________________________________\n",
            "dense_1 (Dense)              (None, 64)                8256      \n",
            "_________________________________________________________________\n",
            "dropout_1 (Dropout)          (None, 64)                0         \n",
            "_________________________________________________________________\n",
            "dense_2 (Dense)              (None, 8)                 520       \n",
            "=================================================================\n",
            "Total params: 13,384\n",
            "Trainable params: 13,384\n",
            "Non-trainable params: 0\n",
            "_________________________________________________________________\n",
            "None\n"
          ]
        }
      ]
    },
    {
      "cell_type": "code",
      "metadata": {
        "colab": {
          "base_uri": "https://localhost:8080/"
        },
        "id": "JGTwiOv84Vzq",
        "outputId": "7577ebfc-f479-4972-c459-5e9f1d38bf02"
      },
      "source": [
        "hist = model.fit(x=x_train, y=y_train, epochs=200)"
      ],
      "execution_count": 15,
      "outputs": [
        {
          "output_type": "stream",
          "name": "stdout",
          "text": [
            "Epoch 1/200\n",
            "2/2 [==============================] - 1s 9ms/step - loss: 2.1013 - accuracy: 0.1765\n",
            "Epoch 2/200\n",
            "2/2 [==============================] - 0s 19ms/step - loss: 2.0794 - accuracy: 0.1765\n",
            "Epoch 3/200\n",
            "2/2 [==============================] - 0s 15ms/step - loss: 2.1649 - accuracy: 0.0294\n",
            "Epoch 4/200\n",
            "2/2 [==============================] - 0s 20ms/step - loss: 2.0227 - accuracy: 0.2941\n",
            "Epoch 5/200\n",
            "2/2 [==============================] - 0s 7ms/step - loss: 2.0787 - accuracy: 0.1471\n",
            "Epoch 6/200\n",
            "2/2 [==============================] - 0s 20ms/step - loss: 2.0069 - accuracy: 0.2647\n",
            "Epoch 7/200\n",
            "2/2 [==============================] - 0s 10ms/step - loss: 2.0045 - accuracy: 0.2647\n",
            "Epoch 8/200\n",
            "2/2 [==============================] - 0s 25ms/step - loss: 2.0443 - accuracy: 0.0882\n",
            "Epoch 9/200\n",
            "2/2 [==============================] - 0s 24ms/step - loss: 1.9683 - accuracy: 0.1765\n",
            "Epoch 10/200\n",
            "2/2 [==============================] - 0s 13ms/step - loss: 2.0085 - accuracy: 0.1471\n",
            "Epoch 11/200\n",
            "2/2 [==============================] - 0s 6ms/step - loss: 1.9300 - accuracy: 0.3529\n",
            "Epoch 12/200\n",
            "2/2 [==============================] - 0s 14ms/step - loss: 2.0267 - accuracy: 0.1765\n",
            "Epoch 13/200\n",
            "2/2 [==============================] - 0s 16ms/step - loss: 1.9799 - accuracy: 0.1765\n",
            "Epoch 14/200\n",
            "2/2 [==============================] - 0s 14ms/step - loss: 1.9527 - accuracy: 0.2647\n",
            "Epoch 15/200\n",
            "2/2 [==============================] - 0s 24ms/step - loss: 1.9734 - accuracy: 0.2353\n",
            "Epoch 16/200\n",
            "2/2 [==============================] - 0s 7ms/step - loss: 1.9379 - accuracy: 0.3235\n",
            "Epoch 17/200\n",
            "2/2 [==============================] - 0s 9ms/step - loss: 1.9555 - accuracy: 0.3529\n",
            "Epoch 18/200\n",
            "2/2 [==============================] - 0s 15ms/step - loss: 1.9438 - accuracy: 0.4412\n",
            "Epoch 19/200\n",
            "2/2 [==============================] - 0s 11ms/step - loss: 1.8854 - accuracy: 0.3529\n",
            "Epoch 20/200\n",
            "2/2 [==============================] - 0s 9ms/step - loss: 1.8955 - accuracy: 0.3529\n",
            "Epoch 21/200\n",
            "2/2 [==============================] - 0s 19ms/step - loss: 1.8834 - accuracy: 0.3529\n",
            "Epoch 22/200\n",
            "2/2 [==============================] - 0s 13ms/step - loss: 1.9151 - accuracy: 0.3824\n",
            "Epoch 23/200\n",
            "2/2 [==============================] - 0s 17ms/step - loss: 1.8107 - accuracy: 0.5000\n",
            "Epoch 24/200\n",
            "2/2 [==============================] - 0s 10ms/step - loss: 1.8882 - accuracy: 0.2941\n",
            "Epoch 25/200\n",
            "2/2 [==============================] - 0s 8ms/step - loss: 1.8462 - accuracy: 0.4118\n",
            "Epoch 26/200\n",
            "2/2 [==============================] - 0s 12ms/step - loss: 1.8983 - accuracy: 0.3529\n",
            "Epoch 27/200\n",
            "2/2 [==============================] - 0s 5ms/step - loss: 1.7911 - accuracy: 0.5294\n",
            "Epoch 28/200\n",
            "2/2 [==============================] - 0s 10ms/step - loss: 1.8385 - accuracy: 0.3529\n",
            "Epoch 29/200\n",
            "2/2 [==============================] - 0s 15ms/step - loss: 1.8162 - accuracy: 0.3824\n",
            "Epoch 30/200\n",
            "2/2 [==============================] - 0s 41ms/step - loss: 1.8542 - accuracy: 0.4118\n",
            "Epoch 31/200\n",
            "2/2 [==============================] - 0s 43ms/step - loss: 1.8130 - accuracy: 0.4412\n",
            "Epoch 32/200\n",
            "2/2 [==============================] - 0s 73ms/step - loss: 1.7826 - accuracy: 0.4118\n",
            "Epoch 33/200\n",
            "2/2 [==============================] - 0s 22ms/step - loss: 1.7898 - accuracy: 0.5588\n",
            "Epoch 34/200\n",
            "2/2 [==============================] - 0s 42ms/step - loss: 1.8289 - accuracy: 0.4118\n",
            "Epoch 35/200\n",
            "2/2 [==============================] - 0s 56ms/step - loss: 1.8034 - accuracy: 0.3529\n",
            "Epoch 36/200\n",
            "2/2 [==============================] - 0s 62ms/step - loss: 1.7699 - accuracy: 0.4706\n",
            "Epoch 37/200\n",
            "2/2 [==============================] - 0s 39ms/step - loss: 1.7820 - accuracy: 0.4118\n",
            "Epoch 38/200\n",
            "2/2 [==============================] - 0s 45ms/step - loss: 1.7189 - accuracy: 0.4412\n",
            "Epoch 39/200\n",
            "2/2 [==============================] - 0s 16ms/step - loss: 1.7281 - accuracy: 0.5294\n",
            "Epoch 40/200\n",
            "2/2 [==============================] - 0s 83ms/step - loss: 1.7680 - accuracy: 0.4412\n",
            "Epoch 41/200\n",
            "2/2 [==============================] - 0s 10ms/step - loss: 1.6407 - accuracy: 0.5588\n",
            "Epoch 42/200\n",
            "2/2 [==============================] - 0s 11ms/step - loss: 1.7143 - accuracy: 0.4412\n",
            "Epoch 43/200\n",
            "2/2 [==============================] - 0s 11ms/step - loss: 1.7520 - accuracy: 0.2941\n",
            "Epoch 44/200\n",
            "2/2 [==============================] - 0s 10ms/step - loss: 1.6948 - accuracy: 0.4706\n",
            "Epoch 45/200\n",
            "2/2 [==============================] - 0s 12ms/step - loss: 1.6820 - accuracy: 0.6176\n",
            "Epoch 46/200\n",
            "2/2 [==============================] - 0s 10ms/step - loss: 1.7278 - accuracy: 0.3824\n",
            "Epoch 47/200\n",
            "2/2 [==============================] - 0s 10ms/step - loss: 1.7358 - accuracy: 0.4412\n",
            "Epoch 48/200\n",
            "2/2 [==============================] - 0s 11ms/step - loss: 1.6380 - accuracy: 0.6471\n",
            "Epoch 49/200\n",
            "2/2 [==============================] - 0s 10ms/step - loss: 1.5728 - accuracy: 0.5588\n",
            "Epoch 50/200\n",
            "2/2 [==============================] - 0s 10ms/step - loss: 1.6051 - accuracy: 0.6471\n",
            "Epoch 51/200\n",
            "2/2 [==============================] - 0s 9ms/step - loss: 1.5817 - accuracy: 0.6176\n",
            "Epoch 52/200\n",
            "2/2 [==============================] - 0s 12ms/step - loss: 1.6257 - accuracy: 0.5588\n",
            "Epoch 53/200\n",
            "2/2 [==============================] - 0s 11ms/step - loss: 1.5695 - accuracy: 0.6765\n",
            "Epoch 54/200\n",
            "2/2 [==============================] - 0s 13ms/step - loss: 1.5473 - accuracy: 0.6176\n",
            "Epoch 55/200\n",
            "2/2 [==============================] - 0s 15ms/step - loss: 1.5026 - accuracy: 0.6176\n",
            "Epoch 56/200\n",
            "2/2 [==============================] - 0s 11ms/step - loss: 1.4397 - accuracy: 0.6765\n",
            "Epoch 57/200\n",
            "2/2 [==============================] - 0s 10ms/step - loss: 1.5839 - accuracy: 0.5000\n",
            "Epoch 58/200\n",
            "2/2 [==============================] - 0s 11ms/step - loss: 1.4542 - accuracy: 0.6176\n",
            "Epoch 59/200\n",
            "2/2 [==============================] - 0s 10ms/step - loss: 1.5343 - accuracy: 0.5000\n",
            "Epoch 60/200\n",
            "2/2 [==============================] - 0s 11ms/step - loss: 1.6029 - accuracy: 0.5294\n",
            "Epoch 61/200\n",
            "2/2 [==============================] - 0s 11ms/step - loss: 1.4558 - accuracy: 0.6471\n",
            "Epoch 62/200\n",
            "2/2 [==============================] - 0s 10ms/step - loss: 1.4461 - accuracy: 0.6176\n",
            "Epoch 63/200\n",
            "2/2 [==============================] - 0s 10ms/step - loss: 1.4235 - accuracy: 0.6765\n",
            "Epoch 64/200\n",
            "2/2 [==============================] - 0s 12ms/step - loss: 1.5195 - accuracy: 0.5882\n",
            "Epoch 65/200\n",
            "2/2 [==============================] - 0s 10ms/step - loss: 1.4091 - accuracy: 0.7353\n",
            "Epoch 66/200\n",
            "2/2 [==============================] - 0s 9ms/step - loss: 1.3969 - accuracy: 0.6176\n",
            "Epoch 67/200\n",
            "2/2 [==============================] - 0s 17ms/step - loss: 1.3000 - accuracy: 0.7941\n",
            "Epoch 68/200\n",
            "2/2 [==============================] - 0s 17ms/step - loss: 1.4797 - accuracy: 0.5294\n",
            "Epoch 69/200\n",
            "2/2 [==============================] - 0s 11ms/step - loss: 1.4495 - accuracy: 0.6176\n",
            "Epoch 70/200\n",
            "2/2 [==============================] - 0s 12ms/step - loss: 1.3184 - accuracy: 0.7353\n",
            "Epoch 71/200\n",
            "2/2 [==============================] - 0s 5ms/step - loss: 1.2824 - accuracy: 0.7059\n",
            "Epoch 72/200\n",
            "2/2 [==============================] - 0s 15ms/step - loss: 1.3149 - accuracy: 0.7059\n",
            "Epoch 73/200\n",
            "2/2 [==============================] - 0s 12ms/step - loss: 1.3593 - accuracy: 0.7353\n",
            "Epoch 74/200\n",
            "2/2 [==============================] - 0s 13ms/step - loss: 1.3890 - accuracy: 0.6176\n",
            "Epoch 75/200\n",
            "2/2 [==============================] - 0s 17ms/step - loss: 1.3614 - accuracy: 0.5882\n",
            "Epoch 76/200\n",
            "2/2 [==============================] - 0s 12ms/step - loss: 1.4139 - accuracy: 0.5882\n",
            "Epoch 77/200\n",
            "2/2 [==============================] - 0s 6ms/step - loss: 1.1688 - accuracy: 0.7647\n",
            "Epoch 78/200\n",
            "2/2 [==============================] - 0s 15ms/step - loss: 1.2304 - accuracy: 0.7353\n",
            "Epoch 79/200\n",
            "2/2 [==============================] - 0s 10ms/step - loss: 1.3037 - accuracy: 0.6765\n",
            "Epoch 80/200\n",
            "2/2 [==============================] - 0s 10ms/step - loss: 1.2850 - accuracy: 0.7059\n",
            "Epoch 81/200\n",
            "2/2 [==============================] - 0s 11ms/step - loss: 1.2730 - accuracy: 0.6471\n",
            "Epoch 82/200\n",
            "2/2 [==============================] - 0s 7ms/step - loss: 1.1926 - accuracy: 0.6471\n",
            "Epoch 83/200\n",
            "2/2 [==============================] - 0s 8ms/step - loss: 1.2926 - accuracy: 0.6176\n",
            "Epoch 84/200\n",
            "2/2 [==============================] - 0s 7ms/step - loss: 1.1028 - accuracy: 0.7059\n",
            "Epoch 85/200\n",
            "2/2 [==============================] - 0s 10ms/step - loss: 1.2239 - accuracy: 0.7059\n",
            "Epoch 86/200\n",
            "2/2 [==============================] - 0s 7ms/step - loss: 1.1833 - accuracy: 0.5882\n",
            "Epoch 87/200\n",
            "2/2 [==============================] - 0s 8ms/step - loss: 1.2610 - accuracy: 0.7059\n",
            "Epoch 88/200\n",
            "2/2 [==============================] - 0s 6ms/step - loss: 1.2003 - accuracy: 0.6176\n",
            "Epoch 89/200\n",
            "2/2 [==============================] - 0s 10ms/step - loss: 1.1972 - accuracy: 0.7647\n",
            "Epoch 90/200\n",
            "2/2 [==============================] - 0s 10ms/step - loss: 1.1224 - accuracy: 0.7941\n",
            "Epoch 91/200\n",
            "2/2 [==============================] - 0s 17ms/step - loss: 1.1229 - accuracy: 0.8529\n",
            "Epoch 92/200\n",
            "2/2 [==============================] - 0s 11ms/step - loss: 1.0352 - accuracy: 0.7353\n",
            "Epoch 93/200\n",
            "2/2 [==============================] - 0s 12ms/step - loss: 1.1711 - accuracy: 0.6765\n",
            "Epoch 94/200\n",
            "2/2 [==============================] - 0s 10ms/step - loss: 1.1290 - accuracy: 0.7059\n",
            "Epoch 95/200\n",
            "2/2 [==============================] - 0s 6ms/step - loss: 1.1125 - accuracy: 0.7647\n",
            "Epoch 96/200\n",
            "2/2 [==============================] - 0s 9ms/step - loss: 1.1716 - accuracy: 0.7059\n",
            "Epoch 97/200\n",
            "2/2 [==============================] - 0s 5ms/step - loss: 1.1842 - accuracy: 0.6471\n",
            "Epoch 98/200\n",
            "2/2 [==============================] - 0s 6ms/step - loss: 1.0654 - accuracy: 0.6471\n",
            "Epoch 99/200\n",
            "2/2 [==============================] - 0s 16ms/step - loss: 1.0842 - accuracy: 0.7647\n",
            "Epoch 100/200\n",
            "2/2 [==============================] - 0s 11ms/step - loss: 1.1356 - accuracy: 0.7059\n",
            "Epoch 101/200\n",
            "2/2 [==============================] - 0s 18ms/step - loss: 0.9808 - accuracy: 0.7647\n",
            "Epoch 102/200\n",
            "2/2 [==============================] - 0s 12ms/step - loss: 1.2131 - accuracy: 0.6176\n",
            "Epoch 103/200\n",
            "2/2 [==============================] - 0s 6ms/step - loss: 0.9831 - accuracy: 0.7941\n",
            "Epoch 104/200\n",
            "2/2 [==============================] - 0s 12ms/step - loss: 1.1269 - accuracy: 0.6765\n",
            "Epoch 105/200\n",
            "2/2 [==============================] - 0s 6ms/step - loss: 1.0162 - accuracy: 0.7353\n",
            "Epoch 106/200\n",
            "2/2 [==============================] - 0s 8ms/step - loss: 0.9134 - accuracy: 0.7941\n",
            "Epoch 107/200\n",
            "2/2 [==============================] - 0s 9ms/step - loss: 0.9591 - accuracy: 0.7941\n",
            "Epoch 108/200\n",
            "2/2 [==============================] - 0s 9ms/step - loss: 0.9457 - accuracy: 0.8824\n",
            "Epoch 109/200\n",
            "2/2 [==============================] - 0s 6ms/step - loss: 0.9345 - accuracy: 0.6765\n",
            "Epoch 110/200\n",
            "2/2 [==============================] - 0s 15ms/step - loss: 1.0193 - accuracy: 0.7647\n",
            "Epoch 111/200\n",
            "2/2 [==============================] - 0s 7ms/step - loss: 0.9574 - accuracy: 0.7941\n",
            "Epoch 112/200\n",
            "2/2 [==============================] - 0s 9ms/step - loss: 0.8943 - accuracy: 0.7941\n",
            "Epoch 113/200\n",
            "2/2 [==============================] - 0s 8ms/step - loss: 0.8435 - accuracy: 0.8235\n",
            "Epoch 114/200\n",
            "2/2 [==============================] - 0s 10ms/step - loss: 0.9293 - accuracy: 0.8529\n",
            "Epoch 115/200\n",
            "2/2 [==============================] - 0s 14ms/step - loss: 1.0374 - accuracy: 0.6176\n",
            "Epoch 116/200\n",
            "2/2 [==============================] - 0s 14ms/step - loss: 1.0154 - accuracy: 0.6471\n",
            "Epoch 117/200\n",
            "2/2 [==============================] - 0s 6ms/step - loss: 0.8526 - accuracy: 0.7647\n",
            "Epoch 118/200\n",
            "2/2 [==============================] - 0s 7ms/step - loss: 0.8656 - accuracy: 0.7941\n",
            "Epoch 119/200\n",
            "2/2 [==============================] - 0s 8ms/step - loss: 0.8730 - accuracy: 0.8235\n",
            "Epoch 120/200\n",
            "2/2 [==============================] - 0s 8ms/step - loss: 0.8375 - accuracy: 0.8824\n",
            "Epoch 121/200\n",
            "2/2 [==============================] - 0s 7ms/step - loss: 0.8602 - accuracy: 0.7353\n",
            "Epoch 122/200\n",
            "2/2 [==============================] - 0s 7ms/step - loss: 0.8831 - accuracy: 0.8235\n",
            "Epoch 123/200\n",
            "2/2 [==============================] - 0s 11ms/step - loss: 0.8220 - accuracy: 0.8529\n",
            "Epoch 124/200\n",
            "2/2 [==============================] - 0s 7ms/step - loss: 0.8687 - accuracy: 0.7941\n",
            "Epoch 125/200\n",
            "2/2 [==============================] - 0s 7ms/step - loss: 0.8188 - accuracy: 0.7647\n",
            "Epoch 126/200\n",
            "2/2 [==============================] - 0s 12ms/step - loss: 0.7416 - accuracy: 0.7941\n",
            "Epoch 127/200\n",
            "2/2 [==============================] - 0s 10ms/step - loss: 0.6974 - accuracy: 0.9118\n",
            "Epoch 128/200\n",
            "2/2 [==============================] - 0s 6ms/step - loss: 0.8677 - accuracy: 0.9118\n",
            "Epoch 129/200\n",
            "2/2 [==============================] - 0s 6ms/step - loss: 0.7960 - accuracy: 0.9412\n",
            "Epoch 130/200\n",
            "2/2 [==============================] - 0s 10ms/step - loss: 0.7238 - accuracy: 0.7941\n",
            "Epoch 131/200\n",
            "2/2 [==============================] - 0s 9ms/step - loss: 0.7507 - accuracy: 0.7941\n",
            "Epoch 132/200\n",
            "2/2 [==============================] - 0s 12ms/step - loss: 0.7677 - accuracy: 0.8529\n",
            "Epoch 133/200\n",
            "2/2 [==============================] - 0s 8ms/step - loss: 0.8527 - accuracy: 0.7941\n",
            "Epoch 134/200\n",
            "2/2 [==============================] - 0s 7ms/step - loss: 0.7879 - accuracy: 0.7941\n",
            "Epoch 135/200\n",
            "2/2 [==============================] - 0s 7ms/step - loss: 0.6762 - accuracy: 0.8824\n",
            "Epoch 136/200\n",
            "2/2 [==============================] - 0s 8ms/step - loss: 0.6672 - accuracy: 0.9118\n",
            "Epoch 137/200\n",
            "2/2 [==============================] - 0s 6ms/step - loss: 0.7188 - accuracy: 0.8529\n",
            "Epoch 138/200\n",
            "2/2 [==============================] - 0s 6ms/step - loss: 0.7180 - accuracy: 0.8529\n",
            "Epoch 139/200\n",
            "2/2 [==============================] - 0s 6ms/step - loss: 0.8009 - accuracy: 0.8529\n",
            "Epoch 140/200\n",
            "2/2 [==============================] - 0s 6ms/step - loss: 0.6321 - accuracy: 0.9118\n",
            "Epoch 141/200\n",
            "2/2 [==============================] - 0s 13ms/step - loss: 0.6915 - accuracy: 0.8529\n",
            "Epoch 142/200\n",
            "2/2 [==============================] - 0s 10ms/step - loss: 0.7351 - accuracy: 0.8529\n",
            "Epoch 143/200\n",
            "2/2 [==============================] - 0s 5ms/step - loss: 0.5583 - accuracy: 0.8824\n",
            "Epoch 144/200\n",
            "2/2 [==============================] - 0s 15ms/step - loss: 0.7680 - accuracy: 0.8235\n",
            "Epoch 145/200\n",
            "2/2 [==============================] - 0s 12ms/step - loss: 0.7306 - accuracy: 0.8824\n",
            "Epoch 146/200\n",
            "2/2 [==============================] - 0s 12ms/step - loss: 0.5731 - accuracy: 0.9412\n",
            "Epoch 147/200\n",
            "2/2 [==============================] - 0s 11ms/step - loss: 0.5652 - accuracy: 0.9118\n",
            "Epoch 148/200\n",
            "2/2 [==============================] - 0s 8ms/step - loss: 0.7217 - accuracy: 0.9118\n",
            "Epoch 149/200\n",
            "2/2 [==============================] - 0s 12ms/step - loss: 0.6738 - accuracy: 0.9118\n",
            "Epoch 150/200\n",
            "2/2 [==============================] - 0s 5ms/step - loss: 0.5388 - accuracy: 0.9118\n",
            "Epoch 151/200\n",
            "2/2 [==============================] - 0s 6ms/step - loss: 0.5763 - accuracy: 0.8529\n",
            "Epoch 152/200\n",
            "2/2 [==============================] - 0s 6ms/step - loss: 0.6337 - accuracy: 0.9118\n",
            "Epoch 153/200\n",
            "2/2 [==============================] - 0s 6ms/step - loss: 0.5383 - accuracy: 0.9412\n",
            "Epoch 154/200\n",
            "2/2 [==============================] - 0s 11ms/step - loss: 0.5010 - accuracy: 0.9706\n",
            "Epoch 155/200\n",
            "2/2 [==============================] - 0s 17ms/step - loss: 0.5740 - accuracy: 0.8529\n",
            "Epoch 156/200\n",
            "2/2 [==============================] - 0s 15ms/step - loss: 0.4483 - accuracy: 0.9412\n",
            "Epoch 157/200\n",
            "2/2 [==============================] - 0s 8ms/step - loss: 0.6000 - accuracy: 0.9118\n",
            "Epoch 158/200\n",
            "2/2 [==============================] - 0s 11ms/step - loss: 0.5301 - accuracy: 0.9706\n",
            "Epoch 159/200\n",
            "2/2 [==============================] - 0s 8ms/step - loss: 0.4981 - accuracy: 0.9412\n",
            "Epoch 160/200\n",
            "2/2 [==============================] - 0s 7ms/step - loss: 0.5594 - accuracy: 0.8529\n",
            "Epoch 161/200\n",
            "2/2 [==============================] - 0s 9ms/step - loss: 0.5658 - accuracy: 0.8824\n",
            "Epoch 162/200\n",
            "2/2 [==============================] - 0s 5ms/step - loss: 0.6043 - accuracy: 0.9118\n",
            "Epoch 163/200\n",
            "2/2 [==============================] - 0s 4ms/step - loss: 0.6000 - accuracy: 0.9118\n",
            "Epoch 164/200\n",
            "2/2 [==============================] - 0s 8ms/step - loss: 0.5915 - accuracy: 0.8529\n",
            "Epoch 165/200\n",
            "2/2 [==============================] - 0s 8ms/step - loss: 0.4603 - accuracy: 0.9118\n",
            "Epoch 166/200\n",
            "2/2 [==============================] - 0s 4ms/step - loss: 0.4413 - accuracy: 0.9412\n",
            "Epoch 167/200\n",
            "2/2 [==============================] - 0s 4ms/step - loss: 0.4093 - accuracy: 0.9118\n",
            "Epoch 168/200\n",
            "2/2 [==============================] - 0s 4ms/step - loss: 0.5860 - accuracy: 0.8824\n",
            "Epoch 169/200\n",
            "2/2 [==============================] - 0s 5ms/step - loss: 0.5155 - accuracy: 0.9118\n",
            "Epoch 170/200\n",
            "2/2 [==============================] - 0s 5ms/step - loss: 0.5005 - accuracy: 0.9118\n",
            "Epoch 171/200\n",
            "2/2 [==============================] - 0s 5ms/step - loss: 0.4547 - accuracy: 0.9412\n",
            "Epoch 172/200\n",
            "2/2 [==============================] - 0s 8ms/step - loss: 0.4708 - accuracy: 0.9706\n",
            "Epoch 173/200\n",
            "2/2 [==============================] - 0s 5ms/step - loss: 0.4506 - accuracy: 0.9706\n",
            "Epoch 174/200\n",
            "2/2 [==============================] - 0s 5ms/step - loss: 0.4794 - accuracy: 0.9118\n",
            "Epoch 175/200\n",
            "2/2 [==============================] - 0s 7ms/step - loss: 0.3818 - accuracy: 0.9706\n",
            "Epoch 176/200\n",
            "2/2 [==============================] - 0s 4ms/step - loss: 0.4040 - accuracy: 0.9412\n",
            "Epoch 177/200\n",
            "2/2 [==============================] - 0s 9ms/step - loss: 0.4803 - accuracy: 0.8824\n",
            "Epoch 178/200\n",
            "2/2 [==============================] - 0s 7ms/step - loss: 0.4267 - accuracy: 0.9706\n",
            "Epoch 179/200\n",
            "2/2 [==============================] - 0s 8ms/step - loss: 0.5519 - accuracy: 0.8529\n",
            "Epoch 180/200\n",
            "2/2 [==============================] - 0s 7ms/step - loss: 0.5320 - accuracy: 0.8824\n",
            "Epoch 181/200\n",
            "2/2 [==============================] - 0s 9ms/step - loss: 0.4942 - accuracy: 0.9118\n",
            "Epoch 182/200\n",
            "2/2 [==============================] - 0s 12ms/step - loss: 0.4182 - accuracy: 0.9412\n",
            "Epoch 183/200\n",
            "2/2 [==============================] - 0s 6ms/step - loss: 0.5180 - accuracy: 0.9118\n",
            "Epoch 184/200\n",
            "2/2 [==============================] - 0s 7ms/step - loss: 0.4499 - accuracy: 0.8824\n",
            "Epoch 185/200\n",
            "2/2 [==============================] - 0s 5ms/step - loss: 0.3489 - accuracy: 0.9412\n",
            "Epoch 186/200\n",
            "2/2 [==============================] - 0s 8ms/step - loss: 0.5077 - accuracy: 0.9412\n",
            "Epoch 187/200\n",
            "2/2 [==============================] - 0s 5ms/step - loss: 0.5004 - accuracy: 0.9118\n",
            "Epoch 188/200\n",
            "2/2 [==============================] - 0s 5ms/step - loss: 0.4623 - accuracy: 0.8824\n",
            "Epoch 189/200\n",
            "2/2 [==============================] - 0s 5ms/step - loss: 0.3964 - accuracy: 1.0000\n",
            "Epoch 190/200\n",
            "2/2 [==============================] - 0s 7ms/step - loss: 0.3810 - accuracy: 0.9706\n",
            "Epoch 191/200\n",
            "2/2 [==============================] - 0s 5ms/step - loss: 0.4787 - accuracy: 0.8824\n",
            "Epoch 192/200\n",
            "2/2 [==============================] - 0s 6ms/step - loss: 0.4648 - accuracy: 0.8824\n",
            "Epoch 193/200\n",
            "2/2 [==============================] - 0s 5ms/step - loss: 0.4244 - accuracy: 0.9412\n",
            "Epoch 194/200\n",
            "2/2 [==============================] - 0s 5ms/step - loss: 0.3400 - accuracy: 0.9706\n",
            "Epoch 195/200\n",
            "2/2 [==============================] - 0s 5ms/step - loss: 0.3770 - accuracy: 0.8529\n",
            "Epoch 196/200\n",
            "2/2 [==============================] - 0s 5ms/step - loss: 0.4846 - accuracy: 0.8824\n",
            "Epoch 197/200\n",
            "2/2 [==============================] - 0s 5ms/step - loss: 0.3690 - accuracy: 1.0000\n",
            "Epoch 198/200\n",
            "2/2 [==============================] - 0s 5ms/step - loss: 0.4021 - accuracy: 0.9706\n",
            "Epoch 199/200\n",
            "2/2 [==============================] - 0s 5ms/step - loss: 0.2986 - accuracy: 0.9706\n",
            "Epoch 200/200\n",
            "2/2 [==============================] - 0s 9ms/step - loss: 0.3088 - accuracy: 1.0000\n"
          ]
        }
      ]
    },
    {
      "cell_type": "code",
      "metadata": {
        "colab": {
          "base_uri": "https://localhost:8080/",
          "height": 265
        },
        "id": "mzWmDpAV4Xm_",
        "outputId": "3484bade-5521-423b-f4ac-5663b8857e5a"
      },
      "source": [
        "# Entrenamiento\n",
        "epoch_count = range(1, len(hist.history['accuracy']) + 1)\n",
        "sns.lineplot(x=epoch_count,  y=hist.history['accuracy'], label='train')\n",
        "plt.show()"
      ],
      "execution_count": 16,
      "outputs": [
        {
          "output_type": "display_data",
          "data": {
            "image/png": "[encoded data removed]",
            "text/plain": [
              "<Figure size 432x288 with 1 Axes>"
            ]
          },
          "metadata": {
            "needs_background": "light"
          }
        }
      ]
    },
    {
      "cell_type": "code",
      "metadata": {
        "id": "_djA5zBU4gip"
      },
      "source": [
        "# Guardar lo necesario para poder re-utilizar este modelo en el futuro\n",
        "# el vocabulario utilizado (words)\n",
        "# las posibles clases\n",
        "# el modelo\n",
        "\n",
        "import pickle\n",
        "pickle.dump(words, open('words.pkl','wb'))\n",
        "pickle.dump(classes, open('classes.pkl','wb'))\n",
        "model.save('chatbot_model.h5')"
      ],
      "execution_count": 17,
      "outputs": []
    },
    {
      "cell_type": "markdown",
      "metadata": {
        "id": "IDovZ3544jv_"
      },
      "source": [
        "# 7 - Testing y validación"
      ]
    },
    {
      "cell_type": "code",
      "metadata": {
        "id": "_bxevS3PCvgt"
      },
      "source": [
        "def doc_to_terminos(doc):\n",
        "  tokens = nlp(preprocess_clean_text(doc.lower()))\n",
        "  terminos = []\n",
        "  for token in tokens:\n",
        "      if token.lemma_ not in nltk_stop_words:\n",
        "        terminos.append(token.lemma_)\n",
        "  return terminos\n",
        "\n",
        "\n",
        "def calc_TF_IDF(doc,vocab,IDF):\n",
        "  terminos = doc_to_terminos(doc)\n",
        "  TF = FreqVector(terminos,vocab)\n",
        "  TF_IDF = TF*IDF\n",
        "  \n",
        "  return TF_IDF\n",
        "\n",
        "def pred_class(doc,vocab,labels,IDF):\n",
        "  TF_IDF = calc_TF_IDF(doc,vocab,IDF)\n",
        "  words_recognized = sum(TF_IDF)\n",
        "\n",
        "  return_list = []\n",
        "  if words_recognized > 0:\n",
        "    result = model.predict(np.array([TF_IDF]))[0]\n",
        "    thresh = 0.2\n",
        "    y_pred = [[idx, res] for idx, res in enumerate(result) if res > thresh]\n",
        "    y_pred.sort(key=lambda x: x[1], reverse=True)\n",
        "\n",
        "    for r in y_pred:\n",
        "      return_list.append(labels[r[0]])\n",
        "      #print(labels[r[0]], r[1])\n",
        "\n",
        "  return return_list\n",
        "\n",
        "def get_response(intents_list, intents_json):\n",
        "  tag = intents_list[0]\n",
        "  list_of_intents = intents_json[\"intents\"]\n",
        "  for i in list_of_intents: \n",
        "      if i[\"tag\"] == tag:\n",
        "          result = \"BOT: \" + random.choice(i[\"responses\"])\n",
        "          break\n",
        "  return result"
      ],
      "execution_count": 18,
      "outputs": []
    },
    {
      "cell_type": "code",
      "metadata": {
        "colab": {
          "base_uri": "https://localhost:8080/",
          "height": 1000
        },
        "id": "nSTL-XdS4onz",
        "outputId": "a35a6b13-f0bf-4ec8-a393-3281f25048b1"
      },
      "source": [
        "while True:\n",
        "    message = input(\"\")\n",
        "    intents = pred_class(doc=message, vocab=vocab, labels=classes,IDF=IDF)\n",
        "    if len(intents) > 0:\n",
        "        result = get_response(intents, dataset)\n",
        "        print(result)\n",
        "    else:\n",
        "        print(\"Perdón, no comprendo la pregunta.\")"
      ],
      "execution_count": 19,
      "outputs": [
        {
          "name": "stdout",
          "output_type": "stream",
          "text": [
            "Buen día\n",
            "BOT: Hola!\n",
            "Quién está ahí?\n",
            "Perdón, no comprendo la pregunta.\n",
            "Quién\n",
            "Perdón, no comprendo la pregunta.\n",
            "Cómo es tu nombre\n",
            "BOT: Mi nombre es TiendaPro\n",
            "Quién sos\n",
            "BOT: Mi nombre es TiendaPro\n",
            "No me pagaron\n",
            "BOT: Encontrá todos los detalles de nuestras promos en el siguiente link: abc123.com\n",
            "ok hasta cuando funciona\n",
            "BOT: Encontrá todos los detalles de nuestras promos en el siguiente link: abc123.com\n",
            "tuve un inconveniente\n",
            "BOT: Contactanos al whatsapp 1112221133 para revisar tu caso en forma particular\n",
            "ok pero tengo que pagar algo?\n",
            "BOT: El servicio es GRATIS!\n",
            "Buenísimo y cómo me anoto?\n",
            "Perdón, no comprendo la pregunta.\n",
            "que como me registro\n",
            "BOT: En el siguiente link podrás encontrar un instructivo para registrarte fácilmente\n",
            "Buenísimo muchas gracias\n",
            "BOT: Por nada!, cualquier otra consulta podes escribirme nuevamente\n",
            "Dale genial hasta luego\n"
          ]
        },
        {
          "output_type": "stream",
          "name": "stderr",
          "text": [
            "/usr/local/lib/python3.7/dist-packages/ipykernel_launcher.py:2: UserWarning: Due to multiword token expansion or an alignment issue, the original text has been replaced by space-separated expanded tokens.\n",
            "  \n",
            "/usr/local/lib/python3.7/dist-packages/ipykernel_launcher.py:2: UserWarning: Can't set named entities because of multi-word token expansion or because the character offsets don't map to valid tokens produced by the Stanza tokenizer:\n",
            "Words: ['da', 'ele', 'genial', 'hasta', 'luego']\n",
            "Entities: []\n",
            "  \n"
          ]
        },
        {
          "output_type": "stream",
          "name": "stdout",
          "text": [
            "BOT: Hasta luego!\n"
          ]
        },
        {
          "output_type": "error",
          "ename": "KeyboardInterrupt",
          "evalue": "ignored",
          "traceback": [
            "\u001b[0;31m---------------------------------------------------------------------------\u001b[0m",
            "\u001b[0;31mKeyboardInterrupt\u001b[0m                         Traceback (most recent call last)",
            "\u001b[0;32m/usr/local/lib/python3.7/dist-packages/ipykernel/kernelbase.py\u001b[0m in \u001b[0;36m_input_request\u001b[0;34m(self, prompt, ident, parent, password)\u001b[0m\n\u001b[1;32m    728\u001b[0m             \u001b[0;32mtry\u001b[0m\u001b[0;34m:\u001b[0m\u001b[0;34m\u001b[0m\u001b[0;34m\u001b[0m\u001b[0m\n\u001b[0;32m--> 729\u001b[0;31m                 \u001b[0mident\u001b[0m\u001b[0;34m,\u001b[0m \u001b[0mreply\u001b[0m \u001b[0;34m=\u001b[0m \u001b[0mself\u001b[0m\u001b[0;34m.\u001b[0m\u001b[0msession\u001b[0m\u001b[0;34m.\u001b[0m\u001b[0mrecv\u001b[0m\u001b[0;34m(\u001b[0m\u001b[0mself\u001b[0m\u001b[0;34m.\u001b[0m\u001b[0mstdin_socket\u001b[0m\u001b[0;34m,\u001b[0m \u001b[0;36m0\u001b[0m\u001b[0;34m)\u001b[0m\u001b[0;34m\u001b[0m\u001b[0;34m\u001b[0m\u001b[0m\n\u001b[0m\u001b[1;32m    730\u001b[0m             \u001b[0;32mexcept\u001b[0m \u001b[0mException\u001b[0m\u001b[0;34m:\u001b[0m\u001b[0;34m\u001b[0m\u001b[0;34m\u001b[0m\u001b[0m\n",
            "\u001b[0;32m/usr/local/lib/python3.7/dist-packages/jupyter_client/session.py\u001b[0m in \u001b[0;36mrecv\u001b[0;34m(self, socket, mode, content, copy)\u001b[0m\n\u001b[1;32m    802\u001b[0m         \u001b[0;32mtry\u001b[0m\u001b[0;34m:\u001b[0m\u001b[0;34m\u001b[0m\u001b[0;34m\u001b[0m\u001b[0m\n\u001b[0;32m--> 803\u001b[0;31m             \u001b[0mmsg_list\u001b[0m \u001b[0;34m=\u001b[0m \u001b[0msocket\u001b[0m\u001b[0;34m.\u001b[0m\u001b[0mrecv_multipart\u001b[0m\u001b[0;34m(\u001b[0m\u001b[0mmode\u001b[0m\u001b[0;34m,\u001b[0m \u001b[0mcopy\u001b[0m\u001b[0;34m=\u001b[0m\u001b[0mcopy\u001b[0m\u001b[0;34m)\u001b[0m\u001b[0;34m\u001b[0m\u001b[0;34m\u001b[0m\u001b[0m\n\u001b[0m\u001b[1;32m    804\u001b[0m         \u001b[0;32mexcept\u001b[0m \u001b[0mzmq\u001b[0m\u001b[0;34m.\u001b[0m\u001b[0mZMQError\u001b[0m \u001b[0;32mas\u001b[0m \u001b[0me\u001b[0m\u001b[0;34m:\u001b[0m\u001b[0;34m\u001b[0m\u001b[0;34m\u001b[0m\u001b[0m\n",
            "\u001b[0;32m/usr/local/lib/python3.7/dist-packages/zmq/sugar/socket.py\u001b[0m in \u001b[0;36mrecv_multipart\u001b[0;34m(self, flags, copy, track)\u001b[0m\n\u001b[1;32m    618\u001b[0m         \"\"\"\n\u001b[0;32m--> 619\u001b[0;31m         \u001b[0mparts\u001b[0m \u001b[0;34m=\u001b[0m \u001b[0;34m[\u001b[0m\u001b[0mself\u001b[0m\u001b[0;34m.\u001b[0m\u001b[0mrecv\u001b[0m\u001b[0;34m(\u001b[0m\u001b[0mflags\u001b[0m\u001b[0;34m,\u001b[0m \u001b[0mcopy\u001b[0m\u001b[0;34m=\u001b[0m\u001b[0mcopy\u001b[0m\u001b[0;34m,\u001b[0m \u001b[0mtrack\u001b[0m\u001b[0;34m=\u001b[0m\u001b[0mtrack\u001b[0m\u001b[0;34m)\u001b[0m\u001b[0;34m]\u001b[0m\u001b[0;34m\u001b[0m\u001b[0;34m\u001b[0m\u001b[0m\n\u001b[0m\u001b[1;32m    620\u001b[0m         \u001b[0;31m# have first part already, only loop while more to receive\u001b[0m\u001b[0;34m\u001b[0m\u001b[0;34m\u001b[0m\u001b[0;34m\u001b[0m\u001b[0m\n",
            "\u001b[0;32mzmq/backend/cython/socket.pyx\u001b[0m in \u001b[0;36mzmq.backend.cython.socket.Socket.recv\u001b[0;34m()\u001b[0m\n",
            "\u001b[0;32mzmq/backend/cython/socket.pyx\u001b[0m in \u001b[0;36mzmq.backend.cython.socket.Socket.recv\u001b[0;34m()\u001b[0m\n",
            "\u001b[0;32mzmq/backend/cython/socket.pyx\u001b[0m in \u001b[0;36mzmq.backend.cython.socket._recv_copy\u001b[0;34m()\u001b[0m\n",
            "\u001b[0;32m/usr/local/lib/python3.7/dist-packages/zmq/backend/cython/checkrc.pxd\u001b[0m in \u001b[0;36mzmq.backend.cython.checkrc._check_rc\u001b[0;34m()\u001b[0m\n",
            "\u001b[0;31mKeyboardInterrupt\u001b[0m: ",
            "\nDuring handling of the above exception, another exception occurred:\n",
            "\u001b[0;31mKeyboardInterrupt\u001b[0m                         Traceback (most recent call last)",
            "\u001b[0;32m<ipython-input-19-66a6e7abf19b>\u001b[0m in \u001b[0;36m<module>\u001b[0;34m()\u001b[0m\n\u001b[1;32m      1\u001b[0m \u001b[0;32mwhile\u001b[0m \u001b[0;32mTrue\u001b[0m\u001b[0;34m:\u001b[0m\u001b[0;34m\u001b[0m\u001b[0;34m\u001b[0m\u001b[0m\n\u001b[0;32m----> 2\u001b[0;31m     \u001b[0mmessage\u001b[0m \u001b[0;34m=\u001b[0m \u001b[0minput\u001b[0m\u001b[0;34m(\u001b[0m\u001b[0;34m\"\"\u001b[0m\u001b[0;34m)\u001b[0m\u001b[0;34m\u001b[0m\u001b[0;34m\u001b[0m\u001b[0m\n\u001b[0m\u001b[1;32m      3\u001b[0m     \u001b[0mintents\u001b[0m \u001b[0;34m=\u001b[0m \u001b[0mpred_class\u001b[0m\u001b[0;34m(\u001b[0m\u001b[0mdoc\u001b[0m\u001b[0;34m=\u001b[0m\u001b[0mmessage\u001b[0m\u001b[0;34m,\u001b[0m \u001b[0mvocab\u001b[0m\u001b[0;34m=\u001b[0m\u001b[0mvocab\u001b[0m\u001b[0;34m,\u001b[0m \u001b[0mlabels\u001b[0m\u001b[0;34m=\u001b[0m\u001b[0mclasses\u001b[0m\u001b[0;34m,\u001b[0m\u001b[0mIDF\u001b[0m\u001b[0;34m=\u001b[0m\u001b[0mIDF\u001b[0m\u001b[0;34m)\u001b[0m\u001b[0;34m\u001b[0m\u001b[0;34m\u001b[0m\u001b[0m\n\u001b[1;32m      4\u001b[0m     \u001b[0;32mif\u001b[0m \u001b[0mlen\u001b[0m\u001b[0;34m(\u001b[0m\u001b[0mintents\u001b[0m\u001b[0;34m)\u001b[0m \u001b[0;34m>\u001b[0m \u001b[0;36m0\u001b[0m\u001b[0;34m:\u001b[0m\u001b[0;34m\u001b[0m\u001b[0;34m\u001b[0m\u001b[0m\n\u001b[1;32m      5\u001b[0m         \u001b[0mresult\u001b[0m \u001b[0;34m=\u001b[0m \u001b[0mget_response\u001b[0m\u001b[0;34m(\u001b[0m\u001b[0mintents\u001b[0m\u001b[0;34m,\u001b[0m \u001b[0mdataset\u001b[0m\u001b[0;34m)\u001b[0m\u001b[0;34m\u001b[0m\u001b[0;34m\u001b[0m\u001b[0m\n",
            "\u001b[0;32m/usr/local/lib/python3.7/dist-packages/ipykernel/kernelbase.py\u001b[0m in \u001b[0;36mraw_input\u001b[0;34m(self, prompt)\u001b[0m\n\u001b[1;32m    702\u001b[0m             \u001b[0mself\u001b[0m\u001b[0;34m.\u001b[0m\u001b[0m_parent_ident\u001b[0m\u001b[0;34m,\u001b[0m\u001b[0;34m\u001b[0m\u001b[0;34m\u001b[0m\u001b[0m\n\u001b[1;32m    703\u001b[0m             \u001b[0mself\u001b[0m\u001b[0;34m.\u001b[0m\u001b[0m_parent_header\u001b[0m\u001b[0;34m,\u001b[0m\u001b[0;34m\u001b[0m\u001b[0;34m\u001b[0m\u001b[0m\n\u001b[0;32m--> 704\u001b[0;31m             \u001b[0mpassword\u001b[0m\u001b[0;34m=\u001b[0m\u001b[0;32mFalse\u001b[0m\u001b[0;34m,\u001b[0m\u001b[0;34m\u001b[0m\u001b[0;34m\u001b[0m\u001b[0m\n\u001b[0m\u001b[1;32m    705\u001b[0m         )\n\u001b[1;32m    706\u001b[0m \u001b[0;34m\u001b[0m\u001b[0m\n",
            "\u001b[0;32m/usr/local/lib/python3.7/dist-packages/ipykernel/kernelbase.py\u001b[0m in \u001b[0;36m_input_request\u001b[0;34m(self, prompt, ident, parent, password)\u001b[0m\n\u001b[1;32m    732\u001b[0m             \u001b[0;32mexcept\u001b[0m \u001b[0mKeyboardInterrupt\u001b[0m\u001b[0;34m:\u001b[0m\u001b[0;34m\u001b[0m\u001b[0;34m\u001b[0m\u001b[0m\n\u001b[1;32m    733\u001b[0m                 \u001b[0;31m# re-raise KeyboardInterrupt, to truncate traceback\u001b[0m\u001b[0;34m\u001b[0m\u001b[0;34m\u001b[0m\u001b[0;34m\u001b[0m\u001b[0m\n\u001b[0;32m--> 734\u001b[0;31m                 \u001b[0;32mraise\u001b[0m \u001b[0mKeyboardInterrupt\u001b[0m\u001b[0;34m\u001b[0m\u001b[0;34m\u001b[0m\u001b[0m\n\u001b[0m\u001b[1;32m    735\u001b[0m             \u001b[0;32melse\u001b[0m\u001b[0;34m:\u001b[0m\u001b[0;34m\u001b[0m\u001b[0;34m\u001b[0m\u001b[0m\n\u001b[1;32m    736\u001b[0m                 \u001b[0;32mbreak\u001b[0m\u001b[0;34m\u001b[0m\u001b[0;34m\u001b[0m\u001b[0m\n",
            "\u001b[0;31mKeyboardInterrupt\u001b[0m: "
          ]
        }
      ]
    }
  ]
}